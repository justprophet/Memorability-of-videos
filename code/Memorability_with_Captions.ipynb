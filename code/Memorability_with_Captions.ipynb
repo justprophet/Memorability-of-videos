{
  "nbformat": 4,
  "nbformat_minor": 0,
  "metadata": {
    "colab": {
      "name": "Memorability_with_Captions.ipynb",
      "version": "0.3.2",
      "provenance": [],
      "collapsed_sections": [],
      "include_colab_link": true
    },
    "kernelspec": {
      "name": "python3",
      "display_name": "Python 3"
    }
  },
  "cells": [
    {
      "cell_type": "markdown",
      "metadata": {
        "id": "view-in-github",
        "colab_type": "text"
      },
      "source": [
        "<a href=\"https://colab.research.google.com/github/justprophet/Memorability-of-videos/blob/master/code/Memorability_with_Captions.ipynb\" target=\"_parent\"><img src=\"https://colab.research.google.com/assets/colab-badge.svg\" alt=\"Open In Colab\"/></a>"
      ]
    },
    {
      "metadata": {
        "id": "GlLRy-eGpW_R",
        "colab_type": "text"
      },
      "cell_type": "markdown",
      "source": [
        "#Spearman Coefficient"
      ]
    },
    {
      "metadata": {
        "id": "Hnt-pb8SpVnb",
        "colab_type": "code",
        "colab": {}
      },
      "cell_type": "code",
      "source": [
        "def Get_score(Y_pred,Y_true):\n",
        "    '''Calculate the Spearmann\"s correlation coefficient'''\n",
        "    Y_pred = np.squeeze(Y_pred)\n",
        "    Y_true = np.squeeze(Y_true)\n",
        "    if Y_pred.shape != Y_true.shape:\n",
        "        print('Input shapes don\\'t match!')\n",
        "    else:\n",
        "        if len(Y_pred.shape) == 1:\n",
        "            Res = pd.DataFrame({'Y_true':Y_true,'Y_pred':Y_pred})\n",
        "            score_mat = Res[['Y_true','Y_pred']].corr(method='spearman',min_periods=1)\n",
        "            print('The Spearman\\'s correlation coefficient is: %.3f' % score_mat.iloc[1][0])\n",
        "        else:\n",
        "            for ii in range(Y_pred.shape[1]):\n",
        "                Get_score(Y_pred[:,ii],Y_true[:,ii])"
      ],
      "execution_count": 0,
      "outputs": []
    },
    {
      "metadata": {
        "id": "p8e4MC17MbLt",
        "colab_type": "text"
      },
      "cell_type": "markdown",
      "source": [
        "# Mounting the drive"
      ]
    },
    {
      "metadata": {
        "id": "gmHGm8KkJhpH",
        "colab_type": "code",
        "outputId": "f7b120f2-44cf-403e-b577-767431e7454d",
        "colab": {
          "base_uri": "https://localhost:8080/",
          "height": 34
        }
      },
      "cell_type": "code",
      "source": [
        "from google.colab import drive\n",
        "import os\n",
        "drive.mount('/content/drive/')\n",
        "os.chdir('/content/drive/My Drive/Semester 2/Machine Learning/Assignment/')"
      ],
      "execution_count": 0,
      "outputs": [
        {
          "output_type": "stream",
          "text": [
            "Drive already mounted at /content/drive/; to attempt to forcibly remount, call drive.mount(\"/content/drive/\", force_remount=True).\n"
          ],
          "name": "stdout"
        }
      ]
    },
    {
      "metadata": {
        "id": "PQs8xyqWMMqd",
        "colab_type": "code",
        "outputId": "2cc9859d-ec1b-4c23-9d22-be7fd1113914",
        "colab": {
          "base_uri": "https://localhost:8080/",
          "height": 34
        }
      },
      "cell_type": "code",
      "source": [
        "!pip install pyprind"
      ],
      "execution_count": 0,
      "outputs": [
        {
          "output_type": "stream",
          "text": [
            "Requirement already satisfied: pyprind in /usr/local/lib/python3.6/dist-packages (2.11.2)\n"
          ],
          "name": "stdout"
        }
      ]
    },
    {
      "metadata": {
        "id": "djqGxsKKQgSe",
        "colab_type": "text"
      },
      "cell_type": "markdown",
      "source": [
        "# Importing Libraries"
      ]
    },
    {
      "metadata": {
        "id": "BUoJ716BNQy7",
        "colab_type": "code",
        "outputId": "457fe246-9e03-47a7-8170-1f6b622549d7",
        "colab": {
          "base_uri": "https://localhost:8080/",
          "height": 34
        }
      },
      "cell_type": "code",
      "source": [
        "import pandas as pd\n",
        "import keras\n",
        "from keras.layers import Dense\n",
        "from keras.models import Sequential\n",
        "from keras.optimizers import SGD\n",
        "# Import EarlyStopping\n",
        "from keras.callbacks import EarlyStopping\n",
        "from sklearn.model_selection import train_test_split\n",
        "from sklearn.feature_extraction.text import CountVectorizer\n",
        "from sklearn.feature_extraction.text import TfidfVectorizer\n",
        "\n",
        "\n",
        "import numpy as np\n",
        "from string import punctuation\n",
        "import pyprind\n",
        "from collections import Counter\n",
        "#from keras.preprocessing.text import Tokenizer\n",
        "import matplotlib.pyplot as plt"
      ],
      "execution_count": 0,
      "outputs": [
        {
          "output_type": "stream",
          "text": [
            "Using TensorFlow backend.\n"
          ],
          "name": "stderr"
        }
      ]
    },
    {
      "metadata": {
        "id": "1FzRQ83snVRb",
        "colab_type": "text"
      },
      "cell_type": "markdown",
      "source": [
        "# Load Captions and Video Memorability from the two files"
      ]
    },
    {
      "metadata": {
        "id": "PIxKRIl5m41H",
        "colab_type": "code",
        "colab": {}
      },
      "cell_type": "code",
      "source": [
        "# load labels and captions\n",
        "def read_caps(fname):\n",
        "    \"\"\"Load the captions into a dataframe\"\"\"\n",
        "    vn = []\n",
        "    cap = []\n",
        "    df = pd.DataFrame();\n",
        "    with open(fname) as f:\n",
        "        for line in f:\n",
        "            pairs = line.split()\n",
        "            vn.append(pairs[0])\n",
        "            cap.append(pairs[1])\n",
        "        df['video']=vn\n",
        "        df['caption']=cap\n",
        "    return df\n",
        "\n",
        "\n",
        "# load the captions\n",
        "cap_path = './dev-set_video-captions.txt'\n",
        "df_captions=read_caps(cap_path)\n",
        "\n",
        "# load the ground truth values\n",
        "label_path = './'\n",
        "labels=pd.read_csv(label_path+'dev-set_ground-truth.csv')"
      ],
      "execution_count": 0,
      "outputs": []
    },
    {
      "metadata": {
        "id": "lYAInr8mrWnI",
        "colab_type": "text"
      },
      "cell_type": "markdown",
      "source": [
        "Joining the dataframes."
      ]
    },
    {
      "metadata": {
        "id": "jCotH3F1rVv6",
        "colab_type": "code",
        "outputId": "8114f114-0915-4b50-adc0-90d51537742a",
        "colab": {
          "base_uri": "https://localhost:8080/",
          "height": 2156
        }
      },
      "cell_type": "code",
      "source": [
        "df = df_captions.merge(labels,on=[\"video\"],how=\"inner\")\n",
        "df"
      ],
      "execution_count": 0,
      "outputs": [
        {
          "output_type": "execute_result",
          "data": {
            "text/html": [
              "<div>\n",
              "<style scoped>\n",
              "    .dataframe tbody tr th:only-of-type {\n",
              "        vertical-align: middle;\n",
              "    }\n",
              "\n",
              "    .dataframe tbody tr th {\n",
              "        vertical-align: top;\n",
              "    }\n",
              "\n",
              "    .dataframe thead th {\n",
              "        text-align: right;\n",
              "    }\n",
              "</style>\n",
              "<table border=\"1\" class=\"dataframe\">\n",
              "  <thead>\n",
              "    <tr style=\"text-align: right;\">\n",
              "      <th></th>\n",
              "      <th>video</th>\n",
              "      <th>caption</th>\n",
              "      <th>short-term_memorability</th>\n",
              "      <th>nb_short-term_annotations</th>\n",
              "      <th>long-term_memorability</th>\n",
              "      <th>nb_long-term_annotations</th>\n",
              "    </tr>\n",
              "  </thead>\n",
              "  <tbody>\n",
              "    <tr>\n",
              "      <th>0</th>\n",
              "      <td>video3.webm</td>\n",
              "      <td>blonde-woman-is-massaged-tilt-down</td>\n",
              "      <td>0.924</td>\n",
              "      <td>34</td>\n",
              "      <td>0.846</td>\n",
              "      <td>13</td>\n",
              "    </tr>\n",
              "    <tr>\n",
              "      <th>1</th>\n",
              "      <td>video4.webm</td>\n",
              "      <td>roulette-table-spinning-with-ball-in-closeup-shot</td>\n",
              "      <td>0.923</td>\n",
              "      <td>33</td>\n",
              "      <td>0.667</td>\n",
              "      <td>12</td>\n",
              "    </tr>\n",
              "    <tr>\n",
              "      <th>2</th>\n",
              "      <td>video6.webm</td>\n",
              "      <td>khr-gangsters</td>\n",
              "      <td>0.863</td>\n",
              "      <td>33</td>\n",
              "      <td>0.700</td>\n",
              "      <td>10</td>\n",
              "    </tr>\n",
              "    <tr>\n",
              "      <th>3</th>\n",
              "      <td>video8.webm</td>\n",
              "      <td>medical-helicopter-hovers-at-airport</td>\n",
              "      <td>0.922</td>\n",
              "      <td>33</td>\n",
              "      <td>0.818</td>\n",
              "      <td>11</td>\n",
              "    </tr>\n",
              "    <tr>\n",
              "      <th>4</th>\n",
              "      <td>video10.webm</td>\n",
              "      <td>couple-relaxing-on-picnic-crane-shot</td>\n",
              "      <td>0.950</td>\n",
              "      <td>34</td>\n",
              "      <td>0.900</td>\n",
              "      <td>10</td>\n",
              "    </tr>\n",
              "    <tr>\n",
              "      <th>5</th>\n",
              "      <td>video12.webm</td>\n",
              "      <td>passing-by-older-man-reading</td>\n",
              "      <td>0.783</td>\n",
              "      <td>74</td>\n",
              "      <td>0.750</td>\n",
              "      <td>12</td>\n",
              "    </tr>\n",
              "    <tr>\n",
              "      <th>6</th>\n",
              "      <td>video13.webm</td>\n",
              "      <td>christmas-village-and-national-christmas-tree</td>\n",
              "      <td>0.861</td>\n",
              "      <td>40</td>\n",
              "      <td>0.700</td>\n",
              "      <td>10</td>\n",
              "    </tr>\n",
              "    <tr>\n",
              "      <th>7</th>\n",
              "      <td>video16.webm</td>\n",
              "      <td>unhappy-friends-looking-for-something-interest...</td>\n",
              "      <td>0.834</td>\n",
              "      <td>33</td>\n",
              "      <td>0.857</td>\n",
              "      <td>14</td>\n",
              "    </tr>\n",
              "    <tr>\n",
              "      <th>8</th>\n",
              "      <td>video17.webm</td>\n",
              "      <td>hoover-dam-tourists-traffic</td>\n",
              "      <td>0.777</td>\n",
              "      <td>43</td>\n",
              "      <td>1.000</td>\n",
              "      <td>11</td>\n",
              "    </tr>\n",
              "    <tr>\n",
              "      <th>9</th>\n",
              "      <td>video18.webm</td>\n",
              "      <td>happy-girl-stretching-and-relaxing-on-the-station</td>\n",
              "      <td>0.863</td>\n",
              "      <td>33</td>\n",
              "      <td>1.000</td>\n",
              "      <td>9</td>\n",
              "    </tr>\n",
              "    <tr>\n",
              "      <th>10</th>\n",
              "      <td>video19.webm</td>\n",
              "      <td>bread-on-the-conveyor</td>\n",
              "      <td>0.980</td>\n",
              "      <td>55</td>\n",
              "      <td>0.917</td>\n",
              "      <td>12</td>\n",
              "    </tr>\n",
              "    <tr>\n",
              "      <th>11</th>\n",
              "      <td>video20.webm</td>\n",
              "      <td>close-up-on-racks-of-computer-equipment-with-f...</td>\n",
              "      <td>0.955</td>\n",
              "      <td>40</td>\n",
              "      <td>0.636</td>\n",
              "      <td>11</td>\n",
              "    </tr>\n",
              "    <tr>\n",
              "      <th>12</th>\n",
              "      <td>video21.webm</td>\n",
              "      <td>modern-family-overdue-burn-wife</td>\n",
              "      <td>0.830</td>\n",
              "      <td>32</td>\n",
              "      <td>0.769</td>\n",
              "      <td>13</td>\n",
              "    </tr>\n",
              "    <tr>\n",
              "      <th>13</th>\n",
              "      <td>video22.webm</td>\n",
              "      <td>woman-tweeting-on-the-phone-in-the-street-rest...</td>\n",
              "      <td>0.859</td>\n",
              "      <td>32</td>\n",
              "      <td>0.800</td>\n",
              "      <td>10</td>\n",
              "    </tr>\n",
              "    <tr>\n",
              "      <th>14</th>\n",
              "      <td>video23.webm</td>\n",
              "      <td>videoblocks-a-woman-who-is-model-released-poin...</td>\n",
              "      <td>0.923</td>\n",
              "      <td>67</td>\n",
              "      <td>0.826</td>\n",
              "      <td>23</td>\n",
              "    </tr>\n",
              "    <tr>\n",
              "      <th>15</th>\n",
              "      <td>video25.webm</td>\n",
              "      <td>bird-on-barren-twig-with-ruins-in-background</td>\n",
              "      <td>0.660</td>\n",
              "      <td>58</td>\n",
              "      <td>0.400</td>\n",
              "      <td>10</td>\n",
              "    </tr>\n",
              "    <tr>\n",
              "      <th>16</th>\n",
              "      <td>video26.webm</td>\n",
              "      <td>two-walking-businessman</td>\n",
              "      <td>0.863</td>\n",
              "      <td>42</td>\n",
              "      <td>0.636</td>\n",
              "      <td>11</td>\n",
              "    </tr>\n",
              "    <tr>\n",
              "      <th>17</th>\n",
              "      <td>video27.webm</td>\n",
              "      <td>timelapse-of-snow-mountains</td>\n",
              "      <td>0.388</td>\n",
              "      <td>33</td>\n",
              "      <td>0.647</td>\n",
              "      <td>17</td>\n",
              "    </tr>\n",
              "    <tr>\n",
              "      <th>18</th>\n",
              "      <td>video28.webm</td>\n",
              "      <td>african-hartebeest-coming-out-of-water</td>\n",
              "      <td>0.788</td>\n",
              "      <td>40</td>\n",
              "      <td>0.800</td>\n",
              "      <td>10</td>\n",
              "    </tr>\n",
              "    <tr>\n",
              "      <th>19</th>\n",
              "      <td>video29.webm</td>\n",
              "      <td>potter-works-crockery-creation-process-in-pott...</td>\n",
              "      <td>0.920</td>\n",
              "      <td>32</td>\n",
              "      <td>0.933</td>\n",
              "      <td>15</td>\n",
              "    </tr>\n",
              "    <tr>\n",
              "      <th>20</th>\n",
              "      <td>video30.webm</td>\n",
              "      <td>couple-relaxing-in-their-new-flat</td>\n",
              "      <td>0.954</td>\n",
              "      <td>33</td>\n",
              "      <td>0.727</td>\n",
              "      <td>11</td>\n",
              "    </tr>\n",
              "    <tr>\n",
              "      <th>21</th>\n",
              "      <td>video31.webm</td>\n",
              "      <td>happy-couple-relaxing-under-the-tree-shadow</td>\n",
              "      <td>0.923</td>\n",
              "      <td>32</td>\n",
              "      <td>0.938</td>\n",
              "      <td>16</td>\n",
              "    </tr>\n",
              "    <tr>\n",
              "      <th>22</th>\n",
              "      <td>video32.webm</td>\n",
              "      <td>grandmother-walks-with-her-grandson-in-a-baby-...</td>\n",
              "      <td>0.772</td>\n",
              "      <td>33</td>\n",
              "      <td>0.636</td>\n",
              "      <td>11</td>\n",
              "    </tr>\n",
              "    <tr>\n",
              "      <th>23</th>\n",
              "      <td>video33.webm</td>\n",
              "      <td>business-report-at-the-meeting</td>\n",
              "      <td>0.814</td>\n",
              "      <td>35</td>\n",
              "      <td>0.909</td>\n",
              "      <td>11</td>\n",
              "    </tr>\n",
              "    <tr>\n",
              "      <th>24</th>\n",
              "      <td>video34.webm</td>\n",
              "      <td>female-friends-drinking-coffee-and-chatting-on...</td>\n",
              "      <td>0.862</td>\n",
              "      <td>32</td>\n",
              "      <td>0.778</td>\n",
              "      <td>9</td>\n",
              "    </tr>\n",
              "    <tr>\n",
              "      <th>25</th>\n",
              "      <td>video35.webm</td>\n",
              "      <td>petco-park-baseball-stadium</td>\n",
              "      <td>0.861</td>\n",
              "      <td>32</td>\n",
              "      <td>0.727</td>\n",
              "      <td>11</td>\n",
              "    </tr>\n",
              "    <tr>\n",
              "      <th>26</th>\n",
              "      <td>video36.webm</td>\n",
              "      <td>airport-terminal</td>\n",
              "      <td>0.822</td>\n",
              "      <td>31</td>\n",
              "      <td>0.818</td>\n",
              "      <td>11</td>\n",
              "    </tr>\n",
              "    <tr>\n",
              "      <th>27</th>\n",
              "      <td>video37.webm</td>\n",
              "      <td>group-of-kids-playing-soccer-in-africa</td>\n",
              "      <td>0.835</td>\n",
              "      <td>33</td>\n",
              "      <td>0.833</td>\n",
              "      <td>12</td>\n",
              "    </tr>\n",
              "    <tr>\n",
              "      <th>28</th>\n",
              "      <td>video38.webm</td>\n",
              "      <td>family-of-three-playing-on-pad</td>\n",
              "      <td>0.840</td>\n",
              "      <td>34</td>\n",
              "      <td>0.692</td>\n",
              "      <td>13</td>\n",
              "    </tr>\n",
              "    <tr>\n",
              "      <th>29</th>\n",
              "      <td>video39.webm</td>\n",
              "      <td>hare-bounding-through-snow</td>\n",
              "      <td>0.900</td>\n",
              "      <td>36</td>\n",
              "      <td>0.700</td>\n",
              "      <td>10</td>\n",
              "    </tr>\n",
              "    <tr>\n",
              "      <th>...</th>\n",
              "      <td>...</td>\n",
              "      <td>...</td>\n",
              "      <td>...</td>\n",
              "      <td>...</td>\n",
              "      <td>...</td>\n",
              "      <td>...</td>\n",
              "    </tr>\n",
              "    <tr>\n",
              "      <th>5970</th>\n",
              "      <td>video7454.webm</td>\n",
              "      <td>laser-cutting-machine-at-work-dolly-shot</td>\n",
              "      <td>0.799</td>\n",
              "      <td>32</td>\n",
              "      <td>0.900</td>\n",
              "      <td>10</td>\n",
              "    </tr>\n",
              "    <tr>\n",
              "      <th>5971</th>\n",
              "      <td>video7456.webm</td>\n",
              "      <td>rnyk-boston--ac</td>\n",
              "      <td>0.840</td>\n",
              "      <td>34</td>\n",
              "      <td>0.692</td>\n",
              "      <td>13</td>\n",
              "    </tr>\n",
              "    <tr>\n",
              "      <th>5972</th>\n",
              "      <td>video7457.webm</td>\n",
              "      <td>of-people-pets-dog-sitter-with-alsatian-dogs-i...</td>\n",
              "      <td>0.983</td>\n",
              "      <td>34</td>\n",
              "      <td>0.846</td>\n",
              "      <td>13</td>\n",
              "    </tr>\n",
              "    <tr>\n",
              "      <th>5973</th>\n",
              "      <td>video7458.webm</td>\n",
              "      <td>boy-kicking-soccer-ball-in-arched-alley-at-night</td>\n",
              "      <td>0.836</td>\n",
              "      <td>34</td>\n",
              "      <td>0.909</td>\n",
              "      <td>11</td>\n",
              "    </tr>\n",
              "    <tr>\n",
              "      <th>5974</th>\n",
              "      <td>video7461.webm</td>\n",
              "      <td>boy-taking-a-cookie-from-the-plate</td>\n",
              "      <td>0.863</td>\n",
              "      <td>33</td>\n",
              "      <td>0.917</td>\n",
              "      <td>12</td>\n",
              "    </tr>\n",
              "    <tr>\n",
              "      <th>5975</th>\n",
              "      <td>video7462.webm</td>\n",
              "      <td>slow-motion-male-tennis-serve</td>\n",
              "      <td>0.748</td>\n",
              "      <td>34</td>\n",
              "      <td>0.533</td>\n",
              "      <td>15</td>\n",
              "    </tr>\n",
              "    <tr>\n",
              "      <th>5976</th>\n",
              "      <td>video7463.webm</td>\n",
              "      <td>woman-drinking-water-from-a-bottle-next-to-the...</td>\n",
              "      <td>0.952</td>\n",
              "      <td>33</td>\n",
              "      <td>0.700</td>\n",
              "      <td>10</td>\n",
              "    </tr>\n",
              "    <tr>\n",
              "      <th>5977</th>\n",
              "      <td>video7465.webm</td>\n",
              "      <td>close-up-of-womans-back-being-massaged</td>\n",
              "      <td>0.980</td>\n",
              "      <td>32</td>\n",
              "      <td>0.786</td>\n",
              "      <td>14</td>\n",
              "    </tr>\n",
              "    <tr>\n",
              "      <th>5978</th>\n",
              "      <td>video7466.webm</td>\n",
              "      <td>young-people-on-the-beach</td>\n",
              "      <td>0.894</td>\n",
              "      <td>34</td>\n",
              "      <td>0.909</td>\n",
              "      <td>22</td>\n",
              "    </tr>\n",
              "    <tr>\n",
              "      <th>5979</th>\n",
              "      <td>video7468.webm</td>\n",
              "      <td>dealer-shuffling-and-fanning-cards</td>\n",
              "      <td>0.719</td>\n",
              "      <td>34</td>\n",
              "      <td>0.923</td>\n",
              "      <td>13</td>\n",
              "    </tr>\n",
              "    <tr>\n",
              "      <th>5980</th>\n",
              "      <td>video7469.webm</td>\n",
              "      <td>woman-texting-while-working-from-home</td>\n",
              "      <td>0.807</td>\n",
              "      <td>34</td>\n",
              "      <td>0.941</td>\n",
              "      <td>17</td>\n",
              "    </tr>\n",
              "    <tr>\n",
              "      <th>5981</th>\n",
              "      <td>video7470.webm</td>\n",
              "      <td>mountain-biking-man-pedal-down-trail-lift-above</td>\n",
              "      <td>0.865</td>\n",
              "      <td>34</td>\n",
              "      <td>0.765</td>\n",
              "      <td>17</td>\n",
              "    </tr>\n",
              "    <tr>\n",
              "      <th>5982</th>\n",
              "      <td>video7471.webm</td>\n",
              "      <td>woman-standing-in-kitchen-and-eating-cornflakes</td>\n",
              "      <td>0.864</td>\n",
              "      <td>33</td>\n",
              "      <td>0.846</td>\n",
              "      <td>13</td>\n",
              "    </tr>\n",
              "    <tr>\n",
              "      <th>5983</th>\n",
              "      <td>video7472.webm</td>\n",
              "      <td>african-american-man-shacking-hands-with-partn...</td>\n",
              "      <td>0.922</td>\n",
              "      <td>33</td>\n",
              "      <td>0.727</td>\n",
              "      <td>11</td>\n",
              "    </tr>\n",
              "    <tr>\n",
              "      <th>5984</th>\n",
              "      <td>video7473.webm</td>\n",
              "      <td>business-man-and-woman-fighting-over-documents</td>\n",
              "      <td>0.828</td>\n",
              "      <td>32</td>\n",
              "      <td>0.800</td>\n",
              "      <td>15</td>\n",
              "    </tr>\n",
              "    <tr>\n",
              "      <th>5985</th>\n",
              "      <td>video7474.webm</td>\n",
              "      <td>young-couple-sitting-in-cafe-or-restaurant-the...</td>\n",
              "      <td>0.842</td>\n",
              "      <td>35</td>\n",
              "      <td>0.800</td>\n",
              "      <td>10</td>\n",
              "    </tr>\n",
              "    <tr>\n",
              "      <th>5986</th>\n",
              "      <td>video7475.webm</td>\n",
              "      <td>tracking-longof-a-young-boy-flying-a-kite-in-t...</td>\n",
              "      <td>0.741</td>\n",
              "      <td>33</td>\n",
              "      <td>0.850</td>\n",
              "      <td>20</td>\n",
              "    </tr>\n",
              "    <tr>\n",
              "      <th>5987</th>\n",
              "      <td>video7477.webm</td>\n",
              "      <td>young-family-splashing-in-the-sea-with-their-s...</td>\n",
              "      <td>0.927</td>\n",
              "      <td>34</td>\n",
              "      <td>0.897</td>\n",
              "      <td>29</td>\n",
              "    </tr>\n",
              "    <tr>\n",
              "      <th>5988</th>\n",
              "      <td>video7478.webm</td>\n",
              "      <td>handheldshowing-a-business-environment-and-two...</td>\n",
              "      <td>0.892</td>\n",
              "      <td>33</td>\n",
              "      <td>0.833</td>\n",
              "      <td>12</td>\n",
              "    </tr>\n",
              "    <tr>\n",
              "      <th>5989</th>\n",
              "      <td>video7479.webm</td>\n",
              "      <td>super-slow-motion-bald-eagle-flying</td>\n",
              "      <td>0.839</td>\n",
              "      <td>34</td>\n",
              "      <td>0.800</td>\n",
              "      <td>10</td>\n",
              "    </tr>\n",
              "    <tr>\n",
              "      <th>5990</th>\n",
              "      <td>video7480.webm</td>\n",
              "      <td>meerkat-playing-in-dirt</td>\n",
              "      <td>0.889</td>\n",
              "      <td>32</td>\n",
              "      <td>0.833</td>\n",
              "      <td>12</td>\n",
              "    </tr>\n",
              "    <tr>\n",
              "      <th>5991</th>\n",
              "      <td>video7481.webm</td>\n",
              "      <td>cotton-zoom-out</td>\n",
              "      <td>0.923</td>\n",
              "      <td>32</td>\n",
              "      <td>0.846</td>\n",
              "      <td>13</td>\n",
              "    </tr>\n",
              "    <tr>\n",
              "      <th>5992</th>\n",
              "      <td>video7483.webm</td>\n",
              "      <td>white-and-gray-cat-playing-with-string-toy</td>\n",
              "      <td>0.812</td>\n",
              "      <td>40</td>\n",
              "      <td>0.800</td>\n",
              "      <td>10</td>\n",
              "    </tr>\n",
              "    <tr>\n",
              "      <th>5993</th>\n",
              "      <td>video7485.webm</td>\n",
              "      <td>civil-war-unknown-grave-closeup</td>\n",
              "      <td>0.922</td>\n",
              "      <td>33</td>\n",
              "      <td>0.833</td>\n",
              "      <td>12</td>\n",
              "    </tr>\n",
              "    <tr>\n",
              "      <th>5994</th>\n",
              "      <td>video7486.webm</td>\n",
              "      <td>frantic-dog-on-leash</td>\n",
              "      <td>0.800</td>\n",
              "      <td>32</td>\n",
              "      <td>0.636</td>\n",
              "      <td>11</td>\n",
              "    </tr>\n",
              "    <tr>\n",
              "      <th>5995</th>\n",
              "      <td>video7488.webm</td>\n",
              "      <td>beautiful-young-woman-in-front-of-fountains</td>\n",
              "      <td>0.921</td>\n",
              "      <td>33</td>\n",
              "      <td>1.000</td>\n",
              "      <td>9</td>\n",
              "    </tr>\n",
              "    <tr>\n",
              "      <th>5996</th>\n",
              "      <td>video7489.webm</td>\n",
              "      <td>focus-pull-from-molting-penguin-to-penguin-col...</td>\n",
              "      <td>0.909</td>\n",
              "      <td>53</td>\n",
              "      <td>0.839</td>\n",
              "      <td>31</td>\n",
              "    </tr>\n",
              "    <tr>\n",
              "      <th>5997</th>\n",
              "      <td>video7491.webm</td>\n",
              "      <td>students-walking-in-university-of-mexico</td>\n",
              "      <td>0.713</td>\n",
              "      <td>33</td>\n",
              "      <td>0.818</td>\n",
              "      <td>11</td>\n",
              "    </tr>\n",
              "    <tr>\n",
              "      <th>5998</th>\n",
              "      <td>video7492.webm</td>\n",
              "      <td>beautiful-black-woman-at-spa</td>\n",
              "      <td>0.954</td>\n",
              "      <td>34</td>\n",
              "      <td>1.000</td>\n",
              "      <td>16</td>\n",
              "    </tr>\n",
              "    <tr>\n",
              "      <th>5999</th>\n",
              "      <td>video7493.webm</td>\n",
              "      <td>beautiful-modern-brunette-woman-using-tablet-c...</td>\n",
              "      <td>0.953</td>\n",
              "      <td>33</td>\n",
              "      <td>0.615</td>\n",
              "      <td>13</td>\n",
              "    </tr>\n",
              "  </tbody>\n",
              "</table>\n",
              "<p>6000 rows × 6 columns</p>\n",
              "</div>"
            ],
            "text/plain": [
              "               video                                            caption  \\\n",
              "0        video3.webm                 blonde-woman-is-massaged-tilt-down   \n",
              "1        video4.webm  roulette-table-spinning-with-ball-in-closeup-shot   \n",
              "2        video6.webm                                      khr-gangsters   \n",
              "3        video8.webm               medical-helicopter-hovers-at-airport   \n",
              "4       video10.webm               couple-relaxing-on-picnic-crane-shot   \n",
              "5       video12.webm                       passing-by-older-man-reading   \n",
              "6       video13.webm      christmas-village-and-national-christmas-tree   \n",
              "7       video16.webm  unhappy-friends-looking-for-something-interest...   \n",
              "8       video17.webm                        hoover-dam-tourists-traffic   \n",
              "9       video18.webm  happy-girl-stretching-and-relaxing-on-the-station   \n",
              "10      video19.webm                              bread-on-the-conveyor   \n",
              "11      video20.webm  close-up-on-racks-of-computer-equipment-with-f...   \n",
              "12      video21.webm                    modern-family-overdue-burn-wife   \n",
              "13      video22.webm  woman-tweeting-on-the-phone-in-the-street-rest...   \n",
              "14      video23.webm  videoblocks-a-woman-who-is-model-released-poin...   \n",
              "15      video25.webm       bird-on-barren-twig-with-ruins-in-background   \n",
              "16      video26.webm                            two-walking-businessman   \n",
              "17      video27.webm                        timelapse-of-snow-mountains   \n",
              "18      video28.webm             african-hartebeest-coming-out-of-water   \n",
              "19      video29.webm  potter-works-crockery-creation-process-in-pott...   \n",
              "20      video30.webm                  couple-relaxing-in-their-new-flat   \n",
              "21      video31.webm        happy-couple-relaxing-under-the-tree-shadow   \n",
              "22      video32.webm  grandmother-walks-with-her-grandson-in-a-baby-...   \n",
              "23      video33.webm                     business-report-at-the-meeting   \n",
              "24      video34.webm  female-friends-drinking-coffee-and-chatting-on...   \n",
              "25      video35.webm                        petco-park-baseball-stadium   \n",
              "26      video36.webm                                   airport-terminal   \n",
              "27      video37.webm             group-of-kids-playing-soccer-in-africa   \n",
              "28      video38.webm                     family-of-three-playing-on-pad   \n",
              "29      video39.webm                         hare-bounding-through-snow   \n",
              "...              ...                                                ...   \n",
              "5970  video7454.webm           laser-cutting-machine-at-work-dolly-shot   \n",
              "5971  video7456.webm                                    rnyk-boston--ac   \n",
              "5972  video7457.webm  of-people-pets-dog-sitter-with-alsatian-dogs-i...   \n",
              "5973  video7458.webm   boy-kicking-soccer-ball-in-arched-alley-at-night   \n",
              "5974  video7461.webm                 boy-taking-a-cookie-from-the-plate   \n",
              "5975  video7462.webm                      slow-motion-male-tennis-serve   \n",
              "5976  video7463.webm  woman-drinking-water-from-a-bottle-next-to-the...   \n",
              "5977  video7465.webm             close-up-of-womans-back-being-massaged   \n",
              "5978  video7466.webm                          young-people-on-the-beach   \n",
              "5979  video7468.webm                 dealer-shuffling-and-fanning-cards   \n",
              "5980  video7469.webm              woman-texting-while-working-from-home   \n",
              "5981  video7470.webm    mountain-biking-man-pedal-down-trail-lift-above   \n",
              "5982  video7471.webm    woman-standing-in-kitchen-and-eating-cornflakes   \n",
              "5983  video7472.webm  african-american-man-shacking-hands-with-partn...   \n",
              "5984  video7473.webm     business-man-and-woman-fighting-over-documents   \n",
              "5985  video7474.webm  young-couple-sitting-in-cafe-or-restaurant-the...   \n",
              "5986  video7475.webm  tracking-longof-a-young-boy-flying-a-kite-in-t...   \n",
              "5987  video7477.webm  young-family-splashing-in-the-sea-with-their-s...   \n",
              "5988  video7478.webm  handheldshowing-a-business-environment-and-two...   \n",
              "5989  video7479.webm                super-slow-motion-bald-eagle-flying   \n",
              "5990  video7480.webm                            meerkat-playing-in-dirt   \n",
              "5991  video7481.webm                                    cotton-zoom-out   \n",
              "5992  video7483.webm         white-and-gray-cat-playing-with-string-toy   \n",
              "5993  video7485.webm                    civil-war-unknown-grave-closeup   \n",
              "5994  video7486.webm                               frantic-dog-on-leash   \n",
              "5995  video7488.webm        beautiful-young-woman-in-front-of-fountains   \n",
              "5996  video7489.webm  focus-pull-from-molting-penguin-to-penguin-col...   \n",
              "5997  video7491.webm           students-walking-in-university-of-mexico   \n",
              "5998  video7492.webm                       beautiful-black-woman-at-spa   \n",
              "5999  video7493.webm  beautiful-modern-brunette-woman-using-tablet-c...   \n",
              "\n",
              "      short-term_memorability  nb_short-term_annotations  \\\n",
              "0                       0.924                         34   \n",
              "1                       0.923                         33   \n",
              "2                       0.863                         33   \n",
              "3                       0.922                         33   \n",
              "4                       0.950                         34   \n",
              "5                       0.783                         74   \n",
              "6                       0.861                         40   \n",
              "7                       0.834                         33   \n",
              "8                       0.777                         43   \n",
              "9                       0.863                         33   \n",
              "10                      0.980                         55   \n",
              "11                      0.955                         40   \n",
              "12                      0.830                         32   \n",
              "13                      0.859                         32   \n",
              "14                      0.923                         67   \n",
              "15                      0.660                         58   \n",
              "16                      0.863                         42   \n",
              "17                      0.388                         33   \n",
              "18                      0.788                         40   \n",
              "19                      0.920                         32   \n",
              "20                      0.954                         33   \n",
              "21                      0.923                         32   \n",
              "22                      0.772                         33   \n",
              "23                      0.814                         35   \n",
              "24                      0.862                         32   \n",
              "25                      0.861                         32   \n",
              "26                      0.822                         31   \n",
              "27                      0.835                         33   \n",
              "28                      0.840                         34   \n",
              "29                      0.900                         36   \n",
              "...                       ...                        ...   \n",
              "5970                    0.799                         32   \n",
              "5971                    0.840                         34   \n",
              "5972                    0.983                         34   \n",
              "5973                    0.836                         34   \n",
              "5974                    0.863                         33   \n",
              "5975                    0.748                         34   \n",
              "5976                    0.952                         33   \n",
              "5977                    0.980                         32   \n",
              "5978                    0.894                         34   \n",
              "5979                    0.719                         34   \n",
              "5980                    0.807                         34   \n",
              "5981                    0.865                         34   \n",
              "5982                    0.864                         33   \n",
              "5983                    0.922                         33   \n",
              "5984                    0.828                         32   \n",
              "5985                    0.842                         35   \n",
              "5986                    0.741                         33   \n",
              "5987                    0.927                         34   \n",
              "5988                    0.892                         33   \n",
              "5989                    0.839                         34   \n",
              "5990                    0.889                         32   \n",
              "5991                    0.923                         32   \n",
              "5992                    0.812                         40   \n",
              "5993                    0.922                         33   \n",
              "5994                    0.800                         32   \n",
              "5995                    0.921                         33   \n",
              "5996                    0.909                         53   \n",
              "5997                    0.713                         33   \n",
              "5998                    0.954                         34   \n",
              "5999                    0.953                         33   \n",
              "\n",
              "      long-term_memorability  nb_long-term_annotations  \n",
              "0                      0.846                        13  \n",
              "1                      0.667                        12  \n",
              "2                      0.700                        10  \n",
              "3                      0.818                        11  \n",
              "4                      0.900                        10  \n",
              "5                      0.750                        12  \n",
              "6                      0.700                        10  \n",
              "7                      0.857                        14  \n",
              "8                      1.000                        11  \n",
              "9                      1.000                         9  \n",
              "10                     0.917                        12  \n",
              "11                     0.636                        11  \n",
              "12                     0.769                        13  \n",
              "13                     0.800                        10  \n",
              "14                     0.826                        23  \n",
              "15                     0.400                        10  \n",
              "16                     0.636                        11  \n",
              "17                     0.647                        17  \n",
              "18                     0.800                        10  \n",
              "19                     0.933                        15  \n",
              "20                     0.727                        11  \n",
              "21                     0.938                        16  \n",
              "22                     0.636                        11  \n",
              "23                     0.909                        11  \n",
              "24                     0.778                         9  \n",
              "25                     0.727                        11  \n",
              "26                     0.818                        11  \n",
              "27                     0.833                        12  \n",
              "28                     0.692                        13  \n",
              "29                     0.700                        10  \n",
              "...                      ...                       ...  \n",
              "5970                   0.900                        10  \n",
              "5971                   0.692                        13  \n",
              "5972                   0.846                        13  \n",
              "5973                   0.909                        11  \n",
              "5974                   0.917                        12  \n",
              "5975                   0.533                        15  \n",
              "5976                   0.700                        10  \n",
              "5977                   0.786                        14  \n",
              "5978                   0.909                        22  \n",
              "5979                   0.923                        13  \n",
              "5980                   0.941                        17  \n",
              "5981                   0.765                        17  \n",
              "5982                   0.846                        13  \n",
              "5983                   0.727                        11  \n",
              "5984                   0.800                        15  \n",
              "5985                   0.800                        10  \n",
              "5986                   0.850                        20  \n",
              "5987                   0.897                        29  \n",
              "5988                   0.833                        12  \n",
              "5989                   0.800                        10  \n",
              "5990                   0.833                        12  \n",
              "5991                   0.846                        13  \n",
              "5992                   0.800                        10  \n",
              "5993                   0.833                        12  \n",
              "5994                   0.636                        11  \n",
              "5995                   1.000                         9  \n",
              "5996                   0.839                        31  \n",
              "5997                   0.818                        11  \n",
              "5998                   1.000                        16  \n",
              "5999                   0.615                        13  \n",
              "\n",
              "[6000 rows x 6 columns]"
            ]
          },
          "metadata": {
            "tags": []
          },
          "execution_count": 6
        }
      ]
    },
    {
      "metadata": {
        "id": "TC8txnsUtZJI",
        "colab_type": "text"
      },
      "cell_type": "markdown",
      "source": [
        "#Using Count Vecorizer"
      ]
    },
    {
      "metadata": {
        "id": "y1ntZT97tXJC",
        "colab_type": "code",
        "colab": {}
      },
      "cell_type": "code",
      "source": [
        "cv=CountVectorizer()"
      ],
      "execution_count": 0,
      "outputs": []
    },
    {
      "metadata": {
        "id": "v5o1hPrCtzYi",
        "colab_type": "code",
        "colab": {}
      },
      "cell_type": "code",
      "source": [
        "X_CV=cv.fit_transform(df['caption'])"
      ],
      "execution_count": 0,
      "outputs": []
    },
    {
      "metadata": {
        "id": "KEae08druLUp",
        "colab_type": "code",
        "outputId": "42b5ac19-4e6e-44ae-896d-9fbf6c13b2d9",
        "colab": {
          "base_uri": "https://localhost:8080/",
          "height": 136
        }
      },
      "cell_type": "code",
      "source": [
        "X_arrseq=X_CV.toarray()\n",
        "X_arrseq"
      ],
      "execution_count": 0,
      "outputs": [
        {
          "output_type": "execute_result",
          "data": {
            "text/plain": [
              "array([[0, 0, 0, ..., 0, 0, 0],\n",
              "       [0, 0, 0, ..., 0, 0, 0],\n",
              "       [0, 0, 0, ..., 0, 0, 0],\n",
              "       ...,\n",
              "       [0, 0, 0, ..., 0, 0, 0],\n",
              "       [0, 0, 0, ..., 0, 0, 0],\n",
              "       [0, 0, 0, ..., 0, 0, 0]], dtype=int64)"
            ]
          },
          "metadata": {
            "tags": []
          },
          "execution_count": 9
        }
      ]
    },
    {
      "metadata": {
        "id": "qRskNd_eufYA",
        "colab_type": "code",
        "outputId": "ab1dabe3-bd24-4f65-bdb4-e174706ba83c",
        "colab": {
          "base_uri": "https://localhost:8080/",
          "height": 34
        }
      },
      "cell_type": "code",
      "source": [
        "print(X_arrseq[0])"
      ],
      "execution_count": 0,
      "outputs": [
        {
          "output_type": "stream",
          "text": [
            "[0 0 0 ... 0 0 0]\n"
          ],
          "name": "stdout"
        }
      ]
    },
    {
      "metadata": {
        "id": "EJTnn9fwqjSj",
        "colab_type": "text"
      },
      "cell_type": "markdown",
      "source": [
        "# Splitting the Data in Train and Test"
      ]
    },
    {
      "metadata": {
        "id": "lP93OqhOqheQ",
        "colab_type": "code",
        "colab": {}
      },
      "cell_type": "code",
      "source": [
        "Y=df[['short-term_memorability','long-term_memorability']].values  #targets\n",
        "X=X_arrseq #input"
      ],
      "execution_count": 0,
      "outputs": []
    },
    {
      "metadata": {
        "id": "ybW9dMS0ppUP",
        "colab_type": "code",
        "colab": {}
      },
      "cell_type": "code",
      "source": [
        "X_train, X_test, Y_train, Y_test = train_test_split(X,Y, test_size=0.2, random_state=42) # random state for reproducability"
      ],
      "execution_count": 0,
      "outputs": []
    },
    {
      "metadata": {
        "id": "VbvZ8ajVnios",
        "colab_type": "code",
        "outputId": "4bd96560-115b-4483-bafb-eb226122883b",
        "colab": {
          "base_uri": "https://localhost:8080/",
          "height": 85
        }
      },
      "cell_type": "code",
      "source": [
        "print('X_train', X_train.shape)\n",
        "print('X_test', X_test.shape)\n",
        "print('Y_train', Y_train.shape)\n",
        "print('Y_test', Y_test.shape)"
      ],
      "execution_count": 0,
      "outputs": [
        {
          "output_type": "stream",
          "text": [
            "X_train (4800, 5174)\n",
            "X_test (1200, 5174)\n",
            "Y_train (4800, 2)\n",
            "Y_test (1200, 2)\n"
          ],
          "name": "stdout"
        }
      ]
    },
    {
      "metadata": {
        "id": "J913noGBvRG0",
        "colab_type": "text"
      },
      "cell_type": "markdown",
      "source": [
        "# Construction of Neural Networks"
      ]
    },
    {
      "metadata": {
        "id": "PEX0z-bJ27Th",
        "colab_type": "code",
        "outputId": "b92fcec0-faee-4fd7-eba2-ca0cb212e549",
        "colab": {
          "base_uri": "https://localhost:8080/",
          "height": 34
        }
      },
      "cell_type": "code",
      "source": [
        "n_cols = X_train.shape[1]\n",
        "n_cols"
      ],
      "execution_count": 0,
      "outputs": [
        {
          "output_type": "execute_result",
          "data": {
            "text/plain": [
              "5174"
            ]
          },
          "metadata": {
            "tags": []
          },
          "execution_count": 14
        }
      ]
    },
    {
      "metadata": {
        "id": "epM5H6BhvHdL",
        "colab_type": "code",
        "colab": {}
      },
      "cell_type": "code",
      "source": [
        "# Save the number of columns in predictors: n_cols\n",
        "\n",
        "\n",
        "# Set up the model: model\n",
        "model = Sequential()"
      ],
      "execution_count": 0,
      "outputs": []
    },
    {
      "metadata": {
        "id": "x83vuwVF3XbG",
        "colab_type": "code",
        "outputId": "ecf9b00f-ab61-4ecb-c072-22bf4d8510f6",
        "colab": {
          "base_uri": "https://localhost:8080/",
          "height": 88
        }
      },
      "cell_type": "code",
      "source": [
        "# Add the first layer\n",
        "model.add(Dense(100, activation='relu', input_shape=(n_cols,)))"
      ],
      "execution_count": 0,
      "outputs": [
        {
          "output_type": "stream",
          "text": [
            "WARNING:tensorflow:From /usr/local/lib/python3.6/dist-packages/tensorflow/python/framework/op_def_library.py:263: colocate_with (from tensorflow.python.framework.ops) is deprecated and will be removed in a future version.\n",
            "Instructions for updating:\n",
            "Colocations handled automatically by placer.\n"
          ],
          "name": "stdout"
        }
      ]
    },
    {
      "metadata": {
        "id": "aX2iW1fawlVi",
        "colab_type": "code",
        "colab": {}
      },
      "cell_type": "code",
      "source": [
        "# Add the second layer\n",
        "model.add(Dense(100, activation='relu'))"
      ],
      "execution_count": 0,
      "outputs": []
    },
    {
      "metadata": {
        "id": "bbMCFekq3uZS",
        "colab_type": "code",
        "colab": {}
      },
      "cell_type": "code",
      "source": [
        "# Add the output layer\n",
        "model.add(Dense(2))"
      ],
      "execution_count": 0,
      "outputs": []
    },
    {
      "metadata": {
        "id": "zgiDZNJFh8Su",
        "colab_type": "text"
      },
      "cell_type": "markdown",
      "source": [
        "#Changing optimization parameters"
      ]
    },
    {
      "metadata": {
        "id": "OfvYMRfih7aA",
        "colab_type": "code",
        "outputId": "ac26367d-d851-4454-b6e5-8efa6f4bae1f",
        "colab": {
          "base_uri": "https://localhost:8080/",
          "height": 275
        }
      },
      "cell_type": "code",
      "source": [
        "# Compile the model\n",
        "model.compile(optimizer='adam', loss='mean_squared_error', metrics=['accuracy'])\n",
        "   \n",
        "# Define early_stopping_monitor\n",
        "early_stopping_monitor = EarlyStopping(patience=2)\n",
        "    \n",
        "# Fit the model\n",
        "#model.fit(X_train,Y_train,epochs=20,validation_data=(X_test,Y_test))\n",
        "# Fit the model\n",
        "history=model.fit(X_train, Y_train, validation_split=0.3, epochs=30, callbacks= [early_stopping_monitor])"
      ],
      "execution_count": 0,
      "outputs": [
        {
          "output_type": "stream",
          "text": [
            "WARNING:tensorflow:From /usr/local/lib/python3.6/dist-packages/tensorflow/python/ops/math_ops.py:3066: to_int32 (from tensorflow.python.ops.math_ops) is deprecated and will be removed in a future version.\n",
            "Instructions for updating:\n",
            "Use tf.cast instead.\n",
            "Train on 3360 samples, validate on 1440 samples\n",
            "Epoch 1/30\n",
            "3360/3360 [==============================] - 1s 432us/step - loss: 0.1257 - acc: 0.5842 - val_loss: 0.0216 - val_acc: 0.6750\n",
            "Epoch 2/30\n",
            "3360/3360 [==============================] - 1s 384us/step - loss: 0.0160 - acc: 0.7158 - val_loss: 0.0186 - val_acc: 0.6493\n",
            "Epoch 3/30\n",
            "3360/3360 [==============================] - 1s 375us/step - loss: 0.0087 - acc: 0.7685 - val_loss: 0.0184 - val_acc: 0.6833\n",
            "Epoch 4/30\n",
            "3360/3360 [==============================] - 1s 372us/step - loss: 0.0062 - acc: 0.8071 - val_loss: 0.0185 - val_acc: 0.6778\n",
            "Epoch 5/30\n",
            "3360/3360 [==============================] - 1s 370us/step - loss: 0.0050 - acc: 0.8360 - val_loss: 0.0190 - val_acc: 0.6542\n"
          ],
          "name": "stdout"
        }
      ]
    },
    {
      "metadata": {
        "id": "tvUv_SvX3xix",
        "colab_type": "code",
        "colab": {}
      },
      "cell_type": "code",
      "source": [
        "# Compile the model\n",
        "#model.compile(optimizer='adam', loss = 'mean_squared_error')"
      ],
      "execution_count": 0,
      "outputs": []
    },
    {
      "metadata": {
        "id": "V6oM9eMK38V-",
        "colab_type": "code",
        "colab": {}
      },
      "cell_type": "code",
      "source": [
        "# Verify that model contains information from compiling\n",
        "#print(\"Loss function: \" + model.loss)"
      ],
      "execution_count": 0,
      "outputs": []
    },
    {
      "metadata": {
        "id": "K-EwnY7G4C_R",
        "colab_type": "code",
        "colab": {}
      },
      "cell_type": "code",
      "source": [
        "# Fit the model\n",
        "#history = model.fit(X_train,Y_train,epochs=20,validation_data=(X_test,Y_test))"
      ],
      "execution_count": 0,
      "outputs": []
    },
    {
      "metadata": {
        "id": "PPpS7aYL4p6B",
        "colab_type": "code",
        "outputId": "0801085f-cace-44ce-b101-59c7a7c019d6",
        "colab": {
          "base_uri": "https://localhost:8080/",
          "height": 376
        }
      },
      "cell_type": "code",
      "source": [
        "loss = history.history['loss']\n",
        "val_loss = history.history['val_loss']\n",
        "\n",
        "epochs = range(1,len(loss)+1)\n",
        "\n",
        "plt.plot(epochs,loss,'bo',label='Training loss')\n",
        "plt.plot(epochs,val_loss,'b',label='Validation loss')\n",
        "plt.title('Training and validation loss')\n",
        "plt.xlabel('Epochs')\n",
        "plt.ylabel('Loss')\n",
        "plt.legend()\n",
        "plt.show()"
      ],
      "execution_count": 0,
      "outputs": [
        {
          "output_type": "display_data",
          "data": {
            "image/png": "[encoded data removed]",
            "text/plain": [
              "<Figure size 576x396 with 1 Axes>"
            ]
          },
          "metadata": {
            "tags": []
          }
        }
      ]
    },
    {
      "metadata": {
        "id": "2ifvrkgD4srh",
        "colab_type": "code",
        "outputId": "187634bc-fbf6-4875-8a89-b7bd601ea458",
        "colab": {
          "base_uri": "https://localhost:8080/",
          "height": 170
        }
      },
      "cell_type": "code",
      "source": [
        "predictions = model.predict(X_test)\n",
        "print(predictions)\n",
        "Get_score(predictions, Y_test) # Try remember what the Spearman scores actually mean!\n"
      ],
      "execution_count": 0,
      "outputs": [
        {
          "output_type": "stream",
          "text": [
            "[[0.8799533  0.7568781 ]\n",
            " [1.0280266  0.9772646 ]\n",
            " [0.8758796  0.7280882 ]\n",
            " ...\n",
            " [0.96437544 0.9807859 ]\n",
            " [0.8173879  0.7274594 ]\n",
            " [0.7923419  0.61887515]]\n",
            "The Spearman's correlation coefficient is: 0.319\n",
            "The Spearman's correlation coefficient is: 0.122\n"
          ],
          "name": "stdout"
        }
      ]
    },
    {
      "metadata": {
        "id": "JXfmyFi47_PI",
        "colab_type": "text"
      },
      "cell_type": "markdown",
      "source": [
        "\n",
        "\n",
        "# Using TFIDF Algorithm"
      ]
    },
    {
      "metadata": {
        "id": "-NxRQ0pa8G5I",
        "colab_type": "code",
        "colab": {}
      },
      "cell_type": "code",
      "source": [
        "tfidf=TfidfVectorizer(min_df=1, stop_words='english')"
      ],
      "execution_count": 0,
      "outputs": []
    },
    {
      "metadata": {
        "id": "rQC7vKis8WCx",
        "colab_type": "code",
        "colab": {}
      },
      "cell_type": "code",
      "source": [
        "X_TF=tfidf.fit_transform(df['caption'])"
      ],
      "execution_count": 0,
      "outputs": []
    },
    {
      "metadata": {
        "id": "sMHmpmSkchhA",
        "colab_type": "code",
        "outputId": "253f78ef-1f54-4ddf-9421-8fd1e3ee7b70",
        "colab": {
          "base_uri": "https://localhost:8080/",
          "height": 136
        }
      },
      "cell_type": "code",
      "source": [
        "X_tfarrseq=X_TF.toarray()\n",
        "X_tfarrseq"
      ],
      "execution_count": 0,
      "outputs": [
        {
          "output_type": "execute_result",
          "data": {
            "text/plain": [
              "array([[0., 0., 0., ..., 0., 0., 0.],\n",
              "       [0., 0., 0., ..., 0., 0., 0.],\n",
              "       [0., 0., 0., ..., 0., 0., 0.],\n",
              "       ...,\n",
              "       [0., 0., 0., ..., 0., 0., 0.],\n",
              "       [0., 0., 0., ..., 0., 0., 0.],\n",
              "       [0., 0., 0., ..., 0., 0., 0.]])"
            ]
          },
          "metadata": {
            "tags": []
          },
          "execution_count": 27
        }
      ]
    },
    {
      "metadata": {
        "id": "x2ZDWq34c7jS",
        "colab_type": "code",
        "outputId": "580b188a-ba86-45f3-b465-d4efc7312c8e",
        "colab": {
          "base_uri": "https://localhost:8080/",
          "height": 34
        }
      },
      "cell_type": "code",
      "source": [
        "print(X_tfarrseq[0])"
      ],
      "execution_count": 0,
      "outputs": [
        {
          "output_type": "stream",
          "text": [
            "[0. 0. 0. ... 0. 0. 0.]\n"
          ],
          "name": "stdout"
        }
      ]
    },
    {
      "metadata": {
        "id": "AYznEn6kdC2_",
        "colab_type": "code",
        "colab": {}
      },
      "cell_type": "code",
      "source": [
        "Y=df[['short-term_memorability','long-term_memorability']].values  #targets\n",
        "X=X_tfarrseq #input"
      ],
      "execution_count": 0,
      "outputs": []
    },
    {
      "metadata": {
        "id": "BG39zYgUdVd7",
        "colab_type": "code",
        "colab": {}
      },
      "cell_type": "code",
      "source": [
        "X_train, X_test, Y_train, Y_test = train_test_split(X,Y, test_size=0.2, random_state=42) # random state for reproducability"
      ],
      "execution_count": 0,
      "outputs": []
    },
    {
      "metadata": {
        "id": "50POngq5dWwg",
        "colab_type": "code",
        "outputId": "beba8994-6ee5-4816-b78d-142077ac31a0",
        "colab": {
          "base_uri": "https://localhost:8080/",
          "height": 85
        }
      },
      "cell_type": "code",
      "source": [
        "print('X_train', X_train.shape)\n",
        "print('X_test', X_test.shape)\n",
        "print('Y_train', Y_train.shape)\n",
        "print('Y_test', Y_test.shape)"
      ],
      "execution_count": 0,
      "outputs": [
        {
          "output_type": "stream",
          "text": [
            "X_train (4800, 5019)\n",
            "X_test (1200, 5019)\n",
            "Y_train (4800, 2)\n",
            "Y_test (1200, 2)\n"
          ],
          "name": "stdout"
        }
      ]
    },
    {
      "metadata": {
        "id": "zx8rcY82dWph",
        "colab_type": "code",
        "outputId": "c9f3240f-d64b-4638-9710-9d3d2b20fd80",
        "colab": {
          "base_uri": "https://localhost:8080/",
          "height": 34
        }
      },
      "cell_type": "code",
      "source": [
        "n_cols = X_train.shape[1]\n",
        "n_cols"
      ],
      "execution_count": 0,
      "outputs": [
        {
          "output_type": "execute_result",
          "data": {
            "text/plain": [
              "5019"
            ]
          },
          "metadata": {
            "tags": []
          },
          "execution_count": 32
        }
      ]
    },
    {
      "metadata": {
        "id": "osycQSLAdlet",
        "colab_type": "code",
        "colab": {}
      },
      "cell_type": "code",
      "source": [
        "# Save the number of columns in predictors: n_cols\n",
        "\n",
        "\n",
        "# Set up the model: model\n",
        "model = Sequential()\n",
        "# Add the first layer\n",
        "model.add(Dense(50, activation='relu', input_shape=(n_cols,)))\n",
        "# Add the second layer\n",
        "model.add(Dense(32, activation='relu'))\n",
        "# Add the output layer\n",
        "model.add(Dense(2))"
      ],
      "execution_count": 0,
      "outputs": []
    },
    {
      "metadata": {
        "id": "juSNLhFUd0Jh",
        "colab_type": "code",
        "colab": {}
      },
      "cell_type": "code",
      "source": [
        "# Compile the model\n",
        "model.compile(optimizer='adam', loss = 'mean_squared_error')"
      ],
      "execution_count": 0,
      "outputs": []
    },
    {
      "metadata": {
        "id": "dzt2kfj0d7He",
        "colab_type": "code",
        "outputId": "b57ed38d-39d4-4e23-fc90-4453ed44a08f",
        "colab": {
          "base_uri": "https://localhost:8080/",
          "height": 34
        }
      },
      "cell_type": "code",
      "source": [
        "# Verify that model contains information from compiling\n",
        "print(\"Loss function: \" + model.loss)"
      ],
      "execution_count": 0,
      "outputs": [
        {
          "output_type": "stream",
          "text": [
            "Loss function: mean_squared_error\n"
          ],
          "name": "stdout"
        }
      ]
    },
    {
      "metadata": {
        "id": "F-YbflDmd70n",
        "colab_type": "code",
        "outputId": "4518a13c-1a52-4690-f84e-d2b650a565b5",
        "colab": {
          "base_uri": "https://localhost:8080/",
          "height": 714
        }
      },
      "cell_type": "code",
      "source": [
        "# Fit the model\n",
        "history = model.fit(X_train,Y_train,epochs=20,validation_data=(X_test,Y_test))"
      ],
      "execution_count": 0,
      "outputs": [
        {
          "output_type": "stream",
          "text": [
            "Train on 4800 samples, validate on 1200 samples\n",
            "Epoch 1/20\n",
            "4800/4800 [==============================] - 1s 282us/step - loss: 0.1353 - val_loss: 0.0170\n",
            "Epoch 2/20\n",
            "4800/4800 [==============================] - 1s 228us/step - loss: 0.0118 - val_loss: 0.0158\n",
            "Epoch 3/20\n",
            "4800/4800 [==============================] - 1s 228us/step - loss: 0.0086 - val_loss: 0.0165\n",
            "Epoch 4/20\n",
            "4800/4800 [==============================] - 1s 231us/step - loss: 0.0073 - val_loss: 0.0175\n",
            "Epoch 5/20\n",
            "4800/4800 [==============================] - 1s 227us/step - loss: 0.0065 - val_loss: 0.0181\n",
            "Epoch 6/20\n",
            "4800/4800 [==============================] - 1s 224us/step - loss: 0.0061 - val_loss: 0.0182\n",
            "Epoch 7/20\n",
            "4800/4800 [==============================] - 1s 232us/step - loss: 0.0056 - val_loss: 0.0190\n",
            "Epoch 8/20\n",
            "4800/4800 [==============================] - 1s 222us/step - loss: 0.0052 - val_loss: 0.0187\n",
            "Epoch 9/20\n",
            "4800/4800 [==============================] - 1s 211us/step - loss: 0.0049 - val_loss: 0.0196\n",
            "Epoch 10/20\n",
            "4800/4800 [==============================] - 1s 215us/step - loss: 0.0046 - val_loss: 0.0194\n",
            "Epoch 11/20\n",
            "4800/4800 [==============================] - 1s 215us/step - loss: 0.0043 - val_loss: 0.0195\n",
            "Epoch 12/20\n",
            "4800/4800 [==============================] - 1s 216us/step - loss: 0.0041 - val_loss: 0.0198\n",
            "Epoch 13/20\n",
            "4800/4800 [==============================] - 1s 215us/step - loss: 0.0039 - val_loss: 0.0206\n",
            "Epoch 14/20\n",
            "4800/4800 [==============================] - 1s 213us/step - loss: 0.0037 - val_loss: 0.0198\n",
            "Epoch 15/20\n",
            "4800/4800 [==============================] - 1s 207us/step - loss: 0.0035 - val_loss: 0.0199\n",
            "Epoch 16/20\n",
            "4800/4800 [==============================] - 1s 207us/step - loss: 0.0033 - val_loss: 0.0200\n",
            "Epoch 17/20\n",
            "4800/4800 [==============================] - 1s 216us/step - loss: 0.0033 - val_loss: 0.0203\n",
            "Epoch 18/20\n",
            "4800/4800 [==============================] - 1s 223us/step - loss: 0.0031 - val_loss: 0.0203\n",
            "Epoch 19/20\n",
            "4800/4800 [==============================] - 1s 231us/step - loss: 0.0031 - val_loss: 0.0206\n",
            "Epoch 20/20\n",
            "4800/4800 [==============================] - 1s 223us/step - loss: 0.0029 - val_loss: 0.0198\n"
          ],
          "name": "stdout"
        }
      ]
    },
    {
      "metadata": {
        "id": "lDlRNNwTd_ed",
        "colab_type": "code",
        "outputId": "82bd9367-7bb2-46de-9d56-86ffc86e610a",
        "colab": {
          "base_uri": "https://localhost:8080/",
          "height": 376
        }
      },
      "cell_type": "code",
      "source": [
        "loss = history.history['loss']\n",
        "val_loss = history.history['val_loss']\n",
        "\n",
        "epochs = range(1,len(loss)+1)\n",
        "\n",
        "plt.plot(epochs,loss,'bo',label='Training loss')\n",
        "plt.plot(epochs,val_loss,'b',label='Validation loss')\n",
        "plt.title('Training and validation loss')\n",
        "plt.xlabel('Epochs')\n",
        "plt.ylabel('Loss')\n",
        "plt.legend()\n",
        "plt.show()"
      ],
      "execution_count": 0,
      "outputs": [
        {
          "output_type": "display_data",
          "data": {
            "image/png": "[encoded data removed]",
            "text/plain": [
              "<Figure size 576x396 with 1 Axes>"
            ]
          },
          "metadata": {
            "tags": []
          }
        }
      ]
    },
    {
      "metadata": {
        "id": "_DDE-RzOeEBF",
        "colab_type": "code",
        "outputId": "f67f63b0-938c-4310-c58c-59a4a80304c3",
        "colab": {
          "base_uri": "https://localhost:8080/",
          "height": 170
        }
      },
      "cell_type": "code",
      "source": [
        "predictions = model.predict(X_test)\n",
        "print(predictions)\n",
        "Get_score(predictions, Y_test) # Try remember what the Spearman scores actually mean!"
      ],
      "execution_count": 0,
      "outputs": [
        {
          "output_type": "stream",
          "text": [
            "[[0.9135992  0.76794326]\n",
            " [0.97705674 0.86528105]\n",
            " [0.911112   0.87680054]\n",
            " ...\n",
            " [1.0521218  1.1392775 ]\n",
            " [0.8278694  0.69183505]\n",
            " [0.87327343 0.70102036]]\n",
            "The Spearman's correlation coefficient is: 0.309\n",
            "The Spearman's correlation coefficient is: 0.152\n"
          ],
          "name": "stdout"
        }
      ]
    }
  ]
}