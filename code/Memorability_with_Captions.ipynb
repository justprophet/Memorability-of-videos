{
  "nbformat": 4,
  "nbformat_minor": 0,
  "metadata": {
    "colab": {
      "name": "Memorability_with_Captions.ipynb",
      "version": "0.3.2",
      "provenance": [],
      "collapsed_sections": [],
      "include_colab_link": true
    },
    "kernelspec": {
      "name": "python3",
      "display_name": "Python 3"
    }
  },
  "cells": [
    {
      "cell_type": "markdown",
      "metadata": {
        "id": "view-in-github",
        "colab_type": "text"
      },
      "source": [
        "<a href=\"https://colab.research.google.com/github/justprophet/Memorability-of-videos/blob/master/code/Memorability_with_Captions.ipynb\" target=\"_parent\"><img src=\"https://colab.research.google.com/assets/colab-badge.svg\" alt=\"Open In Colab\"/></a>"
      ]
    },
    {
      "metadata": {
        "id": "GlLRy-eGpW_R",
        "colab_type": "text"
      },
      "cell_type": "markdown",
      "source": [
        "#Spearman Coefficient"
      ]
    },
    {
      "metadata": {
        "id": "Hnt-pb8SpVnb",
        "colab_type": "code",
        "colab": {}
      },
      "cell_type": "code",
      "source": [
        "def Get_score(Y_pred,Y_true):\n",
        "    '''Calculate the Spearmann\"s correlation coefficient'''\n",
        "    Y_pred = np.squeeze(Y_pred)\n",
        "    Y_true = np.squeeze(Y_true)\n",
        "    if Y_pred.shape != Y_true.shape:\n",
        "        print('Input shapes don\\'t match!')\n",
        "    else:\n",
        "        if len(Y_pred.shape) == 1:\n",
        "            Res = pd.DataFrame({'Y_true':Y_true,'Y_pred':Y_pred})\n",
        "            score_mat = Res[['Y_true','Y_pred']].corr(method='spearman',min_periods=1)\n",
        "            print('The Spearman\\'s correlation coefficient is: %.3f' % score_mat.iloc[1][0])\n",
        "        else:\n",
        "            for ii in range(Y_pred.shape[1]):\n",
        "                Get_score(Y_pred[:,ii],Y_true[:,ii])"
      ],
      "execution_count": 0,
      "outputs": []
    },
    {
      "metadata": {
        "id": "p8e4MC17MbLt",
        "colab_type": "text"
      },
      "cell_type": "markdown",
      "source": [
        "# Mounting the drive"
      ]
    },
    {
      "metadata": {
        "id": "gmHGm8KkJhpH",
        "colab_type": "code",
        "outputId": "c6fcaa63-bac1-449c-857b-c85fe8893253",
        "colab": {
          "base_uri": "https://localhost:8080/",
          "height": 34
        }
      },
      "cell_type": "code",
      "source": [
        "from google.colab import drive\n",
        "import os\n",
        "drive.mount('/content/drive/')\n",
        "os.chdir('/content/drive/My Drive/Semester 2/Machine Learning/Assignment/')"
      ],
      "execution_count": 2,
      "outputs": [
        {
          "output_type": "stream",
          "text": [
            "Drive already mounted at /content/drive/; to attempt to forcibly remount, call drive.mount(\"/content/drive/\", force_remount=True).\n"
          ],
          "name": "stdout"
        }
      ]
    },
    {
      "metadata": {
        "id": "PQs8xyqWMMqd",
        "colab_type": "code",
        "outputId": "123b4191-295b-43f4-b6eb-01d87324a132",
        "colab": {
          "base_uri": "https://localhost:8080/",
          "height": 34
        }
      },
      "cell_type": "code",
      "source": [
        "!pip install pyprind"
      ],
      "execution_count": 3,
      "outputs": [
        {
          "output_type": "stream",
          "text": [
            "Requirement already satisfied: pyprind in /usr/local/lib/python3.6/dist-packages (2.11.2)\n"
          ],
          "name": "stdout"
        }
      ]
    },
    {
      "metadata": {
        "id": "djqGxsKKQgSe",
        "colab_type": "text"
      },
      "cell_type": "markdown",
      "source": [
        "# Importing Libraries"
      ]
    },
    {
      "metadata": {
        "id": "BUoJ716BNQy7",
        "colab_type": "code",
        "outputId": "c81221eb-e31c-4811-c352-793b5bd470b7",
        "colab": {
          "base_uri": "https://localhost:8080/",
          "height": 68
        }
      },
      "cell_type": "code",
      "source": [
        "import pandas as pd\n",
        "import keras\n",
        "from keras.layers import Dense\n",
        "from keras.models import Sequential\n",
        "from keras.optimizers import SGD\n",
        "# Import EarlyStopping\n",
        "from keras.callbacks import EarlyStopping\n",
        "from sklearn.model_selection import train_test_split\n",
        "from sklearn.feature_extraction.text import CountVectorizer\n",
        "from sklearn.feature_extraction.text import TfidfVectorizer\n",
        "import nltk\n",
        "#nltk.download()\n",
        "nltk.download('punkt')\n",
        "\n",
        "import numpy as np\n",
        "import pyprind\n",
        "plotlib.pyplot as plt"
      ],
      "execution_count": 4,
      "outputs": [
        {
          "output_type": "stream",
          "text": [
            "Using TensorFlow backend.\n"
          ],
          "name": "stderr"
        },
        {
          "output_type": "stream",
          "text": [
            "[nltk_data] Downloading package punkt to /root/nltk_data...\n",
            "[nltk_data]   Package punkt is already up-to-date!\n"
          ],
          "name": "stdout"
        }
      ]
    },
    {
      "metadata": {
        "id": "Al4Bh1U_ZpWd",
        "colab_type": "code",
        "colab": {}
      },
      "cell_type": "code",
      "source": [
        "from nltk.stem import PorterStemmer\n",
        "from nltk.stem import LancasterStemmer"
      ],
      "execution_count": 0,
      "outputs": []
    },
    {
      "metadata": {
        "id": "1FzRQ83snVRb",
        "colab_type": "text"
      },
      "cell_type": "markdown",
      "source": [
        "# Load Captions and Video Memorability from the two files"
      ]
    },
    {
      "metadata": {
        "id": "PIxKRIl5m41H",
        "colab_type": "code",
        "colab": {}
      },
      "cell_type": "code",
      "source": [
        "# load labels and captions\n",
        "def read_caps(fname):\n",
        "    \"\"\"Load the captions into a dataframe\"\"\"\n",
        "    vn = []\n",
        "    cap = []\n",
        "    df = pd.DataFrame();\n",
        "    with open(fname) as f:\n",
        "        for line in f:\n",
        "            pairs = line.split()\n",
        "            vn.append(pairs[0])\n",
        "            cap.append(pairs[1])\n",
        "        df['video']=vn\n",
        "        df['caption']=cap\n",
        "    return df\n",
        "\n",
        "\n",
        "# load the captions\n",
        "cap_path = './dev-set_video-captions.txt'\n",
        "df_captions=read_caps(cap_path)\n",
        "\n",
        "# load the ground truth values\n",
        "label_path = './'\n",
        "labels=pd.read_csv(label_path+'dev-set_ground-truth.csv')"
      ],
      "execution_count": 0,
      "outputs": []
    },
    {
      "metadata": {
        "id": "lYAInr8mrWnI",
        "colab_type": "text"
      },
      "cell_type": "markdown",
      "source": [
        "Joining the dataframes."
      ]
    },
    {
      "metadata": {
        "id": "jCotH3F1rVv6",
        "colab_type": "code",
        "outputId": "23434893-e87d-468a-c1e3-4d9b89d06d70",
        "colab": {
          "base_uri": "https://localhost:8080/",
          "height": 204
        }
      },
      "cell_type": "code",
      "source": [
        "df = df_captions.merge(labels,on=[\"video\"],how=\"inner\")\n",
        "df.head()"
      ],
      "execution_count": 7,
      "outputs": [
        {
          "output_type": "execute_result",
          "data": {
            "text/html": [
              "<div>\n",
              "<style scoped>\n",
              "    .dataframe tbody tr th:only-of-type {\n",
              "        vertical-align: middle;\n",
              "    }\n",
              "\n",
              "    .dataframe tbody tr th {\n",
              "        vertical-align: top;\n",
              "    }\n",
              "\n",
              "    .dataframe thead th {\n",
              "        text-align: right;\n",
              "    }\n",
              "</style>\n",
              "<table border=\"1\" class=\"dataframe\">\n",
              "  <thead>\n",
              "    <tr style=\"text-align: right;\">\n",
              "      <th></th>\n",
              "      <th>video</th>\n",
              "      <th>caption</th>\n",
              "      <th>short-term_memorability</th>\n",
              "      <th>nb_short-term_annotations</th>\n",
              "      <th>long-term_memorability</th>\n",
              "      <th>nb_long-term_annotations</th>\n",
              "    </tr>\n",
              "  </thead>\n",
              "  <tbody>\n",
              "    <tr>\n",
              "      <th>0</th>\n",
              "      <td>video3.webm</td>\n",
              "      <td>blonde-woman-is-massaged-tilt-down</td>\n",
              "      <td>0.924</td>\n",
              "      <td>34</td>\n",
              "      <td>0.846</td>\n",
              "      <td>13</td>\n",
              "    </tr>\n",
              "    <tr>\n",
              "      <th>1</th>\n",
              "      <td>video4.webm</td>\n",
              "      <td>roulette-table-spinning-with-ball-in-closeup-shot</td>\n",
              "      <td>0.923</td>\n",
              "      <td>33</td>\n",
              "      <td>0.667</td>\n",
              "      <td>12</td>\n",
              "    </tr>\n",
              "    <tr>\n",
              "      <th>2</th>\n",
              "      <td>video6.webm</td>\n",
              "      <td>khr-gangsters</td>\n",
              "      <td>0.863</td>\n",
              "      <td>33</td>\n",
              "      <td>0.700</td>\n",
              "      <td>10</td>\n",
              "    </tr>\n",
              "    <tr>\n",
              "      <th>3</th>\n",
              "      <td>video8.webm</td>\n",
              "      <td>medical-helicopter-hovers-at-airport</td>\n",
              "      <td>0.922</td>\n",
              "      <td>33</td>\n",
              "      <td>0.818</td>\n",
              "      <td>11</td>\n",
              "    </tr>\n",
              "    <tr>\n",
              "      <th>4</th>\n",
              "      <td>video10.webm</td>\n",
              "      <td>couple-relaxing-on-picnic-crane-shot</td>\n",
              "      <td>0.950</td>\n",
              "      <td>34</td>\n",
              "      <td>0.900</td>\n",
              "      <td>10</td>\n",
              "    </tr>\n",
              "  </tbody>\n",
              "</table>\n",
              "</div>"
            ],
            "text/plain": [
              "          video                                            caption  \\\n",
              "0   video3.webm                 blonde-woman-is-massaged-tilt-down   \n",
              "1   video4.webm  roulette-table-spinning-with-ball-in-closeup-shot   \n",
              "2   video6.webm                                      khr-gangsters   \n",
              "3   video8.webm               medical-helicopter-hovers-at-airport   \n",
              "4  video10.webm               couple-relaxing-on-picnic-crane-shot   \n",
              "\n",
              "   short-term_memorability  nb_short-term_annotations  long-term_memorability  \\\n",
              "0                    0.924                         34                   0.846   \n",
              "1                    0.923                         33                   0.667   \n",
              "2                    0.863                         33                   0.700   \n",
              "3                    0.922                         33                   0.818   \n",
              "4                    0.950                         34                   0.900   \n",
              "\n",
              "   nb_long-term_annotations  \n",
              "0                        13  \n",
              "1                        12  \n",
              "2                        10  \n",
              "3                        11  \n",
              "4                        10  "
            ]
          },
          "metadata": {
            "tags": []
          },
          "execution_count": 7
        }
      ]
    },
    {
      "metadata": {
        "id": "kc9i3g9laSgJ",
        "colab_type": "text"
      },
      "cell_type": "markdown",
      "source": [
        "# Tokenizing Words in Captions"
      ]
    },
    {
      "metadata": {
        "id": "gTX1jKKaaSIx",
        "colab_type": "code",
        "outputId": "a30cd5db-30a4-4f3b-dd1a-c0a381aab03f",
        "colab": {
          "base_uri": "https://localhost:8080/",
          "height": 119
        }
      },
      "cell_type": "code",
      "source": [
        "df['caption'].apply(nltk.word_tokenize)\n",
        "df['caption'].head()"
      ],
      "execution_count": 8,
      "outputs": [
        {
          "output_type": "execute_result",
          "data": {
            "text/plain": [
              "0                   blonde-woman-is-massaged-tilt-down\n",
              "1    roulette-table-spinning-with-ball-in-closeup-shot\n",
              "2                                        khr-gangsters\n",
              "3                 medical-helicopter-hovers-at-airport\n",
              "4                 couple-relaxing-on-picnic-crane-shot\n",
              "Name: caption, dtype: object"
            ]
          },
          "metadata": {
            "tags": []
          },
          "execution_count": 8
        }
      ]
    },
    {
      "metadata": {
        "id": "uNHadgGzwQLV",
        "colab_type": "text"
      },
      "cell_type": "markdown",
      "source": [
        "#Stemming words "
      ]
    },
    {
      "metadata": {
        "id": "K0qeYPwLk065",
        "colab_type": "code",
        "colab": {}
      },
      "cell_type": "code",
      "source": [
        "porter = PorterStemmer()\n",
        "lancaster=LancasterStemmer()"
      ],
      "execution_count": 0,
      "outputs": []
    },
    {
      "metadata": {
        "id": "PaaVSmqgk9xv",
        "colab_type": "code",
        "colab": {}
      },
      "cell_type": "code",
      "source": [
        "#porter.stem(df['caption'])\n",
        "def stem_sentences(sentence):\n",
        "    tokens = sentence.split()\n",
        "    #stemmed_tokens = [porter.stem(token) for token in tokens]\n",
        "    stemmed_tokens = [lancaster.stem(token) for token in tokens]\n",
        "    return ' '.join(stemmed_tokens)\n",
        "  \n",
        "df['caption'] = df['caption'].apply(stem_sentences)  "
      ],
      "execution_count": 0,
      "outputs": []
    },
    {
      "metadata": {
        "id": "TC8txnsUtZJI",
        "colab_type": "text"
      },
      "cell_type": "markdown",
      "source": [
        "#Using Count Vecorizer"
      ]
    },
    {
      "metadata": {
        "id": "y1ntZT97tXJC",
        "colab_type": "code",
        "colab": {}
      },
      "cell_type": "code",
      "source": [
        "cv=CountVectorizer(ngram_range=(1, 2))"
      ],
      "execution_count": 0,
      "outputs": []
    },
    {
      "metadata": {
        "id": "v5o1hPrCtzYi",
        "colab_type": "code",
        "colab": {}
      },
      "cell_type": "code",
      "source": [
        "X_CV=cv.fit_transform(df['caption'])"
      ],
      "execution_count": 0,
      "outputs": []
    },
    {
      "metadata": {
        "id": "KBxgGUEHgL36",
        "colab_type": "code",
        "outputId": "2c42b8f8-04ff-4382-c755-f9ebabd9b0e2",
        "colab": {
          "base_uri": "https://localhost:8080/",
          "height": 34
        }
      },
      "cell_type": "code",
      "source": [
        "type(X_CV)"
      ],
      "execution_count": 13,
      "outputs": [
        {
          "output_type": "execute_result",
          "data": {
            "text/plain": [
              "scipy.sparse.csr.csr_matrix"
            ]
          },
          "metadata": {
            "tags": []
          },
          "execution_count": 13
        }
      ]
    },
    {
      "metadata": {
        "id": "KEae08druLUp",
        "colab_type": "code",
        "outputId": "7b3039dc-cbff-41aa-a95f-230b08fa2fc8",
        "colab": {
          "base_uri": "https://localhost:8080/",
          "height": 136
        }
      },
      "cell_type": "code",
      "source": [
        "X_arrseq=X_CV.toarray()\n",
        "X_arrseq"
      ],
      "execution_count": 14,
      "outputs": [
        {
          "output_type": "execute_result",
          "data": {
            "text/plain": [
              "array([[0, 0, 0, ..., 0, 0, 0],\n",
              "       [0, 0, 0, ..., 0, 0, 0],\n",
              "       [0, 0, 0, ..., 0, 0, 0],\n",
              "       ...,\n",
              "       [0, 0, 0, ..., 0, 0, 0],\n",
              "       [0, 0, 0, ..., 0, 0, 0],\n",
              "       [0, 0, 0, ..., 0, 0, 0]], dtype=int64)"
            ]
          },
          "metadata": {
            "tags": []
          },
          "execution_count": 14
        }
      ]
    },
    {
      "metadata": {
        "id": "qRskNd_eufYA",
        "colab_type": "code",
        "outputId": "fd34380f-f81a-4fca-c275-621458888717",
        "colab": {
          "base_uri": "https://localhost:8080/",
          "height": 34
        }
      },
      "cell_type": "code",
      "source": [
        "print(X_arrseq[0])"
      ],
      "execution_count": 15,
      "outputs": [
        {
          "output_type": "stream",
          "text": [
            "[0 0 0 ... 0 0 0]\n"
          ],
          "name": "stdout"
        }
      ]
    },
    {
      "metadata": {
        "id": "EJTnn9fwqjSj",
        "colab_type": "text"
      },
      "cell_type": "markdown",
      "source": [
        "# Splitting the Data in Train and Test"
      ]
    },
    {
      "metadata": {
        "id": "lP93OqhOqheQ",
        "colab_type": "code",
        "colab": {}
      },
      "cell_type": "code",
      "source": [
        "Y=df[['short-term_memorability','long-term_memorability']].values  #targets\n",
        "X=X_arrseq #input"
      ],
      "execution_count": 0,
      "outputs": []
    },
    {
      "metadata": {
        "id": "ybW9dMS0ppUP",
        "colab_type": "code",
        "colab": {}
      },
      "cell_type": "code",
      "source": [
        "X_train, X_test, Y_train, Y_test = train_test_split(X,Y, test_size=0.2, random_state=42) # random state for reproducability"
      ],
      "execution_count": 0,
      "outputs": []
    },
    {
      "metadata": {
        "id": "VbvZ8ajVnios",
        "colab_type": "code",
        "outputId": "1885412f-5188-451b-c8cc-bf10b6037403",
        "colab": {
          "base_uri": "https://localhost:8080/",
          "height": 85
        }
      },
      "cell_type": "code",
      "source": [
        "print('X_train', X_train.shape)\n",
        "print('X_test', X_test.shape)\n",
        "print('Y_train', Y_train.shape)\n",
        "print('Y_test', Y_test.shape)"
      ],
      "execution_count": 18,
      "outputs": [
        {
          "output_type": "stream",
          "text": [
            "X_train (4800, 25937)\n",
            "X_test (1200, 25937)\n",
            "Y_train (4800, 2)\n",
            "Y_test (1200, 2)\n"
          ],
          "name": "stdout"
        }
      ]
    },
    {
      "metadata": {
        "id": "J913noGBvRG0",
        "colab_type": "text"
      },
      "cell_type": "markdown",
      "source": [
        "# Construction of Neural Networks"
      ]
    },
    {
      "metadata": {
        "id": "PEX0z-bJ27Th",
        "colab_type": "code",
        "outputId": "4dd85901-70ed-418c-8d7f-d4a894b8fd8e",
        "colab": {
          "base_uri": "https://localhost:8080/",
          "height": 34
        }
      },
      "cell_type": "code",
      "source": [
        "n_cols = X_train.shape[1]\n",
        "n_cols"
      ],
      "execution_count": 19,
      "outputs": [
        {
          "output_type": "execute_result",
          "data": {
            "text/plain": [
              "25937"
            ]
          },
          "metadata": {
            "tags": []
          },
          "execution_count": 19
        }
      ]
    },
    {
      "metadata": {
        "id": "epM5H6BhvHdL",
        "colab_type": "code",
        "colab": {}
      },
      "cell_type": "code",
      "source": [
        "# Save the number of columns in predictors: n_cols\n",
        "\n",
        "\n",
        "# Set up the model: model\n",
        "model = Sequential()"
      ],
      "execution_count": 0,
      "outputs": []
    },
    {
      "metadata": {
        "id": "x83vuwVF3XbG",
        "colab_type": "code",
        "outputId": "69438cbc-4a7e-49ed-bada-3ab2bf5a86f1",
        "colab": {
          "base_uri": "https://localhost:8080/",
          "height": 88
        }
      },
      "cell_type": "code",
      "source": [
        "# Add the first layer\n",
        "model.add(Dense(100, activation='relu', input_shape=(n_cols,)))"
      ],
      "execution_count": 21,
      "outputs": [
        {
          "output_type": "stream",
          "text": [
            "WARNING:tensorflow:From /usr/local/lib/python3.6/dist-packages/tensorflow/python/framework/op_def_library.py:263: colocate_with (from tensorflow.python.framework.ops) is deprecated and will be removed in a future version.\n",
            "Instructions for updating:\n",
            "Colocations handled automatically by placer.\n"
          ],
          "name": "stdout"
        }
      ]
    },
    {
      "metadata": {
        "id": "aX2iW1fawlVi",
        "colab_type": "code",
        "colab": {}
      },
      "cell_type": "code",
      "source": [
        "# Add the second layer\n",
        "model.add(Dense(100, activation='relu'))"
      ],
      "execution_count": 0,
      "outputs": []
    },
    {
      "metadata": {
        "id": "bbMCFekq3uZS",
        "colab_type": "code",
        "colab": {}
      },
      "cell_type": "code",
      "source": [
        "# Add the output layer\n",
        "model.add(Dense(2))"
      ],
      "execution_count": 0,
      "outputs": []
    },
    {
      "metadata": {
        "id": "zgiDZNJFh8Su",
        "colab_type": "text"
      },
      "cell_type": "markdown",
      "source": [
        "#Changing optimization parameters"
      ]
    },
    {
      "metadata": {
        "id": "OfvYMRfih7aA",
        "colab_type": "code",
        "outputId": "232dcd39-41f2-44f4-8d6d-c36c2aee0015",
        "colab": {
          "base_uri": "https://localhost:8080/",
          "height": 377
        }
      },
      "cell_type": "code",
      "source": [
        "# Compile the model\n",
        "model.compile(optimizer='adam', loss='mean_squared_error', metrics=['accuracy'])\n",
        "   \n",
        "# Define early_stopping_monitor\n",
        "early_stopping_monitor = EarlyStopping(patience=2)\n",
        "    \n",
        "# Fit the model\n",
        "#model.fit(X_train,Y_train,epochs=20,validation_data=(X_test,Y_test))\n",
        "# Fit the model\n",
        "history=model.fit(X_train, Y_train, validation_split=0.3, epochs=30, callbacks= [early_stopping_monitor])"
      ],
      "execution_count": 24,
      "outputs": [
        {
          "output_type": "stream",
          "text": [
            "WARNING:tensorflow:From /usr/local/lib/python3.6/dist-packages/tensorflow/python/ops/math_ops.py:3066: to_int32 (from tensorflow.python.ops.math_ops) is deprecated and will be removed in a future version.\n",
            "Instructions for updating:\n",
            "Use tf.cast instead.\n",
            "Train on 3360 samples, validate on 1440 samples\n",
            "Epoch 1/30\n",
            "3360/3360 [==============================] - 5s 2ms/step - loss: 0.1125 - acc: 0.6702 - val_loss: 0.0318 - val_acc: 0.6875\n",
            "Epoch 2/30\n",
            "3360/3360 [==============================] - 5s 1ms/step - loss: 0.0241 - acc: 0.7464 - val_loss: 0.0173 - val_acc: 0.6813\n",
            "Epoch 3/30\n",
            "3360/3360 [==============================] - 5s 1ms/step - loss: 0.0076 - acc: 0.8086 - val_loss: 0.0166 - val_acc: 0.6618\n",
            "Epoch 4/30\n",
            "3360/3360 [==============================] - 5s 1ms/step - loss: 0.0043 - acc: 0.8586 - val_loss: 0.0165 - val_acc: 0.6764\n",
            "Epoch 5/30\n",
            "3360/3360 [==============================] - 5s 1ms/step - loss: 0.0036 - acc: 0.8616 - val_loss: 0.0168 - val_acc: 0.6569\n",
            "Epoch 6/30\n",
            "3360/3360 [==============================] - 5s 2ms/step - loss: 0.0033 - acc: 0.8649 - val_loss: 0.0165 - val_acc: 0.6389\n",
            "Epoch 7/30\n",
            "3360/3360 [==============================] - 5s 2ms/step - loss: 0.0030 - acc: 0.8810 - val_loss: 0.0170 - val_acc: 0.6576\n",
            "Epoch 8/30\n",
            "3360/3360 [==============================] - 5s 1ms/step - loss: 0.0029 - acc: 0.8804 - val_loss: 0.0165 - val_acc: 0.6431\n"
          ],
          "name": "stdout"
        }
      ]
    },
    {
      "metadata": {
        "id": "tvUv_SvX3xix",
        "colab_type": "code",
        "colab": {}
      },
      "cell_type": "code",
      "source": [
        "# Compile the model\n",
        "#model.compile(optimizer='adam', loss = 'mean_squared_error')"
      ],
      "execution_count": 0,
      "outputs": []
    },
    {
      "metadata": {
        "id": "V6oM9eMK38V-",
        "colab_type": "code",
        "colab": {}
      },
      "cell_type": "code",
      "source": [
        "# Verify that model contains information from compiling\n",
        "#print(\"Loss function: \" + model.loss)"
      ],
      "execution_count": 0,
      "outputs": []
    },
    {
      "metadata": {
        "id": "K-EwnY7G4C_R",
        "colab_type": "code",
        "colab": {}
      },
      "cell_type": "code",
      "source": [
        "# Fit the model\n",
        "#history = model.fit(X_train,Y_train,epochs=20,validation_data=(X_test,Y_test))"
      ],
      "execution_count": 0,
      "outputs": []
    },
    {
      "metadata": {
        "id": "PPpS7aYL4p6B",
        "colab_type": "code",
        "outputId": "50fd6259-4292-45d0-a9a1-99b61e61dd73",
        "colab": {
          "base_uri": "https://localhost:8080/",
          "height": 295
        }
      },
      "cell_type": "code",
      "source": [
        "loss = history.history['loss']\n",
        "val_loss = history.history['val_loss']\n",
        "\n",
        "epochs = range(1,len(loss)+1)\n",
        "\n",
        "plt.plot(epochs,loss,'bo',label='Training loss')\n",
        "plt.plot(epochs,val_loss,'b',label='Validation loss')\n",
        "plt.title('Training and validation loss')\n",
        "plt.xlabel('Epochs')\n",
        "plt.ylabel('Loss')\n",
        "plt.legend()\n",
        "plt.show()"
      ],
      "execution_count": 28,
      "outputs": [
        {
          "output_type": "display_data",
          "data": {
            "image/png": "[encoded data removed]",
            "text/plain": [
              "<Figure size 432x288 with 1 Axes>"
            ]
          },
          "metadata": {
            "tags": []
          }
        }
      ]
    },
    {
      "metadata": {
        "id": "2ifvrkgD4srh",
        "colab_type": "code",
        "outputId": "485ff53d-6b4f-475f-c636-f802f3356464",
        "colab": {
          "base_uri": "https://localhost:8080/",
          "height": 170
        }
      },
      "cell_type": "code",
      "source": [
        "predictions1 = model.predict(X_test)\n",
        "print(predictions1)\n",
        "Get_score(predictions1, Y_test) # Try remember what the Spearman scores actually mean!\n"
      ],
      "execution_count": 29,
      "outputs": [
        {
          "output_type": "stream",
          "text": [
            "[[0.9031597  0.71853083]\n",
            " [0.9641995  0.9676161 ]\n",
            " [0.81412476 0.77019316]\n",
            " ...\n",
            " [0.78117234 0.7391512 ]\n",
            " [0.83330584 0.6873788 ]\n",
            " [0.8091989  0.6611791 ]]\n",
            "The Spearman's correlation coefficient is: 0.351\n",
            "The Spearman's correlation coefficient is: 0.126\n"
          ],
          "name": "stdout"
        }
      ]
    },
    {
      "metadata": {
        "id": "JXfmyFi47_PI",
        "colab_type": "text"
      },
      "cell_type": "markdown",
      "source": [
        "\n",
        "\n",
        "# Using TFIDF Algorithm"
      ]
    },
    {
      "metadata": {
        "id": "-NxRQ0pa8G5I",
        "colab_type": "code",
        "colab": {}
      },
      "cell_type": "code",
      "source": [
        "tfidf=TfidfVectorizer(min_df=1, stop_words='english')"
      ],
      "execution_count": 0,
      "outputs": []
    },
    {
      "metadata": {
        "id": "rQC7vKis8WCx",
        "colab_type": "code",
        "colab": {}
      },
      "cell_type": "code",
      "source": [
        "X_TF=tfidf.fit_transform(df['caption'])"
      ],
      "execution_count": 0,
      "outputs": []
    },
    {
      "metadata": {
        "id": "sMHmpmSkchhA",
        "colab_type": "code",
        "outputId": "ae37ef56-f721-4df5-f925-05e082311db6",
        "colab": {
          "base_uri": "https://localhost:8080/",
          "height": 136
        }
      },
      "cell_type": "code",
      "source": [
        "X_tfarrseq=X_TF.toarray()\n",
        "X_tfarrseq"
      ],
      "execution_count": 32,
      "outputs": [
        {
          "output_type": "execute_result",
          "data": {
            "text/plain": [
              "array([[0., 0., 0., ..., 0., 0., 0.],\n",
              "       [0., 0., 0., ..., 0., 0., 0.],\n",
              "       [0., 0., 0., ..., 0., 0., 0.],\n",
              "       ...,\n",
              "       [0., 0., 0., ..., 0., 0., 0.],\n",
              "       [0., 0., 0., ..., 0., 0., 0.],\n",
              "       [0., 0., 0., ..., 0., 0., 0.]])"
            ]
          },
          "metadata": {
            "tags": []
          },
          "execution_count": 32
        }
      ]
    },
    {
      "metadata": {
        "id": "x2ZDWq34c7jS",
        "colab_type": "code",
        "outputId": "a434a53b-7300-4e65-efb1-fd818cd12a6b",
        "colab": {
          "base_uri": "https://localhost:8080/",
          "height": 34
        }
      },
      "cell_type": "code",
      "source": [
        "print(X_tfarrseq[0])"
      ],
      "execution_count": 33,
      "outputs": [
        {
          "output_type": "stream",
          "text": [
            "[0. 0. 0. ... 0. 0. 0.]\n"
          ],
          "name": "stdout"
        }
      ]
    },
    {
      "metadata": {
        "id": "AYznEn6kdC2_",
        "colab_type": "code",
        "colab": {}
      },
      "cell_type": "code",
      "source": [
        "Y=df[['short-term_memorability','long-term_memorability']].values  #targets\n",
        "X=X_tfarrseq #input"
      ],
      "execution_count": 0,
      "outputs": []
    },
    {
      "metadata": {
        "id": "BG39zYgUdVd7",
        "colab_type": "code",
        "colab": {}
      },
      "cell_type": "code",
      "source": [
        "X_train, X_test, Y_train, Y_test = train_test_split(X,Y, test_size=0.2, random_state=42) # random state for reproducability"
      ],
      "execution_count": 0,
      "outputs": []
    },
    {
      "metadata": {
        "id": "50POngq5dWwg",
        "colab_type": "code",
        "outputId": "3df9bd8e-6460-4892-ff41-2bc0648cc000",
        "colab": {
          "base_uri": "https://localhost:8080/",
          "height": 85
        }
      },
      "cell_type": "code",
      "source": [
        "print('X_train', X_train.shape)\n",
        "print('X_test', X_test.shape)\n",
        "print('Y_train', Y_train.shape)\n",
        "print('Y_test', Y_test.shape)"
      ],
      "execution_count": 36,
      "outputs": [
        {
          "output_type": "stream",
          "text": [
            "X_train (4800, 5123)\n",
            "X_test (1200, 5123)\n",
            "Y_train (4800, 2)\n",
            "Y_test (1200, 2)\n"
          ],
          "name": "stdout"
        }
      ]
    },
    {
      "metadata": {
        "id": "zx8rcY82dWph",
        "colab_type": "code",
        "outputId": "b85f7876-7793-44e3-db35-9f30100641fe",
        "colab": {
          "base_uri": "https://localhost:8080/",
          "height": 34
        }
      },
      "cell_type": "code",
      "source": [
        "n_cols = X_train.shape[1]\n",
        "n_cols"
      ],
      "execution_count": 37,
      "outputs": [
        {
          "output_type": "execute_result",
          "data": {
            "text/plain": [
              "5123"
            ]
          },
          "metadata": {
            "tags": []
          },
          "execution_count": 37
        }
      ]
    },
    {
      "metadata": {
        "id": "osycQSLAdlet",
        "colab_type": "code",
        "colab": {}
      },
      "cell_type": "code",
      "source": [
        "# Save the number of columns in predictors: n_cols\n",
        "\n",
        "\n",
        "# Set up the model: model\n",
        "model = Sequential()\n",
        "# Add the first layer\n",
        "model.add(Dense(50, activation='relu', input_shape=(n_cols,)))\n",
        "# Add the second layer\n",
        "model.add(Dense(32, activation='relu'))\n",
        "# Add the output layer\n",
        "model.add(Dense(2))"
      ],
      "execution_count": 0,
      "outputs": []
    },
    {
      "metadata": {
        "id": "juSNLhFUd0Jh",
        "colab_type": "code",
        "colab": {}
      },
      "cell_type": "code",
      "source": [
        "# Compile the model\n",
        "model.compile(optimizer='adam', loss = 'mean_squared_error')"
      ],
      "execution_count": 0,
      "outputs": []
    },
    {
      "metadata": {
        "id": "dzt2kfj0d7He",
        "colab_type": "code",
        "outputId": "e310f57b-daca-4d66-a35a-0a94efaab4cc",
        "colab": {
          "base_uri": "https://localhost:8080/",
          "height": 34
        }
      },
      "cell_type": "code",
      "source": [
        "# Verify that model contains information from compiling\n",
        "print(\"Loss function: \" + model.loss)"
      ],
      "execution_count": 40,
      "outputs": [
        {
          "output_type": "stream",
          "text": [
            "Loss function: mean_squared_error\n"
          ],
          "name": "stdout"
        }
      ]
    },
    {
      "metadata": {
        "id": "F-YbflDmd70n",
        "colab_type": "code",
        "outputId": "57ff9c74-293a-4f16-ce82-7ee960b70720",
        "colab": {
          "base_uri": "https://localhost:8080/",
          "height": 714
        }
      },
      "cell_type": "code",
      "source": [
        "# Fit the model\n",
        "history = model.fit(X_train,Y_train,epochs=20,validation_data=(X_test,Y_test))"
      ],
      "execution_count": 41,
      "outputs": [
        {
          "output_type": "stream",
          "text": [
            "Train on 4800 samples, validate on 1200 samples\n",
            "Epoch 1/20\n",
            "4800/4800 [==============================] - 1s 230us/step - loss: 0.1293 - val_loss: 0.0163\n",
            "Epoch 2/20\n",
            "4800/4800 [==============================] - 1s 190us/step - loss: 0.0118 - val_loss: 0.0155\n",
            "Epoch 3/20\n",
            "4800/4800 [==============================] - 1s 183us/step - loss: 0.0089 - val_loss: 0.0158\n",
            "Epoch 4/20\n",
            "4800/4800 [==============================] - 1s 181us/step - loss: 0.0073 - val_loss: 0.0165\n",
            "Epoch 5/20\n",
            "4800/4800 [==============================] - 1s 184us/step - loss: 0.0063 - val_loss: 0.0176\n",
            "Epoch 6/20\n",
            "4800/4800 [==============================] - 1s 189us/step - loss: 0.0056 - val_loss: 0.0179\n",
            "Epoch 7/20\n",
            "4800/4800 [==============================] - 1s 182us/step - loss: 0.0051 - val_loss: 0.0184\n",
            "Epoch 8/20\n",
            "4800/4800 [==============================] - 1s 185us/step - loss: 0.0047 - val_loss: 0.0188\n",
            "Epoch 9/20\n",
            "4800/4800 [==============================] - 1s 187us/step - loss: 0.0044 - val_loss: 0.0189\n",
            "Epoch 10/20\n",
            "4800/4800 [==============================] - 1s 186us/step - loss: 0.0041 - val_loss: 0.0188\n",
            "Epoch 11/20\n",
            "4800/4800 [==============================] - 1s 185us/step - loss: 0.0038 - val_loss: 0.0190\n",
            "Epoch 12/20\n",
            "4800/4800 [==============================] - 1s 187us/step - loss: 0.0036 - val_loss: 0.0189\n",
            "Epoch 13/20\n",
            "4800/4800 [==============================] - 1s 184us/step - loss: 0.0034 - val_loss: 0.0189\n",
            "Epoch 14/20\n",
            "4800/4800 [==============================] - 1s 184us/step - loss: 0.0032 - val_loss: 0.0188\n",
            "Epoch 15/20\n",
            "4800/4800 [==============================] - 1s 181us/step - loss: 0.0031 - val_loss: 0.0192\n",
            "Epoch 16/20\n",
            "4800/4800 [==============================] - 1s 185us/step - loss: 0.0029 - val_loss: 0.0186\n",
            "Epoch 17/20\n",
            "4800/4800 [==============================] - 1s 182us/step - loss: 0.0028 - val_loss: 0.0192\n",
            "Epoch 18/20\n",
            "4800/4800 [==============================] - 1s 182us/step - loss: 0.0028 - val_loss: 0.0187\n",
            "Epoch 19/20\n",
            "4800/4800 [==============================] - 1s 184us/step - loss: 0.0027 - val_loss: 0.0188\n",
            "Epoch 20/20\n",
            "4800/4800 [==============================] - 1s 184us/step - loss: 0.0026 - val_loss: 0.0188\n"
          ],
          "name": "stdout"
        }
      ]
    },
    {
      "metadata": {
        "id": "lDlRNNwTd_ed",
        "colab_type": "code",
        "outputId": "c75c645a-eaa6-4cf2-8880-8511de40f2a6",
        "colab": {
          "base_uri": "https://localhost:8080/",
          "height": 295
        }
      },
      "cell_type": "code",
      "source": [
        "loss = history.history['loss']\n",
        "val_loss = history.history['val_loss']\n",
        "\n",
        "epochs = range(1,len(loss)+1)\n",
        "\n",
        "plt.plot(epochs,loss,'bo',label='Training loss')\n",
        "plt.plot(epochs,val_loss,'b',label='Validation loss')\n",
        "plt.title('Training and validation loss')\n",
        "plt.xlabel('Epochs')\n",
        "plt.ylabel('Loss')\n",
        "plt.legend()\n",
        "plt.show()"
      ],
      "execution_count": 42,
      "outputs": [
        {
          "output_type": "display_data",
          "data": {
            "image/png": "[encoded data removed]",
            "text/plain": [
              "<Figure size 432x288 with 1 Axes>"
            ]
          },
          "metadata": {
            "tags": []
          }
        }
      ]
    },
    {
      "metadata": {
        "id": "_DDE-RzOeEBF",
        "colab_type": "code",
        "outputId": "0df1f588-d0a8-4d20-d74d-051eca538e7f",
        "colab": {
          "base_uri": "https://localhost:8080/",
          "height": 170
        }
      },
      "cell_type": "code",
      "source": [
        "predictions2 = model.predict(X_test)\n",
        "print(predictions2)\n",
        "Get_score(predictions2, Y_test) # Try remember what the Spearman scores actually mean!"
      ],
      "execution_count": 43,
      "outputs": [
        {
          "output_type": "stream",
          "text": [
            "[[0.9145517  0.7995479 ]\n",
            " [0.9009045  0.809317  ]\n",
            " [0.96128637 0.77456653]\n",
            " ...\n",
            " [0.9696053  0.97698027]\n",
            " [0.8648413  0.7278867 ]\n",
            " [0.8588036  0.7203184 ]]\n",
            "The Spearman's correlation coefficient is: 0.304\n",
            "The Spearman's correlation coefficient is: 0.161\n"
          ],
          "name": "stdout"
        }
      ]
    },
    {
      "metadata": {
        "id": "1Qnjyvwp8WbU",
        "colab_type": "text"
      },
      "cell_type": "markdown",
      "source": [
        "#MEMORABILITY WITH IMAGE FEATURES"
      ]
    },
    {
      "metadata": {
        "id": "XWfztFqa8d--",
        "colab_type": "text"
      },
      "cell_type": "markdown",
      "source": [
        "#1. Using HMP Features"
      ]
    },
    {
      "metadata": {
        "id": "6tesO6LzPNh2",
        "colab_type": "text"
      },
      "cell_type": "markdown",
      "source": [
        "#Read HMP Features"
      ]
    },
    {
      "metadata": {
        "id": "gQeVwIBVPMfT",
        "colab_type": "code",
        "colab": {}
      },
      "cell_type": "code",
      "source": [
        "def read_HMP(fname):\n",
        "    \"\"\"Scan HMP(Histogram of Motion Patterns) features from file\"\"\"\n",
        "    with open(fname) as f:\n",
        "        for line in f:\n",
        "            pairs=line.split()\n",
        "            HMP_temp = { int(p.split(':')[0]) : float(p.split(':')[1]) for p in pairs}\n",
        "    # there are 6075 bins, fill zeros\n",
        "    HMP = np.zeros(6075)\n",
        "    for idx in HMP_temp.keys():\n",
        "        HMP[idx-1] = HMP_temp[idx]            \n",
        "    return HMP"
      ],
      "execution_count": 0,
      "outputs": []
    },
    {
      "metadata": {
        "id": "BVGG7afJZkoY",
        "colab_type": "text"
      },
      "cell_type": "markdown",
      "source": [
        "# Import extracted HMP features"
      ]
    },
    {
      "metadata": {
        "id": "3_e5obFElWAb",
        "colab_type": "code",
        "colab": {}
      },
      "cell_type": "code",
      "source": [
        "#Load HMP Features\n",
        "df = pd.DataFrame(columns = ['video', 'arrayInfo'])\n",
        "\n",
        "#dir_hmp = './dev-set/HMP'\n",
        "dir_hmp = '/content/drive/My Drive/Semester 2/Machine Learning/Assignment/dev-set/HMP'\n",
        "\n",
        "for filename in os.listdir(dir_hmp):\n",
        "    if filename.endswith(\".txt\"):\n",
        "        path = os.path.join(dir_hmp, filename)\n",
        "        array = read_HMP(path)\n",
        "        fileName= filename.replace(\".txt\",\".webm\")\n",
        "        df = df.append({'video': fileName, 'arrayInfo': array}, ignore_index=True)\n",
        "    else:\n",
        "        break"
      ],
      "execution_count": 0,
      "outputs": []
    },
    {
      "metadata": {
        "id": "VISvWXGlQZpR",
        "colab_type": "code",
        "outputId": "3781df50-c3fd-46dd-e7b2-c145f94c6fe2",
        "colab": {
          "base_uri": "https://localhost:8080/",
          "height": 306
        }
      },
      "cell_type": "code",
      "source": [
        "df_hmp = df.merge(labels,on=[\"video\"],how=\"inner\")\n",
        "df_hmp.columns\n",
        "df_hmp.head()"
      ],
      "execution_count": 46,
      "outputs": [
        {
          "output_type": "execute_result",
          "data": {
            "text/html": [
              "<div>\n",
              "<style scoped>\n",
              "    .dataframe tbody tr th:only-of-type {\n",
              "        vertical-align: middle;\n",
              "    }\n",
              "\n",
              "    .dataframe tbody tr th {\n",
              "        vertical-align: top;\n",
              "    }\n",
              "\n",
              "    .dataframe thead th {\n",
              "        text-align: right;\n",
              "    }\n",
              "</style>\n",
              "<table border=\"1\" class=\"dataframe\">\n",
              "  <thead>\n",
              "    <tr style=\"text-align: right;\">\n",
              "      <th></th>\n",
              "      <th>video</th>\n",
              "      <th>arrayInfo</th>\n",
              "      <th>short-term_memorability</th>\n",
              "      <th>nb_short-term_annotations</th>\n",
              "      <th>long-term_memorability</th>\n",
              "      <th>nb_long-term_annotations</th>\n",
              "    </tr>\n",
              "  </thead>\n",
              "  <tbody>\n",
              "    <tr>\n",
              "      <th>0</th>\n",
              "      <td>video6634.webm</td>\n",
              "      <td>[0.012099, 0.001466, 1.7e-05, 0.0, 0.000683, 7...</td>\n",
              "      <td>0.743</td>\n",
              "      <td>33</td>\n",
              "      <td>0.727</td>\n",
              "      <td>11</td>\n",
              "    </tr>\n",
              "    <tr>\n",
              "      <th>1</th>\n",
              "      <td>video6633.webm</td>\n",
              "      <td>[0.07817, 0.013597, 0.000122, 0.0, 0.00559, 7....</td>\n",
              "      <td>0.804</td>\n",
              "      <td>33</td>\n",
              "      <td>0.727</td>\n",
              "      <td>11</td>\n",
              "    </tr>\n",
              "    <tr>\n",
              "      <th>2</th>\n",
              "      <td>video6639.webm</td>\n",
              "      <td>[0.112506, 0.014053, 0.000263, 0.0, 0.043205, ...</td>\n",
              "      <td>0.645</td>\n",
              "      <td>32</td>\n",
              "      <td>0.800</td>\n",
              "      <td>20</td>\n",
              "    </tr>\n",
              "    <tr>\n",
              "      <th>3</th>\n",
              "      <td>video6635.webm</td>\n",
              "      <td>[0.066072, 0.012682, 0.000283, 0.0, 0.006425, ...</td>\n",
              "      <td>0.806</td>\n",
              "      <td>33</td>\n",
              "      <td>0.923</td>\n",
              "      <td>13</td>\n",
              "    </tr>\n",
              "    <tr>\n",
              "      <th>4</th>\n",
              "      <td>video6637.webm</td>\n",
              "      <td>[0.03036, 0.005834, 0.000169, 0.0, 0.006578, 0...</td>\n",
              "      <td>0.865</td>\n",
              "      <td>34</td>\n",
              "      <td>0.786</td>\n",
              "      <td>14</td>\n",
              "    </tr>\n",
              "  </tbody>\n",
              "</table>\n",
              "</div>"
            ],
            "text/plain": [
              "            video                                          arrayInfo  \\\n",
              "0  video6634.webm  [0.012099, 0.001466, 1.7e-05, 0.0, 0.000683, 7...   \n",
              "1  video6633.webm  [0.07817, 0.013597, 0.000122, 0.0, 0.00559, 7....   \n",
              "2  video6639.webm  [0.112506, 0.014053, 0.000263, 0.0, 0.043205, ...   \n",
              "3  video6635.webm  [0.066072, 0.012682, 0.000283, 0.0, 0.006425, ...   \n",
              "4  video6637.webm  [0.03036, 0.005834, 0.000169, 0.0, 0.006578, 0...   \n",
              "\n",
              "   short-term_memorability  nb_short-term_annotations  long-term_memorability  \\\n",
              "0                    0.743                         33                   0.727   \n",
              "1                    0.804                         33                   0.727   \n",
              "2                    0.645                         32                   0.800   \n",
              "3                    0.806                         33                   0.923   \n",
              "4                    0.865                         34                   0.786   \n",
              "\n",
              "   nb_long-term_annotations  \n",
              "0                        11  \n",
              "1                        11  \n",
              "2                        20  \n",
              "3                        13  \n",
              "4                        14  "
            ]
          },
          "metadata": {
            "tags": []
          },
          "execution_count": 46
        }
      ]
    },
    {
      "metadata": {
        "id": "sMI9y4E6TAKf",
        "colab_type": "code",
        "colab": {}
      },
      "cell_type": "code",
      "source": [
        "result_array = np.empty((0, 6075))\n",
        "for line in df_hmp['arrayInfo']:\n",
        "    result_array = np.append(result_array, np.array([line]), axis = 0)\n",
        "  "
      ],
      "execution_count": 0,
      "outputs": []
    },
    {
      "metadata": {
        "id": "apumo9ggTQoN",
        "colab_type": "code",
        "outputId": "19eed233-06e4-4c34-eb55-023e1ad52aa7",
        "colab": {
          "base_uri": "https://localhost:8080/",
          "height": 255
        }
      },
      "cell_type": "code",
      "source": [
        "X_arrHMP = result_array\n",
        "print(type(X_arrHMP))\n",
        "X_arrHMP"
      ],
      "execution_count": 48,
      "outputs": [
        {
          "output_type": "stream",
          "text": [
            "<class 'numpy.ndarray'>\n"
          ],
          "name": "stdout"
        },
        {
          "output_type": "execute_result",
          "data": {
            "text/plain": [
              "array([[1.20990e-02, 1.46600e-03, 1.70000e-05, ..., 1.35000e-04,\n",
              "        1.11000e-04, 7.60000e-05],\n",
              "       [7.81700e-02, 1.35970e-02, 1.22000e-04, ..., 5.20000e-05,\n",
              "        8.20000e-05, 6.10000e-05],\n",
              "       [1.12506e-01, 1.40530e-02, 2.63000e-04, ..., 2.85000e-04,\n",
              "        5.04000e-04, 1.79000e-04],\n",
              "       ...,\n",
              "       [7.80100e-03, 3.51500e-03, 2.65000e-04, ..., 3.20000e-04,\n",
              "        1.31600e-03, 1.16000e-04],\n",
              "       [1.27840e-02, 2.92300e-03, 3.20000e-05, ..., 1.56000e-04,\n",
              "        2.85000e-04, 2.78000e-04],\n",
              "       [2.95240e-02, 6.14400e-03, 1.69000e-04, ..., 2.43000e-04,\n",
              "        3.77000e-04, 3.32000e-04]])"
            ]
          },
          "metadata": {
            "tags": []
          },
          "execution_count": 48
        }
      ]
    },
    {
      "metadata": {
        "id": "jGzKWrldTT4G",
        "colab_type": "code",
        "colab": {}
      },
      "cell_type": "code",
      "source": [
        "Y=df_hmp[['short-term_memorability','long-term_memorability']].values  #targets\n",
        "X=X_arrHMP #input"
      ],
      "execution_count": 0,
      "outputs": []
    },
    {
      "metadata": {
        "id": "A8KcXkTRTZL_",
        "colab_type": "code",
        "outputId": "28d94898-70f6-447f-c2f2-677ce30e94a5",
        "colab": {
          "base_uri": "https://localhost:8080/",
          "height": 85
        }
      },
      "cell_type": "code",
      "source": [
        "X_train, X_test, Y_train, Y_test = train_test_split(X,Y, test_size=0.2, random_state=42) # random state for reproducability\n",
        "\n",
        "print('X_train', X_train.shape)\n",
        "print('X_test', X_test.shape)\n",
        "print('Y_train', Y_train.shape)\n",
        "print('Y_test', Y_test.shape)"
      ],
      "execution_count": 50,
      "outputs": [
        {
          "output_type": "stream",
          "text": [
            "X_train (4800, 6075)\n",
            "X_test (1200, 6075)\n",
            "Y_train (4800, 2)\n",
            "Y_test (1200, 2)\n"
          ],
          "name": "stdout"
        }
      ]
    },
    {
      "metadata": {
        "id": "V8ngc8ZaTbIe",
        "colab_type": "code",
        "outputId": "de4f79f1-79d6-438f-91a0-adf62d3e3129",
        "colab": {
          "base_uri": "https://localhost:8080/",
          "height": 34
        }
      },
      "cell_type": "code",
      "source": [
        "n_cols = X_train.shape[1]\n",
        "n_cols"
      ],
      "execution_count": 51,
      "outputs": [
        {
          "output_type": "execute_result",
          "data": {
            "text/plain": [
              "6075"
            ]
          },
          "metadata": {
            "tags": []
          },
          "execution_count": 51
        }
      ]
    },
    {
      "metadata": {
        "id": "-0nK3VhGTbz9",
        "colab_type": "code",
        "colab": {}
      },
      "cell_type": "code",
      "source": [
        "model = Sequential()\n",
        "model.add(Dense(100, activation='relu', input_shape=(n_cols,)))\n",
        "# Add the second layer\n",
        "model.add(Dense(100, activation='relu'))\n",
        "# Add the output layer\n",
        "model.add(Dense(2))"
      ],
      "execution_count": 0,
      "outputs": []
    },
    {
      "metadata": {
        "id": "XPzJ1s8gTfdj",
        "colab_type": "code",
        "colab": {}
      },
      "cell_type": "code",
      "source": [
        "# Compile the model\n",
        "model.compile(optimizer='adam', loss='mean_squared_error', metrics=['accuracy'])\n",
        "   \n",
        "# Define early_stopping_monitor\n",
        "early_stopping_monitor = EarlyStopping(patience=2)"
      ],
      "execution_count": 0,
      "outputs": []
    },
    {
      "metadata": {
        "id": "wwP_oNRmThmz",
        "colab_type": "code",
        "outputId": "c54c7eae-5687-46e3-faee-457d194cc17f",
        "colab": {
          "base_uri": "https://localhost:8080/",
          "height": 170
        }
      },
      "cell_type": "code",
      "source": [
        "# Fit the model\n",
        "#model.fit(X_train,Y_train,epochs=20,validation_data=(X_test,Y_test))\n",
        "# Fit the model\n",
        "history=model.fit(X_train, Y_train, validation_split=0.3, epochs=30, callbacks= [early_stopping_monitor])\n"
      ],
      "execution_count": 54,
      "outputs": [
        {
          "output_type": "stream",
          "text": [
            "Train on 3360 samples, validate on 1440 samples\n",
            "Epoch 1/30\n",
            "3360/3360 [==============================] - 2s 540us/step - loss: 0.1281 - acc: 0.7116 - val_loss: 0.0135 - val_acc: 0.7021\n",
            "Epoch 2/30\n",
            "3360/3360 [==============================] - 2s 451us/step - loss: 0.0136 - acc: 0.7131 - val_loss: 0.0132 - val_acc: 0.7021\n",
            "Epoch 3/30\n",
            "3360/3360 [==============================] - 2s 453us/step - loss: 0.0135 - acc: 0.7131 - val_loss: 0.0134 - val_acc: 0.7021\n",
            "Epoch 4/30\n",
            "3360/3360 [==============================] - 2s 462us/step - loss: 0.0135 - acc: 0.7131 - val_loss: 0.0134 - val_acc: 0.7021\n"
          ],
          "name": "stdout"
        }
      ]
    },
    {
      "metadata": {
        "id": "mCPXy3H7TjeU",
        "colab_type": "code",
        "outputId": "ca171220-491b-466b-88d1-f5061350dc3c",
        "colab": {
          "base_uri": "https://localhost:8080/",
          "height": 295
        }
      },
      "cell_type": "code",
      "source": [
        "loss = history.history['loss']\n",
        "val_loss = history.history['val_loss']\n",
        "\n",
        "epochs = range(1,len(loss)+1)\n",
        "\n",
        "plt.plot(epochs,loss,'bo',label='Training loss')\n",
        "plt.plot(epochs,val_loss,'b',label='Validation loss')\n",
        "plt.title('Training and validation loss')\n",
        "plt.xlabel('Epochs')\n",
        "plt.ylabel('Loss')\n",
        "plt.legend()\n",
        "plt.show()"
      ],
      "execution_count": 55,
      "outputs": [
        {
          "output_type": "display_data",
          "data": {
            "image/png": "[encoded data removed]",
            "text/plain": [
              "<Figure size 432x288 with 1 Axes>"
            ]
          },
          "metadata": {
            "tags": []
          }
        }
      ]
    },
    {
      "metadata": {
        "id": "gSw0NSnKTmNS",
        "colab_type": "code",
        "outputId": "1d891f6b-c89e-43d3-c4b8-a78307ad7148",
        "colab": {
          "base_uri": "https://localhost:8080/",
          "height": 170
        }
      },
      "cell_type": "code",
      "source": [
        "predictions3 = model.predict(X_test)\n",
        "print(predictions3)\n",
        "Get_score(predictions3, Y_test) # Try remember what the Spearman scores actually mean!"
      ],
      "execution_count": 100,
      "outputs": [
        {
          "output_type": "stream",
          "text": [
            "[[0.85395974 0.7636661 ]\n",
            " [0.87125117 0.7775664 ]\n",
            " [0.8421284  0.75106066]\n",
            " ...\n",
            " [0.83525854 0.7475918 ]\n",
            " [0.8468822  0.75693995]\n",
            " [0.8670186  0.7743375 ]]\n",
            "The Spearman's correlation coefficient is: 0.285\n",
            "The Spearman's correlation coefficient is: 0.090\n"
          ],
          "name": "stdout"
        }
      ]
    },
    {
      "metadata": {
        "id": "l9-0JkFb_6hp",
        "colab_type": "text"
      },
      "cell_type": "markdown",
      "source": [
        "#Creating an ensemble model using simple average method"
      ]
    },
    {
      "metadata": {
        "id": "II4FMFolAEbH",
        "colab_type": "code",
        "colab": {}
      },
      "cell_type": "code",
      "source": [
        "predictions = np.add(predictions1,predictions3)\n",
        "#predictions = np.add(predictions,predictions3)"
      ],
      "execution_count": 0,
      "outputs": []
    },
    {
      "metadata": {
        "id": "a8bo8Lr-S4WU",
        "colab_type": "code",
        "colab": {
          "base_uri": "https://localhost:8080/",
          "height": 136
        },
        "outputId": "644ef86c-be00-48ae-bff1-078144ae7384"
      },
      "cell_type": "code",
      "source": [
        "print(predictions)"
      ],
      "execution_count": 107,
      "outputs": [
        {
          "output_type": "stream",
          "text": [
            "[[1.7571194 1.4821969]\n",
            " [1.8354506 1.7451825]\n",
            " [1.6562531 1.5212538]\n",
            " ...\n",
            " [1.6164309 1.486743 ]\n",
            " [1.6801881 1.4443188]\n",
            " [1.6762176 1.4355166]]\n"
          ],
          "name": "stdout"
        }
      ]
    },
    {
      "metadata": {
        "id": "qgukg5lGRJ6G",
        "colab_type": "code",
        "colab": {}
      },
      "cell_type": "code",
      "source": [
        "predictions = np.divide(predictions, 2)"
      ],
      "execution_count": 0,
      "outputs": []
    },
    {
      "metadata": {
        "id": "v27-SAfmRmnQ",
        "colab_type": "code",
        "colab": {
          "base_uri": "https://localhost:8080/",
          "height": 136
        },
        "outputId": "d934ef8f-fd11-4332-946c-5be7e2544045"
      },
      "cell_type": "code",
      "source": [
        "print(predictions)"
      ],
      "execution_count": 109,
      "outputs": [
        {
          "output_type": "stream",
          "text": [
            "[[0.8785597  0.74109846]\n",
            " [0.9177253  0.87259126]\n",
            " [0.82812655 0.7606269 ]\n",
            " ...\n",
            " [0.80821544 0.7433715 ]\n",
            " [0.84009403 0.7221594 ]\n",
            " [0.8381088  0.7177583 ]]\n"
          ],
          "name": "stdout"
        }
      ]
    },
    {
      "metadata": {
        "id": "o5L3VTarVFLV",
        "colab_type": "code",
        "colab": {
          "base_uri": "https://localhost:8080/",
          "height": 374
        },
        "outputId": "9d645a45-4379-4754-d6ac-540817e939c3"
      },
      "cell_type": "code",
      "source": [
        "print(predictions1)\n",
        "print(predictions2)\n",
        "print(predictions3)"
      ],
      "execution_count": 101,
      "outputs": [
        {
          "output_type": "stream",
          "text": [
            "[[0.9031597  0.71853083]\n",
            " [0.9641995  0.9676161 ]\n",
            " [0.81412476 0.77019316]\n",
            " ...\n",
            " [0.78117234 0.7391512 ]\n",
            " [0.83330584 0.6873788 ]\n",
            " [0.8091989  0.6611791 ]]\n",
            "[[0.9145517  0.7995479 ]\n",
            " [0.9009045  0.809317  ]\n",
            " [0.96128637 0.77456653]\n",
            " ...\n",
            " [0.9696053  0.97698027]\n",
            " [0.8648413  0.7278867 ]\n",
            " [0.8588036  0.7203184 ]]\n",
            "[[0.85395974 0.7636661 ]\n",
            " [0.87125117 0.7775664 ]\n",
            " [0.8421284  0.75106066]\n",
            " ...\n",
            " [0.83525854 0.7475918 ]\n",
            " [0.8468822  0.75693995]\n",
            " [0.8670186  0.7743375 ]]\n"
          ],
          "name": "stdout"
        }
      ]
    },
    {
      "metadata": {
        "id": "5Sf8tSPQRUN4",
        "colab_type": "code",
        "colab": {
          "base_uri": "https://localhost:8080/",
          "height": 170
        },
        "outputId": "698e6ecf-dd8a-41a2-e839-61361ec26f9f"
      },
      "cell_type": "code",
      "source": [
        "#pred_out = model.predict(X_test)\n",
        "print(predictions)\n",
        "Get_score(predictions, Y_test) # Try remember what the Spearman scores actually mean!"
      ],
      "execution_count": 110,
      "outputs": [
        {
          "output_type": "stream",
          "text": [
            "[[0.8785597  0.74109846]\n",
            " [0.9177253  0.87259126]\n",
            " [0.82812655 0.7606269 ]\n",
            " ...\n",
            " [0.80821544 0.7433715 ]\n",
            " [0.84009403 0.7221594 ]\n",
            " [0.8381088  0.7177583 ]]\n",
            "The Spearman's correlation coefficient is: 0.062\n",
            "The Spearman's correlation coefficient is: -0.013\n"
          ],
          "name": "stdout"
        }
      ]
    },
    {
      "metadata": {
        "id": "yi3Zoz4GRayG",
        "colab_type": "code",
        "colab": {}
      },
      "cell_type": "code",
      "source": [
        ""
      ],
      "execution_count": 0,
      "outputs": []
    }
  ]
}