{
  "nbformat": 4,
  "nbformat_minor": 0,
  "metadata": {
    "colab": {
      "name": "Memorability_of_Videos.ipynb",
      "version": "0.3.2",
      "provenance": [],
      "collapsed_sections": [],
      "include_colab_link": true
    },
    "kernelspec": {
      "name": "python3",
      "display_name": "Python 3"
    },
    "accelerator": "GPU"
  },
  "cells": [
    {
      "cell_type": "markdown",
      "metadata": {
        "id": "view-in-github",
        "colab_type": "text"
      },
      "source": [
        "<a href=\"https://colab.research.google.com/github/justprophet/Memorability-of-videos/blob/master/code/Memorability_of_Videos.ipynb\" target=\"_parent\"><img src=\"https://colab.research.google.com/assets/colab-badge.svg\" alt=\"Open In Colab\"/></a>"
      ]
    },
    {
      "metadata": {
        "id": "GlLRy-eGpW_R",
        "colab_type": "text"
      },
      "cell_type": "markdown",
      "source": [
        "#Spearman Coefficient"
      ]
    },
    {
      "metadata": {
        "id": "Hnt-pb8SpVnb",
        "colab_type": "code",
        "colab": {}
      },
      "cell_type": "code",
      "source": [
        "def Get_score(Y_pred,Y_true):\n",
        "    '''Calculate the Spearmann\"s correlation coefficient'''\n",
        "    Y_pred = np.squeeze(Y_pred)\n",
        "    Y_true = np.squeeze(Y_true)\n",
        "    if Y_pred.shape != Y_true.shape:\n",
        "        print('Input shapes don\\'t match!')\n",
        "    else:\n",
        "        if len(Y_pred.shape) == 1:\n",
        "            Res = pd.DataFrame({'Y_true':Y_true,'Y_pred':Y_pred})\n",
        "            score_mat = Res[['Y_true','Y_pred']].corr(method='spearman',min_periods=1)\n",
        "            print('The Spearman\\'s correlation coefficient is: %.3f' % score_mat.iloc[1][0])\n",
        "        else:\n",
        "            for ii in range(Y_pred.shape[1]):\n",
        "                Get_score(Y_pred[:,ii],Y_true[:,ii])"
      ],
      "execution_count": 0,
      "outputs": []
    },
    {
      "metadata": {
        "id": "p8e4MC17MbLt",
        "colab_type": "text"
      },
      "cell_type": "markdown",
      "source": [
        "# Mounting the drive"
      ]
    },
    {
      "metadata": {
        "id": "gmHGm8KkJhpH",
        "colab_type": "code",
        "outputId": "0d0d3b36-42af-42ee-8bf6-9aaaf31c4a56",
        "colab": {
          "base_uri": "https://localhost:8080/",
          "height": 34
        }
      },
      "cell_type": "code",
      "source": [
        "from google.colab import drive\n",
        "import os\n",
        "drive.mount('/content/drive/')\n",
        "os.chdir('/content/drive/My Drive/Semester 2/Machine Learning/Assignment/')"
      ],
      "execution_count": 0,
      "outputs": [
        {
          "output_type": "stream",
          "text": [
            "Drive already mounted at /content/drive/; to attempt to forcibly remount, call drive.mount(\"/content/drive/\", force_remount=True).\n"
          ],
          "name": "stdout"
        }
      ]
    },
    {
      "metadata": {
        "id": "PQs8xyqWMMqd",
        "colab_type": "code",
        "outputId": "776e1baf-e9ca-41a4-cd97-e579b656e067",
        "colab": {
          "base_uri": "https://localhost:8080/",
          "height": 34
        }
      },
      "cell_type": "code",
      "source": [
        "!pip install pyprind"
      ],
      "execution_count": 0,
      "outputs": [
        {
          "output_type": "stream",
          "text": [
            "Requirement already satisfied: pyprind in /usr/local/lib/python3.6/dist-packages (2.11.2)\n"
          ],
          "name": "stdout"
        }
      ]
    },
    {
      "metadata": {
        "id": "djqGxsKKQgSe",
        "colab_type": "text"
      },
      "cell_type": "markdown",
      "source": [
        "# Importing Libraries"
      ]
    },
    {
      "metadata": {
        "id": "BUoJ716BNQy7",
        "colab_type": "code",
        "outputId": "fddcfa3f-7ea7-417c-8d6c-e5aa918b51ee",
        "colab": {
          "base_uri": "https://localhost:8080/",
          "height": 51
        }
      },
      "cell_type": "code",
      "source": [
        "import pandas as pd\n",
        "import keras\n",
        "from keras.layers import Dense\n",
        "from keras.layers import Dropout\n",
        "from keras.models import Sequential\n",
        "from keras.optimizers import SGD\n",
        "# Import EarlyStopping\n",
        "from keras.callbacks import EarlyStopping\n",
        "from sklearn.model_selection import train_test_split\n",
        "from sklearn.feature_extraction.text import CountVectorizer\n",
        "from sklearn.feature_extraction.text import TfidfVectorizer\n",
        "import nltk\n",
        "#nltk.download()\n",
        "nltk.download('punkt')\n",
        "\n",
        "import numpy as np\n",
        "import pyprind\n",
        "import matplotlib.pyplot as plt"
      ],
      "execution_count": 0,
      "outputs": [
        {
          "output_type": "stream",
          "text": [
            "[nltk_data] Downloading package punkt to /root/nltk_data...\n",
            "[nltk_data]   Package punkt is already up-to-date!\n"
          ],
          "name": "stdout"
        }
      ]
    },
    {
      "metadata": {
        "id": "Al4Bh1U_ZpWd",
        "colab_type": "code",
        "colab": {}
      },
      "cell_type": "code",
      "source": [
        "from nltk.stem import PorterStemmer\n",
        "from nltk.stem import LancasterStemmer"
      ],
      "execution_count": 0,
      "outputs": []
    },
    {
      "metadata": {
        "id": "1FzRQ83snVRb",
        "colab_type": "text"
      },
      "cell_type": "markdown",
      "source": [
        "# Load Captions and Video Memorability from the two files"
      ]
    },
    {
      "metadata": {
        "id": "PIxKRIl5m41H",
        "colab_type": "code",
        "colab": {}
      },
      "cell_type": "code",
      "source": [
        "# load labels and captions\n",
        "def read_caps(fname):\n",
        "    \"\"\"Load the captions into a dataframe\"\"\"\n",
        "    vn = []\n",
        "    cap = []\n",
        "    df = pd.DataFrame();\n",
        "    with open(fname) as f:\n",
        "        for line in f:\n",
        "            pairs = line.split()\n",
        "            vn.append(pairs[0])\n",
        "            cap.append(pairs[1])\n",
        "        df['video']=vn\n",
        "        df['caption']=cap\n",
        "    return df\n",
        "\n",
        "\n",
        "# load the captions - dev set\n",
        "cap_path = './dev-set_video-captions.txt'\n",
        "df_captions=read_caps(cap_path)\n",
        "\n",
        "# load the ground truth values -dev set\n",
        "label_path = './'\n",
        "labels=pd.read_csv(label_path+'dev-set_ground-truth.csv')\n"
      ],
      "execution_count": 0,
      "outputs": []
    },
    {
      "metadata": {
        "id": "OY-MXx2UNOoo",
        "colab_type": "text"
      },
      "cell_type": "markdown",
      "source": [
        "Test Set"
      ]
    },
    {
      "metadata": {
        "id": "9NhB80qqatu1",
        "colab_type": "code",
        "colab": {}
      },
      "cell_type": "code",
      "source": [
        "#for test-set\n",
        "\n",
        "# load the captions - test set\n",
        "cap_path = '/content/drive/My Drive/Semester 2/Machine Learning/Assignment/test-set/test-set-1_video-captions.txt'\n",
        "df_captions_test=read_caps(cap_path)\n",
        "\n",
        "# load the ground truth values -test set\n",
        "#label_path = '/content/drive/My Drive/Semester 2/Machine Learning/Assignment/test-set'\n",
        "labels_test=pd.read_csv('/content/drive/My Drive/Semester 2/Machine Learning/Assignment/test-set/ground_truth_template.csv')"
      ],
      "execution_count": 0,
      "outputs": []
    },
    {
      "metadata": {
        "id": "1Mt3joa4SP2u",
        "colab_type": "code",
        "outputId": "e19749b5-5ee7-477f-8d22-00b5a8621014",
        "colab": {
          "base_uri": "https://localhost:8080/",
          "height": 204
        }
      },
      "cell_type": "code",
      "source": [
        "df_captions_test.head()"
      ],
      "execution_count": 0,
      "outputs": [
        {
          "output_type": "execute_result",
          "data": {
            "text/html": [
              "<div>\n",
              "<style scoped>\n",
              "    .dataframe tbody tr th:only-of-type {\n",
              "        vertical-align: middle;\n",
              "    }\n",
              "\n",
              "    .dataframe tbody tr th {\n",
              "        vertical-align: top;\n",
              "    }\n",
              "\n",
              "    .dataframe thead th {\n",
              "        text-align: right;\n",
              "    }\n",
              "</style>\n",
              "<table border=\"1\" class=\"dataframe\">\n",
              "  <thead>\n",
              "    <tr style=\"text-align: right;\">\n",
              "      <th></th>\n",
              "      <th>video</th>\n",
              "      <th>caption</th>\n",
              "    </tr>\n",
              "  </thead>\n",
              "  <tbody>\n",
              "    <tr>\n",
              "      <th>0</th>\n",
              "      <td>video7494.webm</td>\n",
              "      <td>green-jeep-struggling-to-drive-over-huge-rocks</td>\n",
              "    </tr>\n",
              "    <tr>\n",
              "      <th>1</th>\n",
              "      <td>video7495.webm</td>\n",
              "      <td>hiking-woman-tourist-is-walking-forward-in-mou...</td>\n",
              "    </tr>\n",
              "    <tr>\n",
              "      <th>2</th>\n",
              "      <td>video7496.webm</td>\n",
              "      <td>close-up-of-african-american-doctors-hands-usi...</td>\n",
              "    </tr>\n",
              "    <tr>\n",
              "      <th>3</th>\n",
              "      <td>video7497.webm</td>\n",
              "      <td>slow-motion-of-a-man-using-treadmill-in-the-gy...</td>\n",
              "    </tr>\n",
              "    <tr>\n",
              "      <th>4</th>\n",
              "      <td>video7498.webm</td>\n",
              "      <td>slow-motion-of-photographer-in-national-park</td>\n",
              "    </tr>\n",
              "  </tbody>\n",
              "</table>\n",
              "</div>"
            ],
            "text/plain": [
              "            video                                            caption\n",
              "0  video7494.webm     green-jeep-struggling-to-drive-over-huge-rocks\n",
              "1  video7495.webm  hiking-woman-tourist-is-walking-forward-in-mou...\n",
              "2  video7496.webm  close-up-of-african-american-doctors-hands-usi...\n",
              "3  video7497.webm  slow-motion-of-a-man-using-treadmill-in-the-gy...\n",
              "4  video7498.webm       slow-motion-of-photographer-in-national-park"
            ]
          },
          "metadata": {
            "tags": []
          },
          "execution_count": 59
        }
      ]
    },
    {
      "metadata": {
        "id": "wDw0DzxMSrDu",
        "colab_type": "code",
        "colab": {}
      },
      "cell_type": "code",
      "source": [
        "#df_captions_test['video'] = df_captions_test['video'].astype(str).str.replace('video', '')\n",
        "#df_captions_test['video'] = df_captions_test['video'].astype(str).str.replace('.webm', '')\n",
        "#df_captions_test['video'] = df_captions_test['video'].map(lambda x: x.lstrip('aAbBcC').rstrip('aAbBcC'))"
      ],
      "execution_count": 0,
      "outputs": []
    },
    {
      "metadata": {
        "id": "WZMpHvijTZZa",
        "colab_type": "code",
        "outputId": "612ea173-3f60-4324-f2ed-73cd16d70709",
        "colab": {
          "base_uri": "https://localhost:8080/",
          "height": 119
        }
      },
      "cell_type": "code",
      "source": [
        "df_captions_test['video'].head()\n",
        "#type(labels_test['video'])"
      ],
      "execution_count": 0,
      "outputs": [
        {
          "output_type": "execute_result",
          "data": {
            "text/plain": [
              "0    video7494.webm\n",
              "1    video7495.webm\n",
              "2    video7496.webm\n",
              "3    video7497.webm\n",
              "4    video7498.webm\n",
              "Name: video, dtype: object"
            ]
          },
          "metadata": {
            "tags": []
          },
          "execution_count": 60
        }
      ]
    },
    {
      "metadata": {
        "id": "IkyvhJ_dSriM",
        "colab_type": "text"
      },
      "cell_type": "markdown",
      "source": [
        ""
      ]
    },
    {
      "metadata": {
        "id": "lYAInr8mrWnI",
        "colab_type": "text"
      },
      "cell_type": "markdown",
      "source": [
        "#Joining the dataframes."
      ]
    },
    {
      "metadata": {
        "id": "ZuycygZrQDz4",
        "colab_type": "text"
      },
      "cell_type": "markdown",
      "source": [
        "Joining Dev Set Data Framses"
      ]
    },
    {
      "metadata": {
        "id": "jCotH3F1rVv6",
        "colab_type": "code",
        "outputId": "5c382244-cef4-4ac3-f849-3e5a9792554d",
        "colab": {
          "base_uri": "https://localhost:8080/",
          "height": 204
        }
      },
      "cell_type": "code",
      "source": [
        "df_captions_dev = df_captions.merge(labels,on=[\"video\"],how=\"inner\")\n",
        "df_captions_dev.head()"
      ],
      "execution_count": 0,
      "outputs": [
        {
          "output_type": "execute_result",
          "data": {
            "text/html": [
              "<div>\n",
              "<style scoped>\n",
              "    .dataframe tbody tr th:only-of-type {\n",
              "        vertical-align: middle;\n",
              "    }\n",
              "\n",
              "    .dataframe tbody tr th {\n",
              "        vertical-align: top;\n",
              "    }\n",
              "\n",
              "    .dataframe thead th {\n",
              "        text-align: right;\n",
              "    }\n",
              "</style>\n",
              "<table border=\"1\" class=\"dataframe\">\n",
              "  <thead>\n",
              "    <tr style=\"text-align: right;\">\n",
              "      <th></th>\n",
              "      <th>video</th>\n",
              "      <th>caption</th>\n",
              "      <th>short-term_memorability</th>\n",
              "      <th>nb_short-term_annotations</th>\n",
              "      <th>long-term_memorability</th>\n",
              "      <th>nb_long-term_annotations</th>\n",
              "    </tr>\n",
              "  </thead>\n",
              "  <tbody>\n",
              "    <tr>\n",
              "      <th>0</th>\n",
              "      <td>video3.webm</td>\n",
              "      <td>blonde-woman-is-massaged-tilt-down</td>\n",
              "      <td>0.924</td>\n",
              "      <td>34</td>\n",
              "      <td>0.846</td>\n",
              "      <td>13</td>\n",
              "    </tr>\n",
              "    <tr>\n",
              "      <th>1</th>\n",
              "      <td>video4.webm</td>\n",
              "      <td>roulette-table-spinning-with-ball-in-closeup-shot</td>\n",
              "      <td>0.923</td>\n",
              "      <td>33</td>\n",
              "      <td>0.667</td>\n",
              "      <td>12</td>\n",
              "    </tr>\n",
              "    <tr>\n",
              "      <th>2</th>\n",
              "      <td>video6.webm</td>\n",
              "      <td>khr-gangsters</td>\n",
              "      <td>0.863</td>\n",
              "      <td>33</td>\n",
              "      <td>0.700</td>\n",
              "      <td>10</td>\n",
              "    </tr>\n",
              "    <tr>\n",
              "      <th>3</th>\n",
              "      <td>video8.webm</td>\n",
              "      <td>medical-helicopter-hovers-at-airport</td>\n",
              "      <td>0.922</td>\n",
              "      <td>33</td>\n",
              "      <td>0.818</td>\n",
              "      <td>11</td>\n",
              "    </tr>\n",
              "    <tr>\n",
              "      <th>4</th>\n",
              "      <td>video10.webm</td>\n",
              "      <td>couple-relaxing-on-picnic-crane-shot</td>\n",
              "      <td>0.950</td>\n",
              "      <td>34</td>\n",
              "      <td>0.900</td>\n",
              "      <td>10</td>\n",
              "    </tr>\n",
              "  </tbody>\n",
              "</table>\n",
              "</div>"
            ],
            "text/plain": [
              "          video                                            caption  \\\n",
              "0   video3.webm                 blonde-woman-is-massaged-tilt-down   \n",
              "1   video4.webm  roulette-table-spinning-with-ball-in-closeup-shot   \n",
              "2   video6.webm                                      khr-gangsters   \n",
              "3   video8.webm               medical-helicopter-hovers-at-airport   \n",
              "4  video10.webm               couple-relaxing-on-picnic-crane-shot   \n",
              "\n",
              "   short-term_memorability  nb_short-term_annotations  long-term_memorability  \\\n",
              "0                    0.924                         34                   0.846   \n",
              "1                    0.923                         33                   0.667   \n",
              "2                    0.863                         33                   0.700   \n",
              "3                    0.922                         33                   0.818   \n",
              "4                    0.950                         34                   0.900   \n",
              "\n",
              "   nb_long-term_annotations  \n",
              "0                        13  \n",
              "1                        12  \n",
              "2                        10  \n",
              "3                        11  \n",
              "4                        10  "
            ]
          },
          "metadata": {
            "tags": []
          },
          "execution_count": 61
        }
      ]
    },
    {
      "metadata": {
        "id": "SgCt0lQzR-U2",
        "colab_type": "text"
      },
      "cell_type": "markdown",
      "source": [
        "Joining Test set dataframes"
      ]
    },
    {
      "metadata": {
        "id": "U-ugrKLyR9hG",
        "colab_type": "code",
        "colab": {}
      },
      "cell_type": "code",
      "source": [
        "#df_captions_test = df_captions_test.merge(labels_test,on=[\"video\"],how=\"inner\")\n",
        "#df_captions_test.head()"
      ],
      "execution_count": 0,
      "outputs": []
    },
    {
      "metadata": {
        "id": "XWfztFqa8d--",
        "colab_type": "text"
      },
      "cell_type": "markdown",
      "source": [
        "#1. Using HMP Features"
      ]
    },
    {
      "metadata": {
        "id": "6tesO6LzPNh2",
        "colab_type": "text"
      },
      "cell_type": "markdown",
      "source": [
        "#Read HMP Features"
      ]
    },
    {
      "metadata": {
        "id": "QdqXjIYXeSWp",
        "colab_type": "code",
        "colab": {}
      },
      "cell_type": "code",
      "source": [
        "#df_train, df_test = train_test_split(df, test_size=0.2, random_state=42) # random state for reproducability"
      ],
      "execution_count": 0,
      "outputs": []
    },
    {
      "metadata": {
        "id": "6TLHUmRTn1c1",
        "colab_type": "text"
      },
      "cell_type": "markdown",
      "source": [
        "Method to extract hmp features"
      ]
    },
    {
      "metadata": {
        "id": "gQeVwIBVPMfT",
        "colab_type": "code",
        "colab": {}
      },
      "cell_type": "code",
      "source": [
        "def read_HMP(fname):\n",
        "    \"\"\"Scan HMP(Histogram of Motion Patterns) features from file\"\"\"\n",
        "    with open(fname) as f:\n",
        "        for line in f:\n",
        "            pairs=line.split()\n",
        "            HMP_temp = { int(p.split(':')[0]) : float(p.split(':')[1]) for p in pairs}\n",
        "    # there are 6075 bins, fill zeros\n",
        "    HMP = np.zeros(6075)\n",
        "    for idx in HMP_temp.keys():\n",
        "        HMP[idx-1] = HMP_temp[idx]            \n",
        "    return HMP"
      ],
      "execution_count": 0,
      "outputs": []
    },
    {
      "metadata": {
        "id": "BVGG7afJZkoY",
        "colab_type": "text"
      },
      "cell_type": "markdown",
      "source": [
        "# Import extracted HMP features"
      ]
    },
    {
      "metadata": {
        "id": "WggIB2eGn-Ol",
        "colab_type": "text"
      },
      "cell_type": "markdown",
      "source": [
        "Extracting features for dev-set"
      ]
    },
    {
      "metadata": {
        "id": "3_e5obFElWAb",
        "colab_type": "code",
        "colab": {}
      },
      "cell_type": "code",
      "source": [
        "#Load HMP Features\n",
        "df_hmp_dev = pd.DataFrame(columns = ['video', 'arrayInfo'])\n",
        "\n",
        "#dir_hmp = './dev-set/HMP'\n",
        "dir_hmp_dev = '/content/drive/My Drive/Semester 2/Machine Learning/Assignment/dev-set/HMP'\n",
        "\n",
        "for filename in os.listdir(dir_hmp_dev):\n",
        "    if filename.endswith(\".txt\"):\n",
        "        path = os.path.join(dir_hmp_dev, filename)\n",
        "        array = read_HMP(path)\n",
        "        fileName= filename.replace(\".txt\",\".webm\")\n",
        "        df_hmp_dev = df_hmp_dev.append({'video': fileName, 'arrayInfo': array}, ignore_index=True)\n",
        "    else:\n",
        "        break"
      ],
      "execution_count": 0,
      "outputs": []
    },
    {
      "metadata": {
        "id": "VISvWXGlQZpR",
        "colab_type": "code",
        "outputId": "e11ac680-5a06-4673-f6e0-45efdfd8a048",
        "colab": {
          "base_uri": "https://localhost:8080/",
          "height": 306
        }
      },
      "cell_type": "code",
      "source": [
        "df_dev = df_captions_dev.merge(df_hmp_dev,on=[\"video\"],how=\"inner\")\n",
        "df_dev.columns\n",
        "df_dev.head()\n"
      ],
      "execution_count": 0,
      "outputs": [
        {
          "output_type": "execute_result",
          "data": {
            "text/html": [
              "<div>\n",
              "<style scoped>\n",
              "    .dataframe tbody tr th:only-of-type {\n",
              "        vertical-align: middle;\n",
              "    }\n",
              "\n",
              "    .dataframe tbody tr th {\n",
              "        vertical-align: top;\n",
              "    }\n",
              "\n",
              "    .dataframe thead th {\n",
              "        text-align: right;\n",
              "    }\n",
              "</style>\n",
              "<table border=\"1\" class=\"dataframe\">\n",
              "  <thead>\n",
              "    <tr style=\"text-align: right;\">\n",
              "      <th></th>\n",
              "      <th>video</th>\n",
              "      <th>caption</th>\n",
              "      <th>short-term_memorability</th>\n",
              "      <th>nb_short-term_annotations</th>\n",
              "      <th>long-term_memorability</th>\n",
              "      <th>nb_long-term_annotations</th>\n",
              "      <th>arrayInfo</th>\n",
              "    </tr>\n",
              "  </thead>\n",
              "  <tbody>\n",
              "    <tr>\n",
              "      <th>0</th>\n",
              "      <td>video3.webm</td>\n",
              "      <td>blonde-woman-is-massaged-tilt-down</td>\n",
              "      <td>0.924</td>\n",
              "      <td>34</td>\n",
              "      <td>0.846</td>\n",
              "      <td>13</td>\n",
              "      <td>[0.125563, 0.024036, 0.000314, 0.0, 0.015864, ...</td>\n",
              "    </tr>\n",
              "    <tr>\n",
              "      <th>1</th>\n",
              "      <td>video4.webm</td>\n",
              "      <td>roulette-table-spinning-with-ball-in-closeup-shot</td>\n",
              "      <td>0.923</td>\n",
              "      <td>33</td>\n",
              "      <td>0.667</td>\n",
              "      <td>12</td>\n",
              "      <td>[0.007526, 0.001421, 6.8e-05, 0.0, 0.001184, 0...</td>\n",
              "    </tr>\n",
              "    <tr>\n",
              "      <th>2</th>\n",
              "      <td>video6.webm</td>\n",
              "      <td>khr-gangsters</td>\n",
              "      <td>0.863</td>\n",
              "      <td>33</td>\n",
              "      <td>0.700</td>\n",
              "      <td>10</td>\n",
              "      <td>[0.109584, 0.018978, 0.000289, 0.0, 0.008774, ...</td>\n",
              "    </tr>\n",
              "    <tr>\n",
              "      <th>3</th>\n",
              "      <td>video8.webm</td>\n",
              "      <td>medical-helicopter-hovers-at-airport</td>\n",
              "      <td>0.922</td>\n",
              "      <td>33</td>\n",
              "      <td>0.818</td>\n",
              "      <td>11</td>\n",
              "      <td>[0.120431, 0.013561, 0.000277, 0.0, 0.018974, ...</td>\n",
              "    </tr>\n",
              "    <tr>\n",
              "      <th>4</th>\n",
              "      <td>video10.webm</td>\n",
              "      <td>couple-relaxing-on-picnic-crane-shot</td>\n",
              "      <td>0.950</td>\n",
              "      <td>34</td>\n",
              "      <td>0.900</td>\n",
              "      <td>10</td>\n",
              "      <td>[0.005026, 0.001356, 5.5e-05, 0.0, 0.000665, 2...</td>\n",
              "    </tr>\n",
              "  </tbody>\n",
              "</table>\n",
              "</div>"
            ],
            "text/plain": [
              "          video                                            caption  \\\n",
              "0   video3.webm                 blonde-woman-is-massaged-tilt-down   \n",
              "1   video4.webm  roulette-table-spinning-with-ball-in-closeup-shot   \n",
              "2   video6.webm                                      khr-gangsters   \n",
              "3   video8.webm               medical-helicopter-hovers-at-airport   \n",
              "4  video10.webm               couple-relaxing-on-picnic-crane-shot   \n",
              "\n",
              "   short-term_memorability  nb_short-term_annotations  long-term_memorability  \\\n",
              "0                    0.924                         34                   0.846   \n",
              "1                    0.923                         33                   0.667   \n",
              "2                    0.863                         33                   0.700   \n",
              "3                    0.922                         33                   0.818   \n",
              "4                    0.950                         34                   0.900   \n",
              "\n",
              "   nb_long-term_annotations                                          arrayInfo  \n",
              "0                        13  [0.125563, 0.024036, 0.000314, 0.0, 0.015864, ...  \n",
              "1                        12  [0.007526, 0.001421, 6.8e-05, 0.0, 0.001184, 0...  \n",
              "2                        10  [0.109584, 0.018978, 0.000289, 0.0, 0.008774, ...  \n",
              "3                        11  [0.120431, 0.013561, 0.000277, 0.0, 0.018974, ...  \n",
              "4                        10  [0.005026, 0.001356, 5.5e-05, 0.0, 0.000665, 2...  "
            ]
          },
          "metadata": {
            "tags": []
          },
          "execution_count": 66
        }
      ]
    },
    {
      "metadata": {
        "id": "p1E4aHCBoDkz",
        "colab_type": "text"
      },
      "cell_type": "markdown",
      "source": [
        "Extracting features for test-set"
      ]
    },
    {
      "metadata": {
        "id": "6GjPohunodei",
        "colab_type": "code",
        "colab": {}
      },
      "cell_type": "code",
      "source": [
        "#Load HMP Features\n",
        "df_hmp_test = pd.DataFrame(columns = ['video', 'arrayInfo'])\n",
        "\n",
        "#dir_hmp = './dev-set/HMP'\n",
        "dir_hmp_test = '/content/drive/My Drive/Semester 2/Machine Learning/Assignment/test-set/HMP_test'\n",
        "\n",
        "for filename in os.listdir(dir_hmp_test):\n",
        "    if filename.endswith(\".txt\"):\n",
        "        path = os.path.join(dir_hmp_test, filename)\n",
        "        array = read_HMP(path)\n",
        "        fileName= filename.replace(\".txt\",\".webm\")\n",
        "        df_hmp_test = df_hmp_test.append({'video': fileName, 'arrayInfo': array}, ignore_index=True)\n",
        "    else:\n",
        "        break"
      ],
      "execution_count": 0,
      "outputs": []
    },
    {
      "metadata": {
        "id": "rpK9t1eM0NbZ",
        "colab_type": "code",
        "outputId": "3c2dc592-8ee7-464d-ca5b-d9ada44c0805",
        "colab": {
          "base_uri": "https://localhost:8080/",
          "height": 204
        }
      },
      "cell_type": "code",
      "source": [
        "df_hmp_test.head()"
      ],
      "execution_count": 0,
      "outputs": [
        {
          "output_type": "execute_result",
          "data": {
            "text/html": [
              "<div>\n",
              "<style scoped>\n",
              "    .dataframe tbody tr th:only-of-type {\n",
              "        vertical-align: middle;\n",
              "    }\n",
              "\n",
              "    .dataframe tbody tr th {\n",
              "        vertical-align: top;\n",
              "    }\n",
              "\n",
              "    .dataframe thead th {\n",
              "        text-align: right;\n",
              "    }\n",
              "</style>\n",
              "<table border=\"1\" class=\"dataframe\">\n",
              "  <thead>\n",
              "    <tr style=\"text-align: right;\">\n",
              "      <th></th>\n",
              "      <th>video</th>\n",
              "      <th>arrayInfo</th>\n",
              "    </tr>\n",
              "  </thead>\n",
              "  <tbody>\n",
              "    <tr>\n",
              "      <th>0</th>\n",
              "      <td>video8763.webm</td>\n",
              "      <td>[0.00206, 0.000583, 1.1e-05, 0.0, 0.000395, 3....</td>\n",
              "    </tr>\n",
              "    <tr>\n",
              "      <th>1</th>\n",
              "      <td>video8758.webm</td>\n",
              "      <td>[0.015623, 0.005571, 0.000267, 0.0, 0.003743, ...</td>\n",
              "    </tr>\n",
              "    <tr>\n",
              "      <th>2</th>\n",
              "      <td>video8768.webm</td>\n",
              "      <td>[0.00533, 0.001166, 2e-06, 0.0, 0.000927, 1.1e...</td>\n",
              "    </tr>\n",
              "    <tr>\n",
              "      <th>3</th>\n",
              "      <td>video8764.webm</td>\n",
              "      <td>[0.040748, 0.016237, 0.000303, 0.0, 0.007668, ...</td>\n",
              "    </tr>\n",
              "    <tr>\n",
              "      <th>4</th>\n",
              "      <td>video8760.webm</td>\n",
              "      <td>[0.056045, 0.012873, 0.000278, 0.0, 0.006645, ...</td>\n",
              "    </tr>\n",
              "  </tbody>\n",
              "</table>\n",
              "</div>"
            ],
            "text/plain": [
              "            video                                          arrayInfo\n",
              "0  video8763.webm  [0.00206, 0.000583, 1.1e-05, 0.0, 0.000395, 3....\n",
              "1  video8758.webm  [0.015623, 0.005571, 0.000267, 0.0, 0.003743, ...\n",
              "2  video8768.webm  [0.00533, 0.001166, 2e-06, 0.0, 0.000927, 1.1e...\n",
              "3  video8764.webm  [0.040748, 0.016237, 0.000303, 0.0, 0.007668, ...\n",
              "4  video8760.webm  [0.056045, 0.012873, 0.000278, 0.0, 0.006645, ..."
            ]
          },
          "metadata": {
            "tags": []
          },
          "execution_count": 64
        }
      ]
    },
    {
      "metadata": {
        "id": "WPPeyMaXo0nX",
        "colab_type": "code",
        "outputId": "2789de0f-3e88-4631-9486-1409432653ff",
        "colab": {
          "base_uri": "https://localhost:8080/",
          "height": 204
        }
      },
      "cell_type": "code",
      "source": [
        "df_test = df_captions_test.merge(df_hmp_test,on=[\"video\"],how=\"inner\")\n",
        "df_test.columns\n",
        "df_test.head()"
      ],
      "execution_count": 0,
      "outputs": [
        {
          "output_type": "execute_result",
          "data": {
            "text/html": [
              "<div>\n",
              "<style scoped>\n",
              "    .dataframe tbody tr th:only-of-type {\n",
              "        vertical-align: middle;\n",
              "    }\n",
              "\n",
              "    .dataframe tbody tr th {\n",
              "        vertical-align: top;\n",
              "    }\n",
              "\n",
              "    .dataframe thead th {\n",
              "        text-align: right;\n",
              "    }\n",
              "</style>\n",
              "<table border=\"1\" class=\"dataframe\">\n",
              "  <thead>\n",
              "    <tr style=\"text-align: right;\">\n",
              "      <th></th>\n",
              "      <th>video</th>\n",
              "      <th>caption</th>\n",
              "      <th>arrayInfo</th>\n",
              "    </tr>\n",
              "  </thead>\n",
              "  <tbody>\n",
              "    <tr>\n",
              "      <th>0</th>\n",
              "      <td>video7494.webm</td>\n",
              "      <td>green-jeep-struggling-to-drive-over-huge-rocks</td>\n",
              "      <td>[0.022039, 0.005264, 9.8e-05, 0.0, 0.003689, 0...</td>\n",
              "    </tr>\n",
              "    <tr>\n",
              "      <th>1</th>\n",
              "      <td>video7495.webm</td>\n",
              "      <td>hiking-woman-tourist-is-walking-forward-in-mou...</td>\n",
              "      <td>[0.004694, 0.001934, 4e-05, 0.0, 0.001226, 5.8...</td>\n",
              "    </tr>\n",
              "    <tr>\n",
              "      <th>2</th>\n",
              "      <td>video7496.webm</td>\n",
              "      <td>close-up-of-african-american-doctors-hands-usi...</td>\n",
              "      <td>[0.02653, 0.006208, 5.8e-05, 0.0, 0.00228, 3.1...</td>\n",
              "    </tr>\n",
              "    <tr>\n",
              "      <th>3</th>\n",
              "      <td>video7497.webm</td>\n",
              "      <td>slow-motion-of-a-man-using-treadmill-in-the-gy...</td>\n",
              "      <td>[0.045109, 0.008317, 0.000151, 0.0, 0.005598, ...</td>\n",
              "    </tr>\n",
              "    <tr>\n",
              "      <th>4</th>\n",
              "      <td>video7498.webm</td>\n",
              "      <td>slow-motion-of-photographer-in-national-park</td>\n",
              "      <td>[0.034691, 0.008619, 0.000412, 0.0, 0.028355, ...</td>\n",
              "    </tr>\n",
              "  </tbody>\n",
              "</table>\n",
              "</div>"
            ],
            "text/plain": [
              "            video                                            caption  \\\n",
              "0  video7494.webm     green-jeep-struggling-to-drive-over-huge-rocks   \n",
              "1  video7495.webm  hiking-woman-tourist-is-walking-forward-in-mou...   \n",
              "2  video7496.webm  close-up-of-african-american-doctors-hands-usi...   \n",
              "3  video7497.webm  slow-motion-of-a-man-using-treadmill-in-the-gy...   \n",
              "4  video7498.webm       slow-motion-of-photographer-in-national-park   \n",
              "\n",
              "                                           arrayInfo  \n",
              "0  [0.022039, 0.005264, 9.8e-05, 0.0, 0.003689, 0...  \n",
              "1  [0.004694, 0.001934, 4e-05, 0.0, 0.001226, 5.8...  \n",
              "2  [0.02653, 0.006208, 5.8e-05, 0.0, 0.00228, 3.1...  \n",
              "3  [0.045109, 0.008317, 0.000151, 0.0, 0.005598, ...  \n",
              "4  [0.034691, 0.008619, 0.000412, 0.0, 0.028355, ...  "
            ]
          },
          "metadata": {
            "tags": []
          },
          "execution_count": 65
        }
      ]
    },
    {
      "metadata": {
        "id": "kc9i3g9laSgJ",
        "colab_type": "text"
      },
      "cell_type": "markdown",
      "source": [
        "# Tokenizing Words in Captions"
      ]
    },
    {
      "metadata": {
        "id": "gTX1jKKaaSIx",
        "colab_type": "code",
        "outputId": "89ffd1cb-e023-4168-8d44-3c1a5a454c6b",
        "colab": {
          "base_uri": "https://localhost:8080/",
          "height": 119
        }
      },
      "cell_type": "code",
      "source": [
        "#test set\n",
        "df_dev['caption'].apply(nltk.word_tokenize)\n",
        "df_dev['caption'].head()"
      ],
      "execution_count": 0,
      "outputs": [
        {
          "output_type": "execute_result",
          "data": {
            "text/plain": [
              "0                   blonde-woman-is-massaged-tilt-down\n",
              "1    roulette-table-spinning-with-ball-in-closeup-shot\n",
              "2                                        khr-gangsters\n",
              "3                 medical-helicopter-hovers-at-airport\n",
              "4                 couple-relaxing-on-picnic-crane-shot\n",
              "Name: caption, dtype: object"
            ]
          },
          "metadata": {
            "tags": []
          },
          "execution_count": 67
        }
      ]
    },
    {
      "metadata": {
        "id": "I7QClyyR4Q5L",
        "colab_type": "code",
        "outputId": "a930cfe8-ebc6-4b63-ac92-3d034a1d7a5c",
        "colab": {
          "base_uri": "https://localhost:8080/",
          "height": 119
        }
      },
      "cell_type": "code",
      "source": [
        "#test set\n",
        "df_test['caption'].apply(nltk.word_tokenize)\n",
        "df_test['caption'].head()"
      ],
      "execution_count": 0,
      "outputs": [
        {
          "output_type": "execute_result",
          "data": {
            "text/plain": [
              "0       green-jeep-struggling-to-drive-over-huge-rocks\n",
              "1    hiking-woman-tourist-is-walking-forward-in-mou...\n",
              "2    close-up-of-african-american-doctors-hands-usi...\n",
              "3    slow-motion-of-a-man-using-treadmill-in-the-gy...\n",
              "4         slow-motion-of-photographer-in-national-park\n",
              "Name: caption, dtype: object"
            ]
          },
          "metadata": {
            "tags": []
          },
          "execution_count": 68
        }
      ]
    },
    {
      "metadata": {
        "id": "uNHadgGzwQLV",
        "colab_type": "text"
      },
      "cell_type": "markdown",
      "source": [
        "#Stemming words "
      ]
    },
    {
      "metadata": {
        "id": "K0qeYPwLk065",
        "colab_type": "code",
        "colab": {}
      },
      "cell_type": "code",
      "source": [
        "porter = PorterStemmer()\n",
        "lancaster=LancasterStemmer()"
      ],
      "execution_count": 0,
      "outputs": []
    },
    {
      "metadata": {
        "id": "PaaVSmqgk9xv",
        "colab_type": "code",
        "colab": {}
      },
      "cell_type": "code",
      "source": [
        "#dev set\n",
        "\n",
        "#porter.stem(df['caption'])\n",
        "def stem_sentences(sentence):\n",
        "    tokens = sentence.split()\n",
        "    #stemmed_tokens = [porter.stem(token) for token in tokens]\n",
        "    stemmed_tokens = [lancaster.stem(token) for token in tokens]\n",
        "    return ' '.join(stemmed_tokens)\n",
        "  \n",
        "df_dev['caption'] = df_dev['caption'].apply(stem_sentences)  "
      ],
      "execution_count": 0,
      "outputs": []
    },
    {
      "metadata": {
        "id": "hdxJUVvY4qcB",
        "colab_type": "code",
        "colab": {}
      },
      "cell_type": "code",
      "source": [
        "#test set\n",
        "\n",
        "#porter.stem(df['caption'])\n",
        "def stem_sentences(sentence):\n",
        "    tokens = sentence.split()\n",
        "    #stemmed_tokens = [porter.stem(token) for token in tokens]\n",
        "    stemmed_tokens = [lancaster.stem(token) for token in tokens]\n",
        "    return ' '.join(stemmed_tokens)\n",
        "  \n",
        "df_test['caption'] = df_test['caption'].apply(stem_sentences)  "
      ],
      "execution_count": 0,
      "outputs": []
    },
    {
      "metadata": {
        "id": "52OSaMRFCrYP",
        "colab_type": "code",
        "outputId": "68cad281-0ba5-430a-abe2-aa02968c3fce",
        "colab": {
          "base_uri": "https://localhost:8080/",
          "height": 34
        }
      },
      "cell_type": "code",
      "source": [
        "df_dev.shape"
      ],
      "execution_count": 0,
      "outputs": [
        {
          "output_type": "execute_result",
          "data": {
            "text/plain": [
              "(6000, 7)"
            ]
          },
          "metadata": {
            "tags": []
          },
          "execution_count": 196
        }
      ]
    },
    {
      "metadata": {
        "id": "T5SeCry7Ctch",
        "colab_type": "code",
        "outputId": "8b1817f8-32ca-4e71-e399-87cbea357943",
        "colab": {
          "base_uri": "https://localhost:8080/",
          "height": 34
        }
      },
      "cell_type": "code",
      "source": [
        "df_test.shape"
      ],
      "execution_count": 0,
      "outputs": [
        {
          "output_type": "execute_result",
          "data": {
            "text/plain": [
              "(2000, 3)"
            ]
          },
          "metadata": {
            "tags": []
          },
          "execution_count": 195
        }
      ]
    },
    {
      "metadata": {
        "id": "sFI1cOlFZiYs",
        "colab_type": "text"
      },
      "cell_type": "markdown",
      "source": [
        "**Concatenating the two datasets(dev and test) to generate the feature template**"
      ]
    },
    {
      "metadata": {
        "id": "Q_2l36aLCWbG",
        "colab_type": "code",
        "outputId": "2662e3b5-a798-4094-fca6-5b6dfe0212b7",
        "colab": {
          "base_uri": "https://localhost:8080/",
          "height": 170
        }
      },
      "cell_type": "code",
      "source": [
        "df = pd.concat([df_dev,df_test])\n",
        "df.shape"
      ],
      "execution_count": 0,
      "outputs": [
        {
          "output_type": "stream",
          "text": [
            "/usr/local/lib/python3.6/dist-packages/ipykernel_launcher.py:1: FutureWarning: Sorting because non-concatenation axis is not aligned. A future version\n",
            "of pandas will change to not sort by default.\n",
            "\n",
            "To accept the future behavior, pass 'sort=False'.\n",
            "\n",
            "To retain the current behavior and silence the warning, pass 'sort=True'.\n",
            "\n",
            "  \"\"\"Entry point for launching an IPython kernel.\n"
          ],
          "name": "stderr"
        },
        {
          "output_type": "execute_result",
          "data": {
            "text/plain": [
              "(8000, 7)"
            ]
          },
          "metadata": {
            "tags": []
          },
          "execution_count": 194
        }
      ]
    },
    {
      "metadata": {
        "id": "C9wuog0YDhdR",
        "colab_type": "code",
        "outputId": "dd7f52b8-d8e3-4afe-9cd5-e7e7b856fcb4",
        "colab": {
          "base_uri": "https://localhost:8080/",
          "height": 306
        }
      },
      "cell_type": "code",
      "source": [
        "df.head()"
      ],
      "execution_count": 0,
      "outputs": [
        {
          "output_type": "execute_result",
          "data": {
            "text/html": [
              "<div>\n",
              "<style scoped>\n",
              "    .dataframe tbody tr th:only-of-type {\n",
              "        vertical-align: middle;\n",
              "    }\n",
              "\n",
              "    .dataframe tbody tr th {\n",
              "        vertical-align: top;\n",
              "    }\n",
              "\n",
              "    .dataframe thead th {\n",
              "        text-align: right;\n",
              "    }\n",
              "</style>\n",
              "<table border=\"1\" class=\"dataframe\">\n",
              "  <thead>\n",
              "    <tr style=\"text-align: right;\">\n",
              "      <th></th>\n",
              "      <th>arrayInfo</th>\n",
              "      <th>caption</th>\n",
              "      <th>long-term_memorability</th>\n",
              "      <th>nb_long-term_annotations</th>\n",
              "      <th>nb_short-term_annotations</th>\n",
              "      <th>short-term_memorability</th>\n",
              "      <th>video</th>\n",
              "    </tr>\n",
              "  </thead>\n",
              "  <tbody>\n",
              "    <tr>\n",
              "      <th>0</th>\n",
              "      <td>[0.125563, 0.024036, 0.000314, 0.0, 0.015864, ...</td>\n",
              "      <td>blonde-woman-is-massaged-tilt-down</td>\n",
              "      <td>0.846</td>\n",
              "      <td>13.0</td>\n",
              "      <td>34.0</td>\n",
              "      <td>0.924</td>\n",
              "      <td>video3.webm</td>\n",
              "    </tr>\n",
              "    <tr>\n",
              "      <th>1</th>\n",
              "      <td>[0.007526, 0.001421, 6.8e-05, 0.0, 0.001184, 0...</td>\n",
              "      <td>roulette-table-spinning-with-ball-in-closeup-shot</td>\n",
              "      <td>0.667</td>\n",
              "      <td>12.0</td>\n",
              "      <td>33.0</td>\n",
              "      <td>0.923</td>\n",
              "      <td>video4.webm</td>\n",
              "    </tr>\n",
              "    <tr>\n",
              "      <th>2</th>\n",
              "      <td>[0.109584, 0.018978, 0.000289, 0.0, 0.008774, ...</td>\n",
              "      <td>khr-gangsters</td>\n",
              "      <td>0.700</td>\n",
              "      <td>10.0</td>\n",
              "      <td>33.0</td>\n",
              "      <td>0.863</td>\n",
              "      <td>video6.webm</td>\n",
              "    </tr>\n",
              "    <tr>\n",
              "      <th>3</th>\n",
              "      <td>[0.120431, 0.013561, 0.000277, 0.0, 0.018974, ...</td>\n",
              "      <td>medical-helicopter-hovers-at-airport</td>\n",
              "      <td>0.818</td>\n",
              "      <td>11.0</td>\n",
              "      <td>33.0</td>\n",
              "      <td>0.922</td>\n",
              "      <td>video8.webm</td>\n",
              "    </tr>\n",
              "    <tr>\n",
              "      <th>4</th>\n",
              "      <td>[0.005026, 0.001356, 5.5e-05, 0.0, 0.000665, 2...</td>\n",
              "      <td>couple-relaxing-on-picnic-crane-shot</td>\n",
              "      <td>0.900</td>\n",
              "      <td>10.0</td>\n",
              "      <td>34.0</td>\n",
              "      <td>0.950</td>\n",
              "      <td>video10.webm</td>\n",
              "    </tr>\n",
              "  </tbody>\n",
              "</table>\n",
              "</div>"
            ],
            "text/plain": [
              "                                           arrayInfo  \\\n",
              "0  [0.125563, 0.024036, 0.000314, 0.0, 0.015864, ...   \n",
              "1  [0.007526, 0.001421, 6.8e-05, 0.0, 0.001184, 0...   \n",
              "2  [0.109584, 0.018978, 0.000289, 0.0, 0.008774, ...   \n",
              "3  [0.120431, 0.013561, 0.000277, 0.0, 0.018974, ...   \n",
              "4  [0.005026, 0.001356, 5.5e-05, 0.0, 0.000665, 2...   \n",
              "\n",
              "                                             caption  long-term_memorability  \\\n",
              "0                 blonde-woman-is-massaged-tilt-down                   0.846   \n",
              "1  roulette-table-spinning-with-ball-in-closeup-shot                   0.667   \n",
              "2                                      khr-gangsters                   0.700   \n",
              "3               medical-helicopter-hovers-at-airport                   0.818   \n",
              "4               couple-relaxing-on-picnic-crane-shot                   0.900   \n",
              "\n",
              "   nb_long-term_annotations  nb_short-term_annotations  \\\n",
              "0                      13.0                       34.0   \n",
              "1                      12.0                       33.0   \n",
              "2                      10.0                       33.0   \n",
              "3                      11.0                       33.0   \n",
              "4                      10.0                       34.0   \n",
              "\n",
              "   short-term_memorability         video  \n",
              "0                    0.924   video3.webm  \n",
              "1                    0.923   video4.webm  \n",
              "2                    0.863   video6.webm  \n",
              "3                    0.922   video8.webm  \n",
              "4                    0.950  video10.webm  "
            ]
          },
          "metadata": {
            "tags": []
          },
          "execution_count": 281
        }
      ]
    },
    {
      "metadata": {
        "id": "TC8txnsUtZJI",
        "colab_type": "text"
      },
      "cell_type": "markdown",
      "source": [
        "#1. Using Count Vecorizer"
      ]
    },
    {
      "metadata": {
        "id": "T17M3Rjv_tb3",
        "colab_type": "text"
      },
      "cell_type": "markdown",
      "source": [
        "We need to create a common dataframe column where we have features for both dev set and test set"
      ]
    },
    {
      "metadata": {
        "id": "y1ntZT97tXJC",
        "colab_type": "code",
        "colab": {}
      },
      "cell_type": "code",
      "source": [
        "cv=CountVectorizer(ngram_range=(1, 2))"
      ],
      "execution_count": 0,
      "outputs": []
    },
    {
      "metadata": {
        "id": "v5o1hPrCtzYi",
        "colab_type": "code",
        "colab": {}
      },
      "cell_type": "code",
      "source": [
        "X_CV=cv.fit_transform(df['caption'])"
      ],
      "execution_count": 0,
      "outputs": []
    },
    {
      "metadata": {
        "id": "KBxgGUEHgL36",
        "colab_type": "code",
        "outputId": "daacd731-f58b-46a1-f7af-56f42a8261f7",
        "colab": {
          "base_uri": "https://localhost:8080/",
          "height": 34
        }
      },
      "cell_type": "code",
      "source": [
        "type(X_CV)"
      ],
      "execution_count": 0,
      "outputs": [
        {
          "output_type": "execute_result",
          "data": {
            "text/plain": [
              "scipy.sparse.csr.csr_matrix"
            ]
          },
          "metadata": {
            "tags": []
          },
          "execution_count": 111
        }
      ]
    },
    {
      "metadata": {
        "id": "KEae08druLUp",
        "colab_type": "code",
        "outputId": "def420cd-4e33-4c17-cc81-78808629debe",
        "colab": {
          "base_uri": "https://localhost:8080/",
          "height": 34
        }
      },
      "cell_type": "code",
      "source": [
        "#dev-set\n",
        "X_arrseq=X_CV.toarray()\n",
        "type(X_arrseq)"
      ],
      "execution_count": 0,
      "outputs": [
        {
          "output_type": "execute_result",
          "data": {
            "text/plain": [
              "numpy.ndarray"
            ]
          },
          "metadata": {
            "tags": []
          },
          "execution_count": 212
        }
      ]
    },
    {
      "metadata": {
        "id": "qRskNd_eufYA",
        "colab_type": "code",
        "outputId": "e67f1aa5-19bb-4205-bbf7-27d724fcd351",
        "colab": {
          "base_uri": "https://localhost:8080/",
          "height": 34
        }
      },
      "cell_type": "code",
      "source": [
        "print(X_arrseq[0])"
      ],
      "execution_count": 0,
      "outputs": [
        {
          "output_type": "stream",
          "text": [
            "[0 0 0 ... 0 0 0]\n"
          ],
          "name": "stdout"
        }
      ]
    },
    {
      "metadata": {
        "id": "EJTnn9fwqjSj",
        "colab_type": "text"
      },
      "cell_type": "markdown",
      "source": [
        "# Splitting the Data in Train and Test"
      ]
    },
    {
      "metadata": {
        "id": "lP93OqhOqheQ",
        "colab_type": "code",
        "colab": {}
      },
      "cell_type": "code",
      "source": [
        "#Y=df_dev[['short-term_memorability','long-term_memorability']].values  #targets\n",
        "#X=X_arrseq #input"
      ],
      "execution_count": 0,
      "outputs": []
    },
    {
      "metadata": {
        "id": "xaOQraz7E7qG",
        "colab_type": "code",
        "colab": {}
      },
      "cell_type": "code",
      "source": [
        "#For test set prediction purposes\n",
        "Y=df[['short-term_memorability','long-term_memorability']].values  #targets\n",
        "X=X_arrseq #input\n",
        "\n",
        "X_train = X_arrseq[0:6000]\n",
        "X_test = X_arrseq[6000:]\n",
        "Y_train = Y[0:6000]"
      ],
      "execution_count": 0,
      "outputs": []
    },
    {
      "metadata": {
        "id": "ybW9dMS0ppUP",
        "colab_type": "code",
        "colab": {}
      },
      "cell_type": "code",
      "source": [
        "# We don't need random splitting now as we are now predicting the models.\n",
        "\n",
        "#X_train, X_test, Y_train, Y_test = train_test_split(X,Y, test_size=0.2, random_state=42) "
      ],
      "execution_count": 0,
      "outputs": []
    },
    {
      "metadata": {
        "id": "VbvZ8ajVnios",
        "colab_type": "code",
        "outputId": "98ef80ae-919d-43f3-a560-50ac0a335f1a",
        "colab": {
          "base_uri": "https://localhost:8080/",
          "height": 85
        }
      },
      "cell_type": "code",
      "source": [
        "print('X_train', X_train.shape)\n",
        "print('X_test', X_test.shape)\n",
        "print('Y_train', Y_train.shape)\n",
        "print('Y_test', Y_test.shape)"
      ],
      "execution_count": 0,
      "outputs": [
        {
          "output_type": "stream",
          "text": [
            "X_train (6000, 31248)\n",
            "X_test (2000, 31248)\n",
            "Y_train (6000, 2)\n",
            "Y_test (2000, 7)\n"
          ],
          "name": "stdout"
        }
      ]
    },
    {
      "metadata": {
        "id": "J913noGBvRG0",
        "colab_type": "text"
      },
      "cell_type": "markdown",
      "source": [
        "# Construction of Neural Networks"
      ]
    },
    {
      "metadata": {
        "id": "PEX0z-bJ27Th",
        "colab_type": "code",
        "outputId": "e9ecd031-a2c7-44e0-f060-c14215b0829a",
        "colab": {
          "base_uri": "https://localhost:8080/",
          "height": 34
        }
      },
      "cell_type": "code",
      "source": [
        "n_cols = X_train.shape[1]\n",
        "n_cols"
      ],
      "execution_count": 0,
      "outputs": [
        {
          "output_type": "execute_result",
          "data": {
            "text/plain": [
              "31248"
            ]
          },
          "metadata": {
            "tags": []
          },
          "execution_count": 320
        }
      ]
    },
    {
      "metadata": {
        "id": "epM5H6BhvHdL",
        "colab_type": "code",
        "colab": {}
      },
      "cell_type": "code",
      "source": [
        "# Save the number of columns in predictors: n_cols\n",
        "\n",
        "\n",
        "# Set up the model: model\n",
        "model = Sequential()"
      ],
      "execution_count": 0,
      "outputs": []
    },
    {
      "metadata": {
        "id": "x83vuwVF3XbG",
        "colab_type": "code",
        "colab": {}
      },
      "cell_type": "code",
      "source": [
        "# Add the first layer\n",
        "model.add(Dense(100, activation='relu', input_shape=(n_cols,)))\n",
        "model.add(Dropout(0.5))"
      ],
      "execution_count": 0,
      "outputs": []
    },
    {
      "metadata": {
        "id": "aX2iW1fawlVi",
        "colab_type": "code",
        "colab": {}
      },
      "cell_type": "code",
      "source": [
        "# Add the second layer\n",
        "model.add(Dense(100, activation='relu'))\n",
        "model.add(Dropout(0.5))"
      ],
      "execution_count": 0,
      "outputs": []
    },
    {
      "metadata": {
        "id": "bbMCFekq3uZS",
        "colab_type": "code",
        "colab": {}
      },
      "cell_type": "code",
      "source": [
        "# Add the output layer\n",
        "model.add(Dense(2))"
      ],
      "execution_count": 0,
      "outputs": []
    },
    {
      "metadata": {
        "id": "zgiDZNJFh8Su",
        "colab_type": "text"
      },
      "cell_type": "markdown",
      "source": [
        "**Creating a dense network. Using Early stopping monitor to avoid overfitting**"
      ]
    },
    {
      "metadata": {
        "id": "OfvYMRfih7aA",
        "colab_type": "code",
        "outputId": "a1ffccb7-a64d-488a-b024-2f781291bf92",
        "colab": {
          "base_uri": "https://localhost:8080/",
          "height": 272
        }
      },
      "cell_type": "code",
      "source": [
        "# Compile the model\n",
        "model.compile(optimizer='adam', loss='mean_squared_error', metrics=['accuracy'])\n",
        "   \n",
        "# Define early_stopping_monitor\n",
        "early_stopping_monitor = EarlyStopping(patience=2)\n",
        "    \n",
        "# Fit the model\n",
        "#model.fit(X_train,Y_train,epochs=20,validation_data=(X_test,Y_test))\n",
        "# Fit the model\n",
        "history=model.fit(X_train, Y_train, validation_split=0.3, epochs=30, callbacks= [early_stopping_monitor])\n",
        "#history=model.fit(X_train, Y_train, validation_split=0.3, epochs=30)"
      ],
      "execution_count": 0,
      "outputs": [
        {
          "output_type": "stream",
          "text": [
            "Train on 4200 samples, validate on 1800 samples\n",
            "Epoch 1/30\n",
            "4200/4200 [==============================] - 3s 701us/step - loss: 0.1134 - acc: 0.5836 - val_loss: 0.0260 - val_acc: 0.6894\n",
            "Epoch 2/30\n",
            "4200/4200 [==============================] - 2s 389us/step - loss: 0.0433 - acc: 0.6219 - val_loss: 0.0220 - val_acc: 0.7011\n",
            "Epoch 3/30\n",
            "4200/4200 [==============================] - 2s 371us/step - loss: 0.0334 - acc: 0.6510 - val_loss: 0.0205 - val_acc: 0.7033\n",
            "Epoch 4/30\n",
            "4200/4200 [==============================] - 2s 371us/step - loss: 0.0293 - acc: 0.6821 - val_loss: 0.0160 - val_acc: 0.7022\n",
            "Epoch 5/30\n",
            "4200/4200 [==============================] - 2s 370us/step - loss: 0.0261 - acc: 0.6881 - val_loss: 0.0139 - val_acc: 0.7033\n",
            "Epoch 6/30\n",
            "4200/4200 [==============================] - 2s 374us/step - loss: 0.0236 - acc: 0.7000 - val_loss: 0.0150 - val_acc: 0.7044\n",
            "Epoch 7/30\n",
            "4200/4200 [==============================] - 2s 371us/step - loss: 0.0218 - acc: 0.7057 - val_loss: 0.0146 - val_acc: 0.7044\n"
          ],
          "name": "stdout"
        }
      ]
    },
    {
      "metadata": {
        "id": "PPpS7aYL4p6B",
        "colab_type": "code",
        "outputId": "4c14645f-67f6-4669-dc37-ed5793cecfdc",
        "colab": {
          "base_uri": "https://localhost:8080/",
          "height": 295
        }
      },
      "cell_type": "code",
      "source": [
        "loss = history.history['loss']\n",
        "val_loss = history.history['val_loss']\n",
        "\n",
        "epochs = range(1,len(loss)+1)\n",
        "\n",
        "plt.plot(epochs,loss,'bo',label='Training loss')\n",
        "plt.plot(epochs,val_loss,'b',label='Validation loss')\n",
        "plt.title('Training and validation loss')\n",
        "plt.xlabel('Epochs')\n",
        "plt.ylabel('Loss')\n",
        "plt.legend()\n",
        "plt.show()"
      ],
      "execution_count": 0,
      "outputs": [
        {
          "output_type": "display_data",
          "data": {
            "image/png": "[encoded data removed]",
            "text/plain": [
              "<Figure size 432x288 with 1 Axes>"
            ]
          },
          "metadata": {
            "tags": []
          }
        }
      ]
    },
    {
      "metadata": {
        "id": "2ifvrkgD4srh",
        "colab_type": "code",
        "outputId": "51b184df-e421-4e3f-8d25-d85b14f8a569",
        "colab": {
          "base_uri": "https://localhost:8080/",
          "height": 153
        }
      },
      "cell_type": "code",
      "source": [
        "predictions1 = model.predict(X_test)\n",
        "print(predictions1)\n",
        "Get_score(predictions1, Y_test) # Try remember what the Spearman scores actually mean!\n"
      ],
      "execution_count": 0,
      "outputs": [
        {
          "output_type": "stream",
          "text": [
            "[[0.8159134  0.71471256]\n",
            " [0.8176195  0.73074275]\n",
            " [0.82033885 0.7175519 ]\n",
            " ...\n",
            " [0.83405954 0.7313785 ]\n",
            " [0.89330375 0.8322945 ]\n",
            " [0.84607834 0.77793205]]\n",
            "Input shapes don't match!\n"
          ],
          "name": "stdout"
        }
      ]
    },
    {
      "metadata": {
        "id": "4l3kg_299ir_",
        "colab_type": "text"
      },
      "cell_type": "markdown",
      "source": [
        "**#Predicting test set model 1(CV Model)**"
      ]
    },
    {
      "metadata": {
        "id": "KX_0iVA89iKY",
        "colab_type": "code",
        "outputId": "246be78f-2739-44db-b113-ba71552b59a1",
        "colab": {
          "base_uri": "https://localhost:8080/",
          "height": 136
        }
      },
      "cell_type": "code",
      "source": [
        "predictions1_test = model.predict(X_test)\n",
        "print(predictions1_test)"
      ],
      "execution_count": 0,
      "outputs": [
        {
          "output_type": "stream",
          "text": [
            "[[0.8159134  0.71471256]\n",
            " [0.8176195  0.73074275]\n",
            " [0.82033885 0.7175519 ]\n",
            " ...\n",
            " [0.83405954 0.7313785 ]\n",
            " [0.89330375 0.8322945 ]\n",
            " [0.84607834 0.77793205]]\n"
          ],
          "name": "stdout"
        }
      ]
    },
    {
      "metadata": {
        "id": "JXfmyFi47_PI",
        "colab_type": "text"
      },
      "cell_type": "markdown",
      "source": [
        "\n",
        "\n",
        "# 2. Using TFIDF Algorithm"
      ]
    },
    {
      "metadata": {
        "id": "-NxRQ0pa8G5I",
        "colab_type": "code",
        "colab": {}
      },
      "cell_type": "code",
      "source": [
        "tfidf=TfidfVectorizer(min_df=1, stop_words='english')"
      ],
      "execution_count": 0,
      "outputs": []
    },
    {
      "metadata": {
        "id": "rQC7vKis8WCx",
        "colab_type": "code",
        "colab": {}
      },
      "cell_type": "code",
      "source": [
        "X_TF=tfidf.fit_transform(df['caption'])"
      ],
      "execution_count": 0,
      "outputs": []
    },
    {
      "metadata": {
        "id": "sMHmpmSkchhA",
        "colab_type": "code",
        "outputId": "72fa6c65-8e2f-48b0-df7b-5aabe6a9e00c",
        "colab": {
          "base_uri": "https://localhost:8080/",
          "height": 136
        }
      },
      "cell_type": "code",
      "source": [
        "#for test features\n",
        "X_tfarrseq=X_TF.toarray()\n",
        "X_tfarrseq"
      ],
      "execution_count": 0,
      "outputs": [
        {
          "output_type": "execute_result",
          "data": {
            "text/plain": [
              "array([[0., 0., 0., ..., 0., 0., 0.],\n",
              "       [0., 0., 0., ..., 0., 0., 0.],\n",
              "       [0., 0., 0., ..., 0., 0., 0.],\n",
              "       ...,\n",
              "       [0., 0., 0., ..., 0., 0., 0.],\n",
              "       [0., 0., 0., ..., 0., 0., 0.],\n",
              "       [0., 0., 0., ..., 0., 0., 0.]])"
            ]
          },
          "metadata": {
            "tags": []
          },
          "execution_count": 331
        }
      ]
    },
    {
      "metadata": {
        "id": "x2ZDWq34c7jS",
        "colab_type": "code",
        "outputId": "20296208-2a6b-4629-824f-850b351ffcee",
        "colab": {
          "base_uri": "https://localhost:8080/",
          "height": 34
        }
      },
      "cell_type": "code",
      "source": [
        "print(X_tfarrseq[0])"
      ],
      "execution_count": 0,
      "outputs": [
        {
          "output_type": "stream",
          "text": [
            "[0. 0. 0. ... 0. 0. 0.]\n"
          ],
          "name": "stdout"
        }
      ]
    },
    {
      "metadata": {
        "id": "AYznEn6kdC2_",
        "colab_type": "code",
        "colab": {}
      },
      "cell_type": "code",
      "source": [
        "#Y=df[['short-term_memorability','long-term_memorability']].values  #targets\n",
        "X=X_tfarrseq #input"
      ],
      "execution_count": 0,
      "outputs": []
    },
    {
      "metadata": {
        "id": "yxYp7NyEP5IC",
        "colab_type": "code",
        "colab": {}
      },
      "cell_type": "code",
      "source": [
        "#For test set prediction purposes\n",
        "\n",
        "X_train = X_tfarrseq[0:6000]\n",
        "X_test = X_tfarrseq[6000:]"
      ],
      "execution_count": 0,
      "outputs": []
    },
    {
      "metadata": {
        "id": "BG39zYgUdVd7",
        "colab_type": "code",
        "colab": {}
      },
      "cell_type": "code",
      "source": [
        "#X_train, X_test = train_test_split(X, test_size=0.2, random_state=42) # random state for reproducability"
      ],
      "execution_count": 0,
      "outputs": []
    },
    {
      "metadata": {
        "id": "9OMfTi3eaajT",
        "colab_type": "text"
      },
      "cell_type": "markdown",
      "source": [
        "**Creating a dense network with similar paramenters with few alterations**"
      ]
    },
    {
      "metadata": {
        "id": "50POngq5dWwg",
        "colab_type": "code",
        "outputId": "a8c19844-cb8e-4979-9d38-d0069af6f846",
        "colab": {
          "base_uri": "https://localhost:8080/",
          "height": 85
        }
      },
      "cell_type": "code",
      "source": [
        "print('X_train', X_train.shape)\n",
        "print('X_test', X_test.shape)\n",
        "print('Y_train', Y_train.shape)\n",
        "print('Y_test', Y_test.shape)"
      ],
      "execution_count": 0,
      "outputs": [
        {
          "output_type": "stream",
          "text": [
            "X_train (6000, 5814)\n",
            "X_test (2000, 5814)\n",
            "Y_train (6000, 2)\n",
            "Y_test (2000, 7)\n"
          ],
          "name": "stdout"
        }
      ]
    },
    {
      "metadata": {
        "id": "zx8rcY82dWph",
        "colab_type": "code",
        "outputId": "3c064ca6-e797-4234-c0f0-173985dc31e3",
        "colab": {
          "base_uri": "https://localhost:8080/",
          "height": 34
        }
      },
      "cell_type": "code",
      "source": [
        "n_cols = X_train.shape[1]\n",
        "n_cols"
      ],
      "execution_count": 0,
      "outputs": [
        {
          "output_type": "execute_result",
          "data": {
            "text/plain": [
              "5814"
            ]
          },
          "metadata": {
            "tags": []
          },
          "execution_count": 336
        }
      ]
    },
    {
      "metadata": {
        "id": "osycQSLAdlet",
        "colab_type": "code",
        "colab": {}
      },
      "cell_type": "code",
      "source": [
        "# Save the number of columns in predictors: n_cols\n",
        "\n",
        "\n",
        "# Set up the model: model\n",
        "model = Sequential()\n",
        "# Add the first layer\n",
        "model.add(Dense(50, activation='relu', input_shape=(n_cols,)))\n",
        "model.add(Dropout(0.5))\n",
        "# Add the second layer\n",
        "model.add(Dense(32, activation='relu'))\n",
        "model.add(Dropout(0.5))\n",
        "# Add the output layer\n",
        "model.add(Dense(2))"
      ],
      "execution_count": 0,
      "outputs": []
    },
    {
      "metadata": {
        "id": "juSNLhFUd0Jh",
        "colab_type": "code",
        "colab": {}
      },
      "cell_type": "code",
      "source": [
        "# Compile the model\n",
        "model.compile(optimizer='adam', loss = 'mean_squared_error')"
      ],
      "execution_count": 0,
      "outputs": []
    },
    {
      "metadata": {
        "id": "dzt2kfj0d7He",
        "colab_type": "code",
        "outputId": "12f10cd2-c374-4e9c-f50e-d2328234cac7",
        "colab": {
          "base_uri": "https://localhost:8080/",
          "height": 34
        }
      },
      "cell_type": "code",
      "source": [
        "# Verify that model contains information from compiling\n",
        "print(\"Loss function: \" + model.loss)"
      ],
      "execution_count": 0,
      "outputs": [
        {
          "output_type": "stream",
          "text": [
            "Loss function: mean_squared_error\n"
          ],
          "name": "stdout"
        }
      ]
    },
    {
      "metadata": {
        "id": "F-YbflDmd70n",
        "colab_type": "code",
        "outputId": "f6dec65a-6705-4b10-ac49-1e21b3b5b6ff",
        "colab": {
          "base_uri": "https://localhost:8080/",
          "height": 374
        }
      },
      "cell_type": "code",
      "source": [
        "# Fit the model\n",
        "history=model.fit(X_train, Y_train, validation_split=0.3, epochs=30, callbacks= [early_stopping_monitor])"
      ],
      "execution_count": 0,
      "outputs": [
        {
          "output_type": "stream",
          "text": [
            "Train on 4200 samples, validate on 1800 samples\n",
            "Epoch 1/30\n",
            "4200/4200 [==============================] - 2s 406us/step - loss: 0.2366 - val_loss: 0.0221\n",
            "Epoch 2/30\n",
            "4200/4200 [==============================] - 1s 160us/step - loss: 0.0707 - val_loss: 0.0201\n",
            "Epoch 3/30\n",
            "4200/4200 [==============================] - 1s 152us/step - loss: 0.0542 - val_loss: 0.0181\n",
            "Epoch 4/30\n",
            "4200/4200 [==============================] - 1s 152us/step - loss: 0.0461 - val_loss: 0.0164\n",
            "Epoch 5/30\n",
            "4200/4200 [==============================] - 1s 155us/step - loss: 0.0388 - val_loss: 0.0157\n",
            "Epoch 6/30\n",
            "4200/4200 [==============================] - 1s 153us/step - loss: 0.0338 - val_loss: 0.0152\n",
            "Epoch 7/30\n",
            "4200/4200 [==============================] - 1s 159us/step - loss: 0.0319 - val_loss: 0.0148\n",
            "Epoch 8/30\n",
            "4200/4200 [==============================] - 1s 153us/step - loss: 0.0299 - val_loss: 0.0137\n",
            "Epoch 9/30\n",
            "4200/4200 [==============================] - 1s 152us/step - loss: 0.0279 - val_loss: 0.0146\n",
            "Epoch 10/30\n",
            "4200/4200 [==============================] - 1s 154us/step - loss: 0.0252 - val_loss: 0.0144\n"
          ],
          "name": "stdout"
        }
      ]
    },
    {
      "metadata": {
        "id": "lDlRNNwTd_ed",
        "colab_type": "code",
        "outputId": "62e11237-d2a4-4fc9-991f-68d69aece765",
        "colab": {
          "base_uri": "https://localhost:8080/",
          "height": 295
        }
      },
      "cell_type": "code",
      "source": [
        "loss = history.history['loss']\n",
        "val_loss = history.history['val_loss']\n",
        "\n",
        "epochs = range(1,len(loss)+1)\n",
        "\n",
        "plt.plot(epochs,loss,'bo',label='Training loss')\n",
        "plt.plot(epochs,val_loss,'b',label='Validation loss')\n",
        "plt.title('Training and validation loss')\n",
        "plt.xlabel('Epochs')\n",
        "plt.ylabel('Loss')\n",
        "plt.legend()\n",
        "plt.show()"
      ],
      "execution_count": 0,
      "outputs": [
        {
          "output_type": "display_data",
          "data": {
            "image/png": "[encoded data removed]",
            "text/plain": [
              "<Figure size 432x288 with 1 Axes>"
            ]
          },
          "metadata": {
            "tags": []
          }
        }
      ]
    },
    {
      "metadata": {
        "id": "_DDE-RzOeEBF",
        "colab_type": "code",
        "outputId": "6c5caf0a-d109-4cf2-a200-d55a1e5d0fcf",
        "colab": {
          "base_uri": "https://localhost:8080/",
          "height": 170
        }
      },
      "cell_type": "code",
      "source": [
        "predictions2 = model.predict(X_test)\n",
        "print(predictions2)\n",
        "Get_score(predictions2, Y_test) # Try remember what the Spearman scores actually mean!"
      ],
      "execution_count": 0,
      "outputs": [
        {
          "output_type": "stream",
          "text": [
            "[[0.86267066 0.7962814 ]\n",
            " [0.89125776 0.8597711 ]\n",
            " [0.86001736 0.7908814 ]\n",
            " ...\n",
            " [0.9298321  0.8844288 ]\n",
            " [0.8320594  0.7101537 ]\n",
            " [0.8353752  0.73660815]]\n",
            "The Spearman's correlation coefficient is: 0.385\n",
            "The Spearman's correlation coefficient is: 0.219\n"
          ],
          "name": "stdout"
        }
      ]
    },
    {
      "metadata": {
        "id": "-9AcIJ4cQf1x",
        "colab_type": "text"
      },
      "cell_type": "markdown",
      "source": [
        "**#Prediction test set model 2(TF-IDF)**"
      ]
    },
    {
      "metadata": {
        "id": "M0C7OXO2QaJY",
        "colab_type": "code",
        "outputId": "737df1a0-4a07-4c26-b03f-52e78c199411",
        "colab": {
          "base_uri": "https://localhost:8080/",
          "height": 136
        }
      },
      "cell_type": "code",
      "source": [
        "#test set predictions\n",
        "predictions2_test = model.predict(X_test)\n",
        "print(predictions2_test)"
      ],
      "execution_count": 0,
      "outputs": [
        {
          "output_type": "stream",
          "text": [
            "[[0.7963306  0.70874864]\n",
            " [0.81560373 0.7413621 ]\n",
            " [0.8311751  0.7480603 ]\n",
            " ...\n",
            " [0.8712563  0.78579706]\n",
            " [0.8782933  0.80818063]\n",
            " [0.84172744 0.7643131 ]]\n"
          ],
          "name": "stdout"
        }
      ]
    },
    {
      "metadata": {
        "id": "1Qnjyvwp8WbU",
        "colab_type": "text"
      },
      "cell_type": "markdown",
      "source": [
        "#3. MEMORABILITY WITH IMAGE FEATURES"
      ]
    },
    {
      "metadata": {
        "id": "jbmuJnklNvIM",
        "colab_type": "text"
      },
      "cell_type": "markdown",
      "source": [
        "**Using Extracted HMP features**"
      ]
    },
    {
      "metadata": {
        "id": "8QHFDaypar5N",
        "colab_type": "text"
      },
      "cell_type": "markdown",
      "source": [
        "Conveting the featured into a numpy array for dense networks."
      ]
    },
    {
      "metadata": {
        "id": "sMI9y4E6TAKf",
        "colab_type": "code",
        "colab": {}
      },
      "cell_type": "code",
      "source": [
        "result_array = np.empty((0, 6075))\n",
        "for line in df['arrayInfo']:\n",
        "    result_array = np.append(result_array, np.array([line]), axis = 0)\n",
        "  "
      ],
      "execution_count": 0,
      "outputs": []
    },
    {
      "metadata": {
        "id": "apumo9ggTQoN",
        "colab_type": "code",
        "outputId": "2bbdf0b5-0375-46f3-9a5b-48fbc6314cf0",
        "colab": {
          "base_uri": "https://localhost:8080/",
          "height": 255
        }
      },
      "cell_type": "code",
      "source": [
        "X_arrHMP = result_array\n",
        "print(type(X_arrHMP))\n",
        "X_arrHMP"
      ],
      "execution_count": 0,
      "outputs": [
        {
          "output_type": "stream",
          "text": [
            "<class 'numpy.ndarray'>\n"
          ],
          "name": "stdout"
        },
        {
          "output_type": "execute_result",
          "data": {
            "text/plain": [
              "array([[1.25563e-01, 2.40360e-02, 3.14000e-04, ..., 8.60000e-05,\n",
              "        5.80000e-04, 0.00000e+00],\n",
              "       [7.52600e-03, 1.42100e-03, 6.80000e-05, ..., 2.20000e-04,\n",
              "        7.62000e-04, 1.22400e-03],\n",
              "       [1.09584e-01, 1.89780e-02, 2.89000e-04, ..., 5.20000e-05,\n",
              "        2.58000e-04, 2.15000e-04],\n",
              "       ...,\n",
              "       [2.93470e-02, 8.07300e-03, 1.01000e-04, ..., 2.62000e-04,\n",
              "        3.54000e-04, 1.13000e-04],\n",
              "       [2.17460e-02, 3.09600e-03, 4.50000e-05, ..., 1.20000e-04,\n",
              "        1.29000e-04, 2.00000e-05],\n",
              "       [1.12070e-02, 2.82700e-03, 1.37000e-04, ..., 2.85000e-04,\n",
              "        4.49000e-04, 2.32000e-04]])"
            ]
          },
          "metadata": {
            "tags": []
          },
          "execution_count": 343
        }
      ]
    },
    {
      "metadata": {
        "id": "jGzKWrldTT4G",
        "colab_type": "code",
        "colab": {}
      },
      "cell_type": "code",
      "source": [
        "#Y=df_hmp[['short-term_memorability','long-term_memorability']].values  #targets\n",
        "X=X_arrHMP #input"
      ],
      "execution_count": 0,
      "outputs": []
    },
    {
      "metadata": {
        "id": "YI1QmCx3S0V9",
        "colab_type": "code",
        "colab": {}
      },
      "cell_type": "code",
      "source": [
        "#For test set prediction purposes\n",
        "\n",
        "X_train = X[0:6000]\n",
        "X_test = X[6000:]"
      ],
      "execution_count": 0,
      "outputs": []
    },
    {
      "metadata": {
        "id": "_8L8Z1z2N3vy",
        "colab_type": "text"
      },
      "cell_type": "markdown",
      "source": [
        "Splitting the data"
      ]
    },
    {
      "metadata": {
        "id": "A8KcXkTRTZL_",
        "colab_type": "code",
        "outputId": "0f79a2e3-c0dd-4b69-8e8b-71cc816e9cd9",
        "colab": {
          "base_uri": "https://localhost:8080/",
          "height": 85
        }
      },
      "cell_type": "code",
      "source": [
        "#X_train, X_test = train_test_split(X, test_size=0.2, random_state=42) \n",
        "\n",
        "print('X_train', X_train.shape)\n",
        "print('X_test', X_test.shape)\n",
        "print('Y_train', Y_train.shape)\n",
        "print('Y_test', Y_test.shape)"
      ],
      "execution_count": 0,
      "outputs": [
        {
          "output_type": "stream",
          "text": [
            "X_train (6000, 6075)\n",
            "X_test (2000, 6075)\n",
            "Y_train (6000, 2)\n",
            "Y_test (2000, 7)\n"
          ],
          "name": "stdout"
        }
      ]
    },
    {
      "metadata": {
        "id": "V8ngc8ZaTbIe",
        "colab_type": "code",
        "outputId": "b3e74378-c333-4744-a2f3-f684dea57696",
        "colab": {
          "base_uri": "https://localhost:8080/",
          "height": 34
        }
      },
      "cell_type": "code",
      "source": [
        "n_cols = X_train.shape[1]\n",
        "n_cols"
      ],
      "execution_count": 0,
      "outputs": [
        {
          "output_type": "execute_result",
          "data": {
            "text/plain": [
              "6075"
            ]
          },
          "metadata": {
            "tags": []
          },
          "execution_count": 347
        }
      ]
    },
    {
      "metadata": {
        "id": "TdDKerKnN8eW",
        "colab_type": "text"
      },
      "cell_type": "markdown",
      "source": [
        "**Adding Dense Layers**"
      ]
    },
    {
      "metadata": {
        "id": "-0nK3VhGTbz9",
        "colab_type": "code",
        "colab": {}
      },
      "cell_type": "code",
      "source": [
        "model = Sequential()\n",
        "model.add(Dense(100, activation='relu', input_shape=(n_cols,)))\n",
        "model.add(Dropout(0.5))\n",
        "# Add the second layer\n",
        "model.add(Dense(100, activation='relu'))\n",
        "model.add(Dropout(0.5))\n",
        "# Add the output layer\n",
        "model.add(Dense(2))"
      ],
      "execution_count": 0,
      "outputs": []
    },
    {
      "metadata": {
        "id": "XPzJ1s8gTfdj",
        "colab_type": "code",
        "colab": {}
      },
      "cell_type": "code",
      "source": [
        "# Compile the model\n",
        "model.compile(optimizer='adam', loss='mean_squared_error', metrics=['accuracy'])\n",
        "   \n",
        "# Define early_stopping_monitor\n",
        "early_stopping_monitor = EarlyStopping(patience=2)"
      ],
      "execution_count": 0,
      "outputs": []
    },
    {
      "metadata": {
        "id": "wwP_oNRmThmz",
        "colab_type": "code",
        "outputId": "f924cf94-e65b-47f2-c0fb-52a8ab0fda51",
        "colab": {
          "base_uri": "https://localhost:8080/",
          "height": 204
        }
      },
      "cell_type": "code",
      "source": [
        "# Fit the model\n",
        "history=model.fit(X_train, Y_train, validation_split=0.3, epochs=30, callbacks= [early_stopping_monitor])\n",
        "# Fit the model\n",
        "#history=model.fit(X_train, Y_train, validation_split=0.3, epochs=30, callbacks= [early_stopping_monitor])\n"
      ],
      "execution_count": 0,
      "outputs": [
        {
          "output_type": "stream",
          "text": [
            "Train on 4200 samples, validate on 1800 samples\n",
            "Epoch 1/30\n",
            "4200/4200 [==============================] - 3s 597us/step - loss: 0.1165 - acc: 0.6045 - val_loss: 0.0166 - val_acc: 0.7044\n",
            "Epoch 2/30\n",
            "4200/4200 [==============================] - 1s 168us/step - loss: 0.0370 - acc: 0.6045 - val_loss: 0.0145 - val_acc: 0.7044\n",
            "Epoch 3/30\n",
            "4200/4200 [==============================] - 1s 167us/step - loss: 0.0318 - acc: 0.6319 - val_loss: 0.0136 - val_acc: 0.7044\n",
            "Epoch 4/30\n",
            "4200/4200 [==============================] - 1s 170us/step - loss: 0.0276 - acc: 0.6498 - val_loss: 0.0136 - val_acc: 0.7044\n",
            "Epoch 5/30\n",
            "4200/4200 [==============================] - 1s 165us/step - loss: 0.0249 - acc: 0.6748 - val_loss: 0.0149 - val_acc: 0.7044\n"
          ],
          "name": "stdout"
        }
      ]
    },
    {
      "metadata": {
        "id": "ZJgnQ1yKOA7Z",
        "colab_type": "text"
      },
      "cell_type": "markdown",
      "source": [
        "Predictions"
      ]
    },
    {
      "metadata": {
        "id": "mCPXy3H7TjeU",
        "colab_type": "code",
        "outputId": "834b957f-3336-4d4e-d252-f0d6802417a0",
        "colab": {
          "base_uri": "https://localhost:8080/",
          "height": 295
        }
      },
      "cell_type": "code",
      "source": [
        "loss = history.history['loss']\n",
        "val_loss = history.history['val_loss']\n",
        "\n",
        "epochs = range(1,len(loss)+1)\n",
        "\n",
        "plt.plot(epochs,loss,'bo',label='Training loss')\n",
        "plt.plot(epochs,val_loss,'b',label='Validation loss')\n",
        "plt.title('Training and validation loss')\n",
        "plt.xlabel('Epochs')\n",
        "plt.ylabel('Loss')\n",
        "plt.legend()\n",
        "plt.show()"
      ],
      "execution_count": 0,
      "outputs": [
        {
          "output_type": "display_data",
          "data": {
            "image/png": "[encoded data removed]",
            "text/plain": [
              "<Figure size 432x288 with 1 Axes>"
            ]
          },
          "metadata": {
            "tags": []
          }
        }
      ]
    },
    {
      "metadata": {
        "id": "gSw0NSnKTmNS",
        "colab_type": "code",
        "outputId": "129ec1f3-ba46-4b5a-93b6-f6adeb2fd1a9",
        "colab": {
          "base_uri": "https://localhost:8080/",
          "height": 170
        }
      },
      "cell_type": "code",
      "source": [
        "#Code while working on training sets\n",
        "#predictions3 = model.predict(X_test)\n",
        "#print(predictions3)\n",
        "#Get_score(predictions3, Y_test) "
      ],
      "execution_count": 0,
      "outputs": [
        {
          "output_type": "stream",
          "text": [
            "[[0.8824937  0.8067748 ]\n",
            " [0.8534366  0.78048277]\n",
            " [0.88414556 0.8081053 ]\n",
            " ...\n",
            " [0.8750478  0.79944754]\n",
            " [0.8706015  0.79562926]\n",
            " [0.86146355 0.78789926]]\n",
            "The Spearman's correlation coefficient is: 0.272\n",
            "The Spearman's correlation coefficient is: 0.121\n"
          ],
          "name": "stdout"
        }
      ]
    },
    {
      "metadata": {
        "id": "bsSqnyUfTewh",
        "colab_type": "text"
      },
      "cell_type": "markdown",
      "source": [
        "**#Prediction Test-set Model 3(HMP features)**"
      ]
    },
    {
      "metadata": {
        "id": "s6qFHv5rTiYb",
        "colab_type": "code",
        "outputId": "b863df0b-b2b5-48d7-a074-dcdd41e7fdd9",
        "colab": {
          "base_uri": "https://localhost:8080/",
          "height": 136
        }
      },
      "cell_type": "code",
      "source": [
        "#test set predictions\n",
        "predictions3_test = model.predict(X_test)\n",
        "print(predictions3_test)"
      ],
      "execution_count": 0,
      "outputs": [
        {
          "output_type": "stream",
          "text": [
            "[[0.8055661  0.73707354]\n",
            " [0.8235383  0.7546    ]\n",
            " [0.8501699  0.7774588 ]\n",
            " ...\n",
            " [0.82657117 0.75577855]\n",
            " [0.8027139  0.7361328 ]\n",
            " [0.8261422  0.7558769 ]]\n"
          ],
          "name": "stdout"
        }
      ]
    },
    {
      "metadata": {
        "id": "l9-0JkFb_6hp",
        "colab_type": "text"
      },
      "cell_type": "markdown",
      "source": [
        "#Creating an ensemble model using simple average method"
      ]
    },
    {
      "metadata": {
        "id": "2FXkm6TmVMdx",
        "colab_type": "text"
      },
      "cell_type": "markdown",
      "source": [
        "For predicting test features"
      ]
    },
    {
      "metadata": {
        "id": "CNcI-w4OVRQz",
        "colab_type": "code",
        "colab": {}
      },
      "cell_type": "code",
      "source": [
        "predictions_test = np.add(predictions1_test,predictions2_test)\n",
        "predictions_test = np.add(predictions_test,predictions3_test)"
      ],
      "execution_count": 0,
      "outputs": []
    },
    {
      "metadata": {
        "id": "a8bo8Lr-S4WU",
        "colab_type": "code",
        "outputId": "521a474a-fa67-4896-801f-ebb43c5f454e",
        "colab": {
          "base_uri": "https://localhost:8080/",
          "height": 136
        }
      },
      "cell_type": "code",
      "source": [
        "print(predictions_test)"
      ],
      "execution_count": 0,
      "outputs": [
        {
          "output_type": "stream",
          "text": [
            "[[2.41781   2.1605349]\n",
            " [2.4567616 2.2267048]\n",
            " [2.5016837 2.243071 ]\n",
            " ...\n",
            " [2.531887  2.272954 ]\n",
            " [2.5743108 2.376608 ]\n",
            " [2.513948  2.298122 ]]\n"
          ],
          "name": "stdout"
        }
      ]
    },
    {
      "metadata": {
        "id": "qgukg5lGRJ6G",
        "colab_type": "code",
        "colab": {}
      },
      "cell_type": "code",
      "source": [
        "predictions_test = np.divide(predictions_test, 3)"
      ],
      "execution_count": 0,
      "outputs": []
    },
    {
      "metadata": {
        "id": "8DT8ON-VVwNi",
        "colab_type": "code",
        "outputId": "a803bfbd-386a-411d-d43a-e97432ce01f0",
        "colab": {
          "base_uri": "https://localhost:8080/",
          "height": 34
        }
      },
      "cell_type": "code",
      "source": [
        "predictions_test.shape"
      ],
      "execution_count": 0,
      "outputs": [
        {
          "output_type": "execute_result",
          "data": {
            "text/plain": [
              "(2000, 2)"
            ]
          },
          "metadata": {
            "tags": []
          },
          "execution_count": 359
        }
      ]
    },
    {
      "metadata": {
        "id": "wJbOj1s0WVXv",
        "colab_type": "text"
      },
      "cell_type": "markdown",
      "source": [
        "**Final Predictions using Ensemble**"
      ]
    },
    {
      "metadata": {
        "id": "v27-SAfmRmnQ",
        "colab_type": "code",
        "outputId": "4e4607c5-87f2-4e46-dd7b-9c6a72916d57",
        "colab": {
          "base_uri": "https://localhost:8080/",
          "height": 136
        }
      },
      "cell_type": "code",
      "source": [
        "print(predictions_test)"
      ],
      "execution_count": 0,
      "outputs": [
        {
          "output_type": "stream",
          "text": [
            "[[0.80593663 0.7201783 ]\n",
            " [0.81892055 0.74223495]\n",
            " [0.83389455 0.7476904 ]\n",
            " ...\n",
            " [0.8439624  0.7576513 ]\n",
            " [0.8581036  0.79220265]\n",
            " [0.83798265 0.7660406 ]]\n"
          ],
          "name": "stdout"
        }
      ]
    },
    {
      "metadata": {
        "id": "8ht82Y2ObWH5",
        "colab_type": "text"
      },
      "cell_type": "markdown",
      "source": [
        "**Extracting the results in a csv**"
      ]
    },
    {
      "metadata": {
        "id": "tM4Hnz6yWu1S",
        "colab_type": "code",
        "colab": {}
      },
      "cell_type": "code",
      "source": [
        "df_test_results = pd.DataFrame(columns = ['video', 'short-term', 'long-term'])\n",
        "df_test_results['short-term'] = predictions_test[:,0]\n",
        "df_test_results['long-term'] = predictions_test[:,1]\n",
        "df_test_results['video'] = df['video'][6000:]"
      ],
      "execution_count": 0,
      "outputs": []
    },
    {
      "metadata": {
        "id": "fKCf1CvLXv0U",
        "colab_type": "code",
        "outputId": "2c82e453-776b-4c34-eb9a-4c010f7b64f4",
        "colab": {
          "base_uri": "https://localhost:8080/",
          "height": 204
        }
      },
      "cell_type": "code",
      "source": [
        "df_test_results.head()"
      ],
      "execution_count": 0,
      "outputs": [
        {
          "output_type": "execute_result",
          "data": {
            "text/html": [
              "<div>\n",
              "<style scoped>\n",
              "    .dataframe tbody tr th:only-of-type {\n",
              "        vertical-align: middle;\n",
              "    }\n",
              "\n",
              "    .dataframe tbody tr th {\n",
              "        vertical-align: top;\n",
              "    }\n",
              "\n",
              "    .dataframe thead th {\n",
              "        text-align: right;\n",
              "    }\n",
              "</style>\n",
              "<table border=\"1\" class=\"dataframe\">\n",
              "  <thead>\n",
              "    <tr style=\"text-align: right;\">\n",
              "      <th></th>\n",
              "      <th>video</th>\n",
              "      <th>short-term</th>\n",
              "      <th>long-term</th>\n",
              "    </tr>\n",
              "  </thead>\n",
              "  <tbody>\n",
              "    <tr>\n",
              "      <th>0</th>\n",
              "      <td>video7494.webm</td>\n",
              "      <td>0.805937</td>\n",
              "      <td>0.720178</td>\n",
              "    </tr>\n",
              "    <tr>\n",
              "      <th>1</th>\n",
              "      <td>video7495.webm</td>\n",
              "      <td>0.818921</td>\n",
              "      <td>0.742235</td>\n",
              "    </tr>\n",
              "    <tr>\n",
              "      <th>2</th>\n",
              "      <td>video7496.webm</td>\n",
              "      <td>0.833895</td>\n",
              "      <td>0.747690</td>\n",
              "    </tr>\n",
              "    <tr>\n",
              "      <th>3</th>\n",
              "      <td>video7497.webm</td>\n",
              "      <td>0.816705</td>\n",
              "      <td>0.731055</td>\n",
              "    </tr>\n",
              "    <tr>\n",
              "      <th>4</th>\n",
              "      <td>video7498.webm</td>\n",
              "      <td>0.796845</td>\n",
              "      <td>0.711079</td>\n",
              "    </tr>\n",
              "  </tbody>\n",
              "</table>\n",
              "</div>"
            ],
            "text/plain": [
              "            video  short-term  long-term\n",
              "0  video7494.webm    0.805937   0.720178\n",
              "1  video7495.webm    0.818921   0.742235\n",
              "2  video7496.webm    0.833895   0.747690\n",
              "3  video7497.webm    0.816705   0.731055\n",
              "4  video7498.webm    0.796845   0.711079"
            ]
          },
          "metadata": {
            "tags": []
          },
          "execution_count": 363
        }
      ]
    },
    {
      "metadata": {
        "id": "o5L3VTarVFLV",
        "colab_type": "code",
        "colab": {}
      },
      "cell_type": "code",
      "source": [
        "df_test_results.to_csv('test-results.csv')\n",
        "from google.colab import files\n",
        "files.download(\"test-results.csv\")"
      ],
      "execution_count": 0,
      "outputs": []
    },
    {
      "metadata": {
        "id": "5Sf8tSPQRUN4",
        "colab_type": "code",
        "outputId": "bc76997e-99e1-46a8-a03e-c9f7d9b808d2",
        "colab": {
          "base_uri": "https://localhost:8080/",
          "height": 170
        }
      },
      "cell_type": "code",
      "source": [
        "#pred_out = model.predict(X_test)\n",
        "print(predictions)\n",
        "Get_score(predictions, Y_test) "
      ],
      "execution_count": 0,
      "outputs": [
        {
          "output_type": "stream",
          "text": [
            "[[0.88084483 0.78479487]\n",
            " [0.86364746 0.81410617]\n",
            " [0.8714673  0.805489  ]\n",
            " ...\n",
            " [0.89197254 0.83532816]\n",
            " [0.8510886  0.7336438 ]\n",
            " [0.8463002  0.7388862 ]]\n",
            "The Spearman's correlation coefficient is: 0.452\n",
            "The Spearman's correlation coefficient is: 0.218\n"
          ],
          "name": "stdout"
        }
      ]
    },
    {
      "metadata": {
        "id": "6vDDhw9JKks3",
        "colab_type": "text"
      },
      "cell_type": "markdown",
      "source": [
        "#Create an ensemble using Weighted Average method"
      ]
    },
    {
      "metadata": {
        "id": "i4ZmbN87WebQ",
        "colab_type": "text"
      },
      "cell_type": "markdown",
      "source": [
        "**Didn't use it for final predictions**"
      ]
    },
    {
      "metadata": {
        "id": "yi3Zoz4GRayG",
        "colab_type": "code",
        "colab": {}
      },
      "cell_type": "code",
      "source": [
        "predictions_weighted  = 0.40*predictions1 + 0.40*predictions2 + 0.10*predictions3"
      ],
      "execution_count": 0,
      "outputs": []
    },
    {
      "metadata": {
        "id": "Zfp-f_5hZlDm",
        "colab_type": "code",
        "outputId": "c1c4af0f-6ac7-4138-9755-81d59ce49aed",
        "colab": {
          "base_uri": "https://localhost:8080/",
          "height": 136
        }
      },
      "cell_type": "code",
      "source": [
        "print(predictions_weighted)"
      ],
      "execution_count": 0,
      "outputs": [
        {
          "output_type": "stream",
          "text": [
            "[[0.7922657  0.69972146]\n",
            " [0.7803459  0.74278253]\n",
            " [0.7805171  0.72415525]\n",
            " ...\n",
            " [0.80785275 0.7625596 ]\n",
            " [0.7601259  0.64168376]\n",
            " [0.7571212  0.65029365]]\n"
          ],
          "name": "stdout"
        }
      ]
    },
    {
      "metadata": {
        "id": "i_L_kXcTLNIo",
        "colab_type": "code",
        "outputId": "71c5837b-99c1-4d45-a4b0-79269dcfba55",
        "colab": {
          "base_uri": "https://localhost:8080/",
          "height": 170
        }
      },
      "cell_type": "code",
      "source": [
        "#pred_out = model.predict(X_test)\n",
        "print(predictions_weighted)\n",
        "Get_score(predictions_weighted, Y_test) # Try remember what the Spearman scores actually mean!"
      ],
      "execution_count": 0,
      "outputs": [
        {
          "output_type": "stream",
          "text": [
            "[[0.7922657  0.69972146]\n",
            " [0.7803459  0.74278253]\n",
            " [0.7805171  0.72415525]\n",
            " ...\n",
            " [0.80785275 0.7625596 ]\n",
            " [0.7601259  0.64168376]\n",
            " [0.7571212  0.65029365]]\n",
            "The Spearman's correlation coefficient is: 0.441\n",
            "The Spearman's correlation coefficient is: 0.213\n"
          ],
          "name": "stdout"
        }
      ]
    },
    {
      "metadata": {
        "id": "LOPE-8_g8Zxt",
        "colab_type": "code",
        "colab": {}
      },
      "cell_type": "code",
      "source": [
        ""
      ],
      "execution_count": 0,
      "outputs": []
    }
  ]
}