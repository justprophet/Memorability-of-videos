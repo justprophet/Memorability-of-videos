{
  "nbformat": 4,
  "nbformat_minor": 0,
  "metadata": {
    "colab": {
      "name": "MemorabilityWithInception.ipynb",
      "version": "0.3.2",
      "provenance": [],
      "include_colab_link": true
    },
    "kernelspec": {
      "name": "python3",
      "display_name": "Python 3"
    },
    "accelerator": "GPU"
  },
  "cells": [
    {
      "cell_type": "markdown",
      "metadata": {
        "id": "view-in-github",
        "colab_type": "text"
      },
      "source": [
        "<a href=\"https://colab.research.google.com/github/justprophet/Memorability-of-videos/blob/master/code/MemorabilityWithInception.ipynb\" target=\"_parent\"><img src=\"https://colab.research.google.com/assets/colab-badge.svg\" alt=\"Open In Colab\"/></a>"
      ]
    },
    {
      "metadata": {
        "id": "TStfJY0s5tql",
        "colab_type": "code",
        "colab": {}
      },
      "cell_type": "code",
      "source": [
        "def read_HMP(fname):\n",
        "    \"\"\"Scan HMP(Histogram of Motion Patterns) features from file\"\"\"\n",
        "    with open(fname) as f:\n",
        "        for line in f:\n",
        "            pairs=line.split()\n",
        "            HMP_temp = { int(p.split(':')[0]) : float(p.split(':')[1]) for p in pairs}\n",
        "    # there are 6075 bins, fill zeros\n",
        "    HMP = np.zeros(6075)\n",
        "    for idx in HMP_temp.keys():\n",
        "        HMP[idx-1] = HMP_temp[idx]            \n",
        "    return HMP"
      ],
      "execution_count": 0,
      "outputs": []
    },
    {
      "metadata": {
        "id": "Xx9iGflW51vR",
        "colab_type": "code",
        "outputId": "fdb13d58-693f-48e3-bc01-aa08867f8e10",
        "colab": {
          "base_uri": "https://localhost:8080/",
          "height": 122
        }
      },
      "cell_type": "code",
      "source": [
        "from google.colab import drive\n",
        "import os\n",
        "drive.mount('/content/drive/')\n",
        "os.chdir('/content/drive/My Drive/Semester 2/Machine Learning/Assignment/')"
      ],
      "execution_count": 2,
      "outputs": [
        {
          "output_type": "stream",
          "text": [
            "Go to this URL in a browser: https://accounts.google.com/o/oauth2/auth?client_id=947318989803-6bn6qk8qdgf4n4g3pfee6491hc0brc4i.apps.googleusercontent.com&redirect_uri=urn%3Aietf%3Awg%3Aoauth%3A2.0%3Aoob&scope=email%20https%3A%2F%2Fwww.googleapis.com%2Fauth%2Fdocs.test%20https%3A%2F%2Fwww.googleapis.com%2Fauth%2Fdrive%20https%3A%2F%2Fwww.googleapis.com%2Fauth%2Fdrive.photos.readonly%20https%3A%2F%2Fwww.googleapis.com%2Fauth%2Fpeopleapi.readonly&response_type=code\n",
            "\n",
            "Enter your authorization code:\n",
            "··········\n",
            "Mounted at /content/drive/\n"
          ],
          "name": "stdout"
        }
      ]
    },
    {
      "metadata": {
        "id": "5vBK7QOM6DO2",
        "colab_type": "code",
        "outputId": "eadb481a-9c12-4ecd-b631-d7428c7d34b3",
        "colab": {
          "base_uri": "https://localhost:8080/",
          "height": 85
        }
      },
      "cell_type": "code",
      "source": [
        "!pip install pyprind"
      ],
      "execution_count": 3,
      "outputs": [
        {
          "output_type": "stream",
          "text": [
            "Collecting pyprind\n",
            "  Downloading https://files.pythonhosted.org/packages/1e/30/e76fb0c45da8aef49ea8d2a90d4e7a6877b45894c25f12fb961f009a891e/PyPrind-2.11.2-py3-none-any.whl\n",
            "Installing collected packages: pyprind\n",
            "Successfully installed pyprind-2.11.2\n"
          ],
          "name": "stdout"
        }
      ]
    },
    {
      "metadata": {
        "id": "VjHWWs2_5jac",
        "colab_type": "code",
        "outputId": "45972461-929c-4f03-a040-24010595af2e",
        "colab": {
          "base_uri": "https://localhost:8080/",
          "height": 34
        }
      },
      "cell_type": "code",
      "source": [
        "import pandas as pd\n",
        "import numpy as np\n",
        "import os\n",
        "import keras\n",
        "from keras.layers import Dense\n",
        "from keras.models import Sequential\n",
        "from keras.optimizers import SGD"
      ],
      "execution_count": 4,
      "outputs": [
        {
          "output_type": "stream",
          "text": [
            "Using TensorFlow backend.\n"
          ],
          "name": "stderr"
        }
      ]
    },
    {
      "metadata": {
        "id": "uM-lCoqKF7hh",
        "colab_type": "code",
        "colab": {}
      },
      "cell_type": "code",
      "source": [
        "from sklearn.model_selection import train_test_split"
      ],
      "execution_count": 0,
      "outputs": []
    },
    {
      "metadata": {
        "id": "rnjUDGZQGwq9",
        "colab_type": "code",
        "colab": {}
      },
      "cell_type": "code",
      "source": [
        "from keras.callbacks import EarlyStopping"
      ],
      "execution_count": 0,
      "outputs": []
    },
    {
      "metadata": {
        "id": "0mYc8Y2mG20B",
        "colab_type": "code",
        "colab": {}
      },
      "cell_type": "code",
      "source": [
        "from string import punctuation\n",
        "import pyprind\n",
        "from collections import Counter\n",
        "#from keras.preprocessing.text import Tokenizer\n",
        "import matplotlib.pyplot as plt"
      ],
      "execution_count": 0,
      "outputs": []
    },
    {
      "metadata": {
        "id": "NGkR_w5-7w-q",
        "colab_type": "code",
        "colab": {}
      },
      "cell_type": "code",
      "source": [
        "#df = pd.DataFrame(columns = [\"VideoName\", \"ArrayInfo\"])\n",
        "#df.head()"
      ],
      "execution_count": 0,
      "outputs": []
    },
    {
      "metadata": {
        "id": "ZmKiuLTI6MAS",
        "colab_type": "code",
        "colab": {}
      },
      "cell_type": "code",
      "source": [
        ""
      ],
      "execution_count": 0,
      "outputs": []
    },
    {
      "metadata": {
        "id": "0AL6kzL3_LEd",
        "colab_type": "text"
      },
      "cell_type": "markdown",
      "source": [
        "#LOAD INCEPTION FEATURES"
      ]
    },
    {
      "metadata": {
        "id": "KkMeN3pKC-sH",
        "colab_type": "code",
        "colab": {}
      },
      "cell_type": "code",
      "source": [
        "#Load Inception Features\n",
        "df = pd.DataFrame(columns = ['video', 'arrayInfo'])\n",
        "\n",
        "#dir_hmp = './dev-set/HMP'\n",
        "dir_hmp = '/content/drive/My Drive/Semester 2/Machine Learning/Assignment/dev-set/InceptionV3'\n",
        "\n",
        "for filename in os.listdir(dir_hmp):\n",
        "    if filename.endswith(\".txt\"):\n",
        "        path = os.path.join(dir_hmp, filename)\n",
        "        array = read_HMP(path)\n",
        "        if \"-56\" in filename:\n",
        "          filename.replace('-56','')\n",
        "          fileName= filename.replace(\".txt\",\".webm\")\n",
        "          df = df.append({'video': fileName, 'arrayInfo': array}, ignore_index=True)\n",
        "    else:\n",
        "        break"
      ],
      "execution_count": 0,
      "outputs": []
    },
    {
      "metadata": {
        "id": "-WdiHmqvAWuU",
        "colab_type": "code",
        "colab": {}
      },
      "cell_type": "code",
      "source": [
        "count=0\n",
        "for item in df['video']:\n",
        "  df['video'][count]=item.replace('-56.webm','.webm')\n",
        "  count = count + 1\n",
        "  "
      ],
      "execution_count": 0,
      "outputs": []
    },
    {
      "metadata": {
        "id": "ZAE5YBbNEj_y",
        "colab_type": "code",
        "colab": {}
      },
      "cell_type": "code",
      "source": [
        "# load labels and captions\n",
        "def read_caps(fname):\n",
        "    \"\"\"Load the captions into a dataframe\"\"\"\n",
        "    vn = []\n",
        "    cap = []\n",
        "    df = pd.DataFrame();\n",
        "    with open(fname) as f:\n",
        "        for line in f:\n",
        "            pairs = line.split()\n",
        "            vn.append(pairs[0])\n",
        "            cap.append(pairs[1])\n",
        "        df['video']=vn\n",
        "        df['caption']=cap\n",
        "    return df\n",
        "\n",
        "\n",
        "# load the captions\n",
        "cap_path = './dev-set_video-captions.txt'\n",
        "df_captions=read_caps(cap_path)\n",
        "\n",
        "# load the ground truth values\n",
        "label_path = './'\n",
        "labels=pd.read_csv(label_path+'dev-set_ground-truth.csv')"
      ],
      "execution_count": 0,
      "outputs": []
    },
    {
      "metadata": {
        "id": "-JdDae8GEznJ",
        "colab_type": "code",
        "outputId": "b8958035-367c-4bd2-d4ce-2dc5fdece68e",
        "colab": {
          "base_uri": "https://localhost:8080/",
          "height": 238
        }
      },
      "cell_type": "code",
      "source": [
        "df_inception = df.merge(labels,on=[\"video\"],how=\"inner\")\n",
        "df_inception.columns\n",
        "df_inception.head()"
      ],
      "execution_count": 38,
      "outputs": [
        {
          "output_type": "execute_result",
          "data": {
            "text/html": [
              "<div>\n",
              "<style scoped>\n",
              "    .dataframe tbody tr th:only-of-type {\n",
              "        vertical-align: middle;\n",
              "    }\n",
              "\n",
              "    .dataframe tbody tr th {\n",
              "        vertical-align: top;\n",
              "    }\n",
              "\n",
              "    .dataframe thead th {\n",
              "        text-align: right;\n",
              "    }\n",
              "</style>\n",
              "<table border=\"1\" class=\"dataframe\">\n",
              "  <thead>\n",
              "    <tr style=\"text-align: right;\">\n",
              "      <th></th>\n",
              "      <th>video</th>\n",
              "      <th>arrayInfo</th>\n",
              "      <th>short-term_memorability</th>\n",
              "      <th>nb_short-term_annotations</th>\n",
              "      <th>long-term_memorability</th>\n",
              "      <th>nb_long-term_annotations</th>\n",
              "    </tr>\n",
              "  </thead>\n",
              "  <tbody>\n",
              "    <tr>\n",
              "      <th>0</th>\n",
              "      <td>video7364.webm</td>\n",
              "      <td>[0.0, 0.0, 0.0, 0.0, 0.0, 0.0, 0.0, 0.0, 0.0, ...</td>\n",
              "      <td>0.891</td>\n",
              "      <td>33</td>\n",
              "      <td>0.900</td>\n",
              "      <td>10</td>\n",
              "    </tr>\n",
              "    <tr>\n",
              "      <th>1</th>\n",
              "      <td>video737.webm</td>\n",
              "      <td>[2.826083e-36, 0.0, 0.0, 0.0, 1.199688e-28, 0....</td>\n",
              "      <td>0.914</td>\n",
              "      <td>44</td>\n",
              "      <td>1.000</td>\n",
              "      <td>11</td>\n",
              "    </tr>\n",
              "    <tr>\n",
              "      <th>2</th>\n",
              "      <td>video7373.webm</td>\n",
              "      <td>[0.0, 0.0, 0.0, 0.0, 0.0, 0.0, 0.0, 0.0, 0.0, ...</td>\n",
              "      <td>0.954</td>\n",
              "      <td>31</td>\n",
              "      <td>0.917</td>\n",
              "      <td>12</td>\n",
              "    </tr>\n",
              "    <tr>\n",
              "      <th>3</th>\n",
              "      <td>video7370.webm</td>\n",
              "      <td>[2.318133e-24, 3.561454e-29, 2.048143e-24, 4.1...</td>\n",
              "      <td>0.951</td>\n",
              "      <td>33</td>\n",
              "      <td>0.938</td>\n",
              "      <td>16</td>\n",
              "    </tr>\n",
              "    <tr>\n",
              "      <th>4</th>\n",
              "      <td>video7372.webm</td>\n",
              "      <td>[1.123148e-33, 0.0, 0.0, 0.0, 5.879868e-27, 0....</td>\n",
              "      <td>0.960</td>\n",
              "      <td>47</td>\n",
              "      <td>1.000</td>\n",
              "      <td>15</td>\n",
              "    </tr>\n",
              "  </tbody>\n",
              "</table>\n",
              "</div>"
            ],
            "text/plain": [
              "            video                                          arrayInfo  \\\n",
              "0  video7364.webm  [0.0, 0.0, 0.0, 0.0, 0.0, 0.0, 0.0, 0.0, 0.0, ...   \n",
              "1   video737.webm  [2.826083e-36, 0.0, 0.0, 0.0, 1.199688e-28, 0....   \n",
              "2  video7373.webm  [0.0, 0.0, 0.0, 0.0, 0.0, 0.0, 0.0, 0.0, 0.0, ...   \n",
              "3  video7370.webm  [2.318133e-24, 3.561454e-29, 2.048143e-24, 4.1...   \n",
              "4  video7372.webm  [1.123148e-33, 0.0, 0.0, 0.0, 5.879868e-27, 0....   \n",
              "\n",
              "   short-term_memorability  nb_short-term_annotations  long-term_memorability  \\\n",
              "0                    0.891                         33                   0.900   \n",
              "1                    0.914                         44                   1.000   \n",
              "2                    0.954                         31                   0.917   \n",
              "3                    0.951                         33                   0.938   \n",
              "4                    0.960                         47                   1.000   \n",
              "\n",
              "   nb_long-term_annotations  \n",
              "0                        10  \n",
              "1                        11  \n",
              "2                        12  \n",
              "3                        16  \n",
              "4                        15  "
            ]
          },
          "metadata": {
            "tags": []
          },
          "execution_count": 38
        }
      ]
    },
    {
      "metadata": {
        "id": "pdvacE-m7kE0",
        "colab_type": "code",
        "colab": {}
      },
      "cell_type": "code",
      "source": [
        "df_inception.to_csv('inception_features.csv')"
      ],
      "execution_count": 0,
      "outputs": []
    },
    {
      "metadata": {
        "id": "VDDsVGrg86lG",
        "colab_type": "code",
        "colab": {}
      },
      "cell_type": "code",
      "source": [
        "from google.colab import files\n",
        "files.download(\"inception_features.csv\")"
      ],
      "execution_count": 0,
      "outputs": []
    },
    {
      "metadata": {
        "id": "JomlYUtGIlgp",
        "colab_type": "code",
        "outputId": "67bca215-b612-4629-f1a2-f3bf8eacd897",
        "colab": {
          "base_uri": "https://localhost:8080/",
          "height": 34
        }
      },
      "cell_type": "code",
      "source": [
        "len(df_inception['arrayInfo'][255])"
      ],
      "execution_count": 47,
      "outputs": [
        {
          "output_type": "execute_result",
          "data": {
            "text/plain": [
              "6075"
            ]
          },
          "metadata": {
            "tags": []
          },
          "execution_count": 47
        }
      ]
    },
    {
      "metadata": {
        "id": "3zVe8s3b8qyJ",
        "colab_type": "text"
      },
      "cell_type": "markdown",
      "source": [
        "#Convert into numpy array for using in deep learning model"
      ]
    },
    {
      "metadata": {
        "id": "gSSC1s__GpkN",
        "colab_type": "code",
        "outputId": "7fa5deff-0165-4dc6-8fd0-dc32abc63372",
        "colab": {
          "base_uri": "https://localhost:8080/",
          "height": 34
        }
      },
      "cell_type": "code",
      "source": [
        "result_array = np.empty((0, 6075))\n",
        "result_array"
      ],
      "execution_count": 45,
      "outputs": [
        {
          "output_type": "execute_result",
          "data": {
            "text/plain": [
              "array([], shape=(0, 6075), dtype=float64)"
            ]
          },
          "metadata": {
            "tags": []
          },
          "execution_count": 45
        }
      ]
    },
    {
      "metadata": {
        "id": "SaTBiuKlG1aj",
        "colab_type": "code",
        "colab": {}
      },
      "cell_type": "code",
      "source": [
        "for line in df_inception['arrayInfo']:\n",
        "    #result = do_stuff(line)\n",
        "    #print(len(line))\n",
        "    result_array = np.append(result_array, np.array([line]), axis = 0)"
      ],
      "execution_count": 0,
      "outputs": []
    },
    {
      "metadata": {
        "id": "S-b5V3ddzVeN",
        "colab_type": "code",
        "colab": {}
      },
      "cell_type": "code",
      "source": [
        "arrayInfo = df_inception['arrayInfo'].values"
      ],
      "execution_count": 0,
      "outputs": []
    },
    {
      "metadata": {
        "id": "CbvFQPeWFuQU",
        "colab_type": "code",
        "outputId": "58bdc975-93aa-402d-f193-9bcd3efebbf8",
        "colab": {
          "base_uri": "https://localhost:8080/",
          "height": 255
        }
      },
      "cell_type": "code",
      "source": [
        "#X_arrHMP = df_hmp['arrayInfo']\n",
        "X_arrHMP = result_array\n",
        "#X_arrHMP = df_hmp.iloc[:,1:].values\n",
        "#X_HMP = df_hmp['ArrayInfo']\n",
        "#X_arrHMP = X_arrHMP.toarray()\n",
        "print(type(X_arrHMP))\n",
        "X_arrHMP"
      ],
      "execution_count": 48,
      "outputs": [
        {
          "output_type": "stream",
          "text": [
            "<class 'numpy.ndarray'>\n"
          ],
          "name": "stdout"
        },
        {
          "output_type": "execute_result",
          "data": {
            "text/plain": [
              "array([[0.000000e+00, 0.000000e+00, 0.000000e+00, ..., 0.000000e+00,\n",
              "        0.000000e+00, 0.000000e+00],\n",
              "       [2.826083e-36, 0.000000e+00, 0.000000e+00, ..., 0.000000e+00,\n",
              "        0.000000e+00, 0.000000e+00],\n",
              "       [0.000000e+00, 0.000000e+00, 0.000000e+00, ..., 0.000000e+00,\n",
              "        0.000000e+00, 0.000000e+00],\n",
              "       ...,\n",
              "       [0.000000e+00, 0.000000e+00, 0.000000e+00, ..., 0.000000e+00,\n",
              "        0.000000e+00, 0.000000e+00],\n",
              "       [0.000000e+00, 0.000000e+00, 0.000000e+00, ..., 0.000000e+00,\n",
              "        0.000000e+00, 0.000000e+00],\n",
              "       [0.000000e+00, 0.000000e+00, 0.000000e+00, ..., 0.000000e+00,\n",
              "        0.000000e+00, 0.000000e+00]])"
            ]
          },
          "metadata": {
            "tags": []
          },
          "execution_count": 48
        }
      ]
    },
    {
      "metadata": {
        "id": "BF6FNSDjFyEi",
        "colab_type": "code",
        "colab": {}
      },
      "cell_type": "code",
      "source": [
        "Y=df_inception[['short-term_memorability','long-term_memorability']].values  #targets\n",
        "X=X_arrHMP #input"
      ],
      "execution_count": 0,
      "outputs": []
    },
    {
      "metadata": {
        "id": "MfJE7Hh_F4Hw",
        "colab_type": "code",
        "outputId": "64d48cfa-edd0-4715-8a82-5e8305bd4a95",
        "colab": {
          "base_uri": "https://localhost:8080/",
          "height": 85
        }
      },
      "cell_type": "code",
      "source": [
        "X_train, X_test, Y_train, Y_test = train_test_split(X,Y, test_size=0.2, random_state=42) # random state for reproducability\n",
        "\n",
        "print('X_train', X_train.shape)\n",
        "print('X_test', X_test.shape)\n",
        "print('Y_train', Y_train.shape)\n",
        "print('Y_test', Y_test.shape)"
      ],
      "execution_count": 69,
      "outputs": [
        {
          "output_type": "stream",
          "text": [
            "X_train (4800, 6075)\n",
            "X_test (1200, 6075)\n",
            "Y_train (4800, 2)\n",
            "Y_test (1200, 2)\n"
          ],
          "name": "stdout"
        }
      ]
    },
    {
      "metadata": {
        "id": "dEc7sQP1GTGT",
        "colab_type": "code",
        "outputId": "cea7a62d-e52d-47d8-b460-0ce7b888f2b7",
        "colab": {
          "base_uri": "https://localhost:8080/",
          "height": 34
        }
      },
      "cell_type": "code",
      "source": [
        "n_cols = X_train.shape[1]\n",
        "n_cols"
      ],
      "execution_count": 70,
      "outputs": [
        {
          "output_type": "execute_result",
          "data": {
            "text/plain": [
              "6075"
            ]
          },
          "metadata": {
            "tags": []
          },
          "execution_count": 70
        }
      ]
    },
    {
      "metadata": {
        "id": "qz4emIl3GgFh",
        "colab_type": "code",
        "colab": {}
      },
      "cell_type": "code",
      "source": [
        "model = Sequential()\n",
        "model.add(Dense(100, activation='relu', input_shape=(n_cols,)))\n",
        "# Add the second layer\n",
        "model.add(Dense(100, activation='relu'))\n",
        "# Add the output layer\n",
        "model.add(Dense(2))"
      ],
      "execution_count": 0,
      "outputs": []
    },
    {
      "metadata": {
        "id": "KOoIAjhTGlRS",
        "colab_type": "code",
        "colab": {}
      },
      "cell_type": "code",
      "source": [
        "# Compile the model\n",
        "model.compile(optimizer='adam', loss='mean_squared_error', metrics=['accuracy'])\n",
        "   \n",
        "# Define early_stopping_monitor\n",
        "early_stopping_monitor = EarlyStopping(patience=2)"
      ],
      "execution_count": 0,
      "outputs": []
    },
    {
      "metadata": {
        "id": "6hkAziJKG5_D",
        "colab_type": "code",
        "outputId": "737f0a0f-48a8-4cf3-ac42-c20b6925f04c",
        "colab": {
          "base_uri": "https://localhost:8080/",
          "height": 204
        }
      },
      "cell_type": "code",
      "source": [
        "# Fit the model\n",
        "#model.fit(X_train,Y_train,epochs=20,validation_data=(X_test,Y_test))\n",
        "# Fit the model\n",
        "history=model.fit(X_train, Y_train, validation_split=0.3, epochs=30, callbacks= [early_stopping_monitor])\n"
      ],
      "execution_count": 73,
      "outputs": [
        {
          "output_type": "stream",
          "text": [
            "Train on 3360 samples, validate on 1440 samples\n",
            "Epoch 1/30\n",
            "3360/3360 [==============================] - 1s 204us/step - loss: 0.1124 - acc: 0.6917 - val_loss: 0.0142 - val_acc: 0.6986\n",
            "Epoch 2/30\n",
            "3360/3360 [==============================] - 0s 141us/step - loss: 0.0137 - acc: 0.7042 - val_loss: 0.0144 - val_acc: 0.6986\n",
            "Epoch 3/30\n",
            "3360/3360 [==============================] - 0s 146us/step - loss: 0.0135 - acc: 0.7045 - val_loss: 0.0138 - val_acc: 0.6965\n",
            "Epoch 4/30\n",
            "3360/3360 [==============================] - 0s 142us/step - loss: 0.0136 - acc: 0.7048 - val_loss: 0.0143 - val_acc: 0.6986\n",
            "Epoch 5/30\n",
            "3360/3360 [==============================] - 0s 142us/step - loss: 0.0136 - acc: 0.7048 - val_loss: 0.0144 - val_acc: 0.6986\n"
          ],
          "name": "stdout"
        }
      ]
    },
    {
      "metadata": {
        "id": "9CNtfXwXGZYo",
        "colab_type": "code",
        "outputId": "568db6e0-25e1-48ed-c08b-31f543119db8",
        "colab": {
          "base_uri": "https://localhost:8080/",
          "height": 295
        }
      },
      "cell_type": "code",
      "source": [
        "loss = history.history['loss']\n",
        "val_loss = history.history['val_loss']\n",
        "\n",
        "epochs = range(1,len(loss)+1)\n",
        "\n",
        "plt.plot(epochs,loss,'bo',label='Training loss')\n",
        "plt.plot(epochs,val_loss,'b',label='Validation loss')\n",
        "plt.title('Training and validation loss')\n",
        "plt.xlabel('Epochs')\n",
        "plt.ylabel('Loss')\n",
        "plt.legend()\n",
        "plt.show()"
      ],
      "execution_count": 74,
      "outputs": [
        {
          "output_type": "display_data",
          "data": {
            "image/png": "[encoded data removed]",
            "text/plain": [
              "<Figure size 432x288 with 1 Axes>"
            ]
          },
          "metadata": {
            "tags": []
          }
        }
      ]
    },
    {
      "metadata": {
        "id": "izkL0J7zOolc",
        "colab_type": "code",
        "colab": {}
      },
      "cell_type": "code",
      "source": [
        "def Get_score(Y_pred,Y_true):\n",
        "    '''Calculate the Spearmann\"s correlation coefficient'''\n",
        "    Y_pred = np.squeeze(Y_pred)\n",
        "    Y_true = np.squeeze(Y_true)\n",
        "    if Y_pred.shape != Y_true.shape:\n",
        "        print('Input shapes don\\'t match!')\n",
        "    else:\n",
        "        if len(Y_pred.shape) == 1:\n",
        "            Res = pd.DataFrame({'Y_true':Y_true,'Y_pred':Y_pred})\n",
        "            score_mat = Res[['Y_true','Y_pred']].corr(method='spearman',min_periods=1)\n",
        "            print('The Spearman\\'s correlation coefficient is: %.3f' % score_mat.iloc[1][0])\n",
        "        else:\n",
        "            for ii in range(Y_pred.shape[1]):\n",
        "                Get_score(Y_pred[:,ii],Y_true[:,ii])"
      ],
      "execution_count": 0,
      "outputs": []
    },
    {
      "metadata": {
        "id": "d8GLXfmgGj7a",
        "colab_type": "code",
        "outputId": "f0291374-451f-4e4c-f57f-f340da94b397",
        "colab": {
          "base_uri": "https://localhost:8080/",
          "height": 170
        }
      },
      "cell_type": "code",
      "source": [
        "predictions = model.predict(X_test)\n",
        "print(predictions)\n",
        "Get_score(predictions, Y_test) "
      ],
      "execution_count": 76,
      "outputs": [
        {
          "output_type": "stream",
          "text": [
            "[[0.8578392  0.7510468 ]\n",
            " [0.93219817 0.855384  ]\n",
            " [0.88225585 0.7771086 ]\n",
            " ...\n",
            " [0.8853072  0.8007056 ]\n",
            " [0.8694446  0.7677684 ]\n",
            " [0.90754145 0.80323166]]\n",
            "The Spearman's correlation coefficient is: 0.080\n",
            "The Spearman's correlation coefficient is: 0.026\n"
          ],
          "name": "stdout"
        }
      ]
    },
    {
      "metadata": {
        "id": "Yf8rwzt2Rtjv",
        "colab_type": "code",
        "colab": {}
      },
      "cell_type": "code",
      "source": [
        ""
      ],
      "execution_count": 0,
      "outputs": []
    }
  ]
}